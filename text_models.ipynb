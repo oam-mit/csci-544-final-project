{
  "nbformat": 4,
  "nbformat_minor": 0,
  "metadata": {
    "colab": {
      "provenance": [],
      "toc_visible": true
    },
    "kernelspec": {
      "name": "python3",
      "display_name": "Python 3"
    },
    "language_info": {
      "name": "python"
    },
    "accelerator": "GPU",
    "gpuClass": "standard",
    "widgets": {
      "application/vnd.jupyter.widget-state+json": {
        "c91590b1d55246299dca6224a626a592": {
          "model_module": "@jupyter-widgets/controls",
          "model_name": "HBoxModel",
          "model_module_version": "1.5.0",
          "state": {
            "_dom_classes": [],
            "_model_module": "@jupyter-widgets/controls",
            "_model_module_version": "1.5.0",
            "_model_name": "HBoxModel",
            "_view_count": null,
            "_view_module": "@jupyter-widgets/controls",
            "_view_module_version": "1.5.0",
            "_view_name": "HBoxView",
            "box_style": "",
            "children": [
              "IPY_MODEL_c94046f3ec5d44ebb6f402bd00423f43",
              "IPY_MODEL_8345d026818e4c1c8e8e287735d801c5",
              "IPY_MODEL_93b153eb167e439098f0a3db907f7128"
            ],
            "layout": "IPY_MODEL_cf80fa708dba4468b0228999f98f7d3a"
          }
        },
        "c94046f3ec5d44ebb6f402bd00423f43": {
          "model_module": "@jupyter-widgets/controls",
          "model_name": "HTMLModel",
          "model_module_version": "1.5.0",
          "state": {
            "_dom_classes": [],
            "_model_module": "@jupyter-widgets/controls",
            "_model_module_version": "1.5.0",
            "_model_name": "HTMLModel",
            "_view_count": null,
            "_view_module": "@jupyter-widgets/controls",
            "_view_module_version": "1.5.0",
            "_view_name": "HTMLView",
            "description": "",
            "description_tooltip": null,
            "layout": "IPY_MODEL_51af2c43b86d44b78440fdd88d8cd397",
            "placeholder": "​",
            "style": "IPY_MODEL_ea55df651ae14c519face0c93d8fc52d",
            "value": "Downloading (…)lve/main/config.json: 100%"
          }
        },
        "8345d026818e4c1c8e8e287735d801c5": {
          "model_module": "@jupyter-widgets/controls",
          "model_name": "FloatProgressModel",
          "model_module_version": "1.5.0",
          "state": {
            "_dom_classes": [],
            "_model_module": "@jupyter-widgets/controls",
            "_model_module_version": "1.5.0",
            "_model_name": "FloatProgressModel",
            "_view_count": null,
            "_view_module": "@jupyter-widgets/controls",
            "_view_module_version": "1.5.0",
            "_view_name": "ProgressView",
            "bar_style": "success",
            "description": "",
            "description_tooltip": null,
            "layout": "IPY_MODEL_75d1ea62a6924102834a4a10abfe421d",
            "max": 570,
            "min": 0,
            "orientation": "horizontal",
            "style": "IPY_MODEL_097c45f5c23c4b0f92ed7251174d4541",
            "value": 570
          }
        },
        "93b153eb167e439098f0a3db907f7128": {
          "model_module": "@jupyter-widgets/controls",
          "model_name": "HTMLModel",
          "model_module_version": "1.5.0",
          "state": {
            "_dom_classes": [],
            "_model_module": "@jupyter-widgets/controls",
            "_model_module_version": "1.5.0",
            "_model_name": "HTMLModel",
            "_view_count": null,
            "_view_module": "@jupyter-widgets/controls",
            "_view_module_version": "1.5.0",
            "_view_name": "HTMLView",
            "description": "",
            "description_tooltip": null,
            "layout": "IPY_MODEL_4d6b69b5c00e474b9e58ff712a491c76",
            "placeholder": "​",
            "style": "IPY_MODEL_73e8ab9366f2433ab74c61cb4a77dd0e",
            "value": " 570/570 [00:00&lt;00:00, 7.63kB/s]"
          }
        },
        "cf80fa708dba4468b0228999f98f7d3a": {
          "model_module": "@jupyter-widgets/base",
          "model_name": "LayoutModel",
          "model_module_version": "1.2.0",
          "state": {
            "_model_module": "@jupyter-widgets/base",
            "_model_module_version": "1.2.0",
            "_model_name": "LayoutModel",
            "_view_count": null,
            "_view_module": "@jupyter-widgets/base",
            "_view_module_version": "1.2.0",
            "_view_name": "LayoutView",
            "align_content": null,
            "align_items": null,
            "align_self": null,
            "border": null,
            "bottom": null,
            "display": null,
            "flex": null,
            "flex_flow": null,
            "grid_area": null,
            "grid_auto_columns": null,
            "grid_auto_flow": null,
            "grid_auto_rows": null,
            "grid_column": null,
            "grid_gap": null,
            "grid_row": null,
            "grid_template_areas": null,
            "grid_template_columns": null,
            "grid_template_rows": null,
            "height": null,
            "justify_content": null,
            "justify_items": null,
            "left": null,
            "margin": null,
            "max_height": null,
            "max_width": null,
            "min_height": null,
            "min_width": null,
            "object_fit": null,
            "object_position": null,
            "order": null,
            "overflow": null,
            "overflow_x": null,
            "overflow_y": null,
            "padding": null,
            "right": null,
            "top": null,
            "visibility": null,
            "width": null
          }
        },
        "51af2c43b86d44b78440fdd88d8cd397": {
          "model_module": "@jupyter-widgets/base",
          "model_name": "LayoutModel",
          "model_module_version": "1.2.0",
          "state": {
            "_model_module": "@jupyter-widgets/base",
            "_model_module_version": "1.2.0",
            "_model_name": "LayoutModel",
            "_view_count": null,
            "_view_module": "@jupyter-widgets/base",
            "_view_module_version": "1.2.0",
            "_view_name": "LayoutView",
            "align_content": null,
            "align_items": null,
            "align_self": null,
            "border": null,
            "bottom": null,
            "display": null,
            "flex": null,
            "flex_flow": null,
            "grid_area": null,
            "grid_auto_columns": null,
            "grid_auto_flow": null,
            "grid_auto_rows": null,
            "grid_column": null,
            "grid_gap": null,
            "grid_row": null,
            "grid_template_areas": null,
            "grid_template_columns": null,
            "grid_template_rows": null,
            "height": null,
            "justify_content": null,
            "justify_items": null,
            "left": null,
            "margin": null,
            "max_height": null,
            "max_width": null,
            "min_height": null,
            "min_width": null,
            "object_fit": null,
            "object_position": null,
            "order": null,
            "overflow": null,
            "overflow_x": null,
            "overflow_y": null,
            "padding": null,
            "right": null,
            "top": null,
            "visibility": null,
            "width": null
          }
        },
        "ea55df651ae14c519face0c93d8fc52d": {
          "model_module": "@jupyter-widgets/controls",
          "model_name": "DescriptionStyleModel",
          "model_module_version": "1.5.0",
          "state": {
            "_model_module": "@jupyter-widgets/controls",
            "_model_module_version": "1.5.0",
            "_model_name": "DescriptionStyleModel",
            "_view_count": null,
            "_view_module": "@jupyter-widgets/base",
            "_view_module_version": "1.2.0",
            "_view_name": "StyleView",
            "description_width": ""
          }
        },
        "75d1ea62a6924102834a4a10abfe421d": {
          "model_module": "@jupyter-widgets/base",
          "model_name": "LayoutModel",
          "model_module_version": "1.2.0",
          "state": {
            "_model_module": "@jupyter-widgets/base",
            "_model_module_version": "1.2.0",
            "_model_name": "LayoutModel",
            "_view_count": null,
            "_view_module": "@jupyter-widgets/base",
            "_view_module_version": "1.2.0",
            "_view_name": "LayoutView",
            "align_content": null,
            "align_items": null,
            "align_self": null,
            "border": null,
            "bottom": null,
            "display": null,
            "flex": null,
            "flex_flow": null,
            "grid_area": null,
            "grid_auto_columns": null,
            "grid_auto_flow": null,
            "grid_auto_rows": null,
            "grid_column": null,
            "grid_gap": null,
            "grid_row": null,
            "grid_template_areas": null,
            "grid_template_columns": null,
            "grid_template_rows": null,
            "height": null,
            "justify_content": null,
            "justify_items": null,
            "left": null,
            "margin": null,
            "max_height": null,
            "max_width": null,
            "min_height": null,
            "min_width": null,
            "object_fit": null,
            "object_position": null,
            "order": null,
            "overflow": null,
            "overflow_x": null,
            "overflow_y": null,
            "padding": null,
            "right": null,
            "top": null,
            "visibility": null,
            "width": null
          }
        },
        "097c45f5c23c4b0f92ed7251174d4541": {
          "model_module": "@jupyter-widgets/controls",
          "model_name": "ProgressStyleModel",
          "model_module_version": "1.5.0",
          "state": {
            "_model_module": "@jupyter-widgets/controls",
            "_model_module_version": "1.5.0",
            "_model_name": "ProgressStyleModel",
            "_view_count": null,
            "_view_module": "@jupyter-widgets/base",
            "_view_module_version": "1.2.0",
            "_view_name": "StyleView",
            "bar_color": null,
            "description_width": ""
          }
        },
        "4d6b69b5c00e474b9e58ff712a491c76": {
          "model_module": "@jupyter-widgets/base",
          "model_name": "LayoutModel",
          "model_module_version": "1.2.0",
          "state": {
            "_model_module": "@jupyter-widgets/base",
            "_model_module_version": "1.2.0",
            "_model_name": "LayoutModel",
            "_view_count": null,
            "_view_module": "@jupyter-widgets/base",
            "_view_module_version": "1.2.0",
            "_view_name": "LayoutView",
            "align_content": null,
            "align_items": null,
            "align_self": null,
            "border": null,
            "bottom": null,
            "display": null,
            "flex": null,
            "flex_flow": null,
            "grid_area": null,
            "grid_auto_columns": null,
            "grid_auto_flow": null,
            "grid_auto_rows": null,
            "grid_column": null,
            "grid_gap": null,
            "grid_row": null,
            "grid_template_areas": null,
            "grid_template_columns": null,
            "grid_template_rows": null,
            "height": null,
            "justify_content": null,
            "justify_items": null,
            "left": null,
            "margin": null,
            "max_height": null,
            "max_width": null,
            "min_height": null,
            "min_width": null,
            "object_fit": null,
            "object_position": null,
            "order": null,
            "overflow": null,
            "overflow_x": null,
            "overflow_y": null,
            "padding": null,
            "right": null,
            "top": null,
            "visibility": null,
            "width": null
          }
        },
        "73e8ab9366f2433ab74c61cb4a77dd0e": {
          "model_module": "@jupyter-widgets/controls",
          "model_name": "DescriptionStyleModel",
          "model_module_version": "1.5.0",
          "state": {
            "_model_module": "@jupyter-widgets/controls",
            "_model_module_version": "1.5.0",
            "_model_name": "DescriptionStyleModel",
            "_view_count": null,
            "_view_module": "@jupyter-widgets/base",
            "_view_module_version": "1.2.0",
            "_view_name": "StyleView",
            "description_width": ""
          }
        },
        "3739eb9e3ffb456783255cfa75cc3935": {
          "model_module": "@jupyter-widgets/controls",
          "model_name": "HBoxModel",
          "model_module_version": "1.5.0",
          "state": {
            "_dom_classes": [],
            "_model_module": "@jupyter-widgets/controls",
            "_model_module_version": "1.5.0",
            "_model_name": "HBoxModel",
            "_view_count": null,
            "_view_module": "@jupyter-widgets/controls",
            "_view_module_version": "1.5.0",
            "_view_name": "HBoxView",
            "box_style": "",
            "children": [
              "IPY_MODEL_52d7bbca61284c56af4ceb19bf0af92e",
              "IPY_MODEL_9604e25c68264b2ebfa5005f05219c62",
              "IPY_MODEL_4ca46ac89bfe4ae9ab7593c574e7828e"
            ],
            "layout": "IPY_MODEL_9a705fabd6184c10b8088a4f896ebcdf"
          }
        },
        "52d7bbca61284c56af4ceb19bf0af92e": {
          "model_module": "@jupyter-widgets/controls",
          "model_name": "HTMLModel",
          "model_module_version": "1.5.0",
          "state": {
            "_dom_classes": [],
            "_model_module": "@jupyter-widgets/controls",
            "_model_module_version": "1.5.0",
            "_model_name": "HTMLModel",
            "_view_count": null,
            "_view_module": "@jupyter-widgets/controls",
            "_view_module_version": "1.5.0",
            "_view_name": "HTMLView",
            "description": "",
            "description_tooltip": null,
            "layout": "IPY_MODEL_ffcdb8b151c941b5b000bf436b413e0a",
            "placeholder": "​",
            "style": "IPY_MODEL_237ed844eded4e5a8bc777b1f33796d9",
            "value": "Downloading tf_model.h5: 100%"
          }
        },
        "9604e25c68264b2ebfa5005f05219c62": {
          "model_module": "@jupyter-widgets/controls",
          "model_name": "FloatProgressModel",
          "model_module_version": "1.5.0",
          "state": {
            "_dom_classes": [],
            "_model_module": "@jupyter-widgets/controls",
            "_model_module_version": "1.5.0",
            "_model_name": "FloatProgressModel",
            "_view_count": null,
            "_view_module": "@jupyter-widgets/controls",
            "_view_module_version": "1.5.0",
            "_view_name": "ProgressView",
            "bar_style": "success",
            "description": "",
            "description_tooltip": null,
            "layout": "IPY_MODEL_6ea99a60aeb54fcfbe75785186ff81c6",
            "max": 536063208,
            "min": 0,
            "orientation": "horizontal",
            "style": "IPY_MODEL_5cc7c8c2de244c8abde9f1d685caa372",
            "value": 536063208
          }
        },
        "4ca46ac89bfe4ae9ab7593c574e7828e": {
          "model_module": "@jupyter-widgets/controls",
          "model_name": "HTMLModel",
          "model_module_version": "1.5.0",
          "state": {
            "_dom_classes": [],
            "_model_module": "@jupyter-widgets/controls",
            "_model_module_version": "1.5.0",
            "_model_name": "HTMLModel",
            "_view_count": null,
            "_view_module": "@jupyter-widgets/controls",
            "_view_module_version": "1.5.0",
            "_view_name": "HTMLView",
            "description": "",
            "description_tooltip": null,
            "layout": "IPY_MODEL_4b20d50b6afb4700a8672191a51513ee",
            "placeholder": "​",
            "style": "IPY_MODEL_120ff23268184187be718e816bdf92e0",
            "value": " 536M/536M [00:06&lt;00:00, 79.8MB/s]"
          }
        },
        "9a705fabd6184c10b8088a4f896ebcdf": {
          "model_module": "@jupyter-widgets/base",
          "model_name": "LayoutModel",
          "model_module_version": "1.2.0",
          "state": {
            "_model_module": "@jupyter-widgets/base",
            "_model_module_version": "1.2.0",
            "_model_name": "LayoutModel",
            "_view_count": null,
            "_view_module": "@jupyter-widgets/base",
            "_view_module_version": "1.2.0",
            "_view_name": "LayoutView",
            "align_content": null,
            "align_items": null,
            "align_self": null,
            "border": null,
            "bottom": null,
            "display": null,
            "flex": null,
            "flex_flow": null,
            "grid_area": null,
            "grid_auto_columns": null,
            "grid_auto_flow": null,
            "grid_auto_rows": null,
            "grid_column": null,
            "grid_gap": null,
            "grid_row": null,
            "grid_template_areas": null,
            "grid_template_columns": null,
            "grid_template_rows": null,
            "height": null,
            "justify_content": null,
            "justify_items": null,
            "left": null,
            "margin": null,
            "max_height": null,
            "max_width": null,
            "min_height": null,
            "min_width": null,
            "object_fit": null,
            "object_position": null,
            "order": null,
            "overflow": null,
            "overflow_x": null,
            "overflow_y": null,
            "padding": null,
            "right": null,
            "top": null,
            "visibility": null,
            "width": null
          }
        },
        "ffcdb8b151c941b5b000bf436b413e0a": {
          "model_module": "@jupyter-widgets/base",
          "model_name": "LayoutModel",
          "model_module_version": "1.2.0",
          "state": {
            "_model_module": "@jupyter-widgets/base",
            "_model_module_version": "1.2.0",
            "_model_name": "LayoutModel",
            "_view_count": null,
            "_view_module": "@jupyter-widgets/base",
            "_view_module_version": "1.2.0",
            "_view_name": "LayoutView",
            "align_content": null,
            "align_items": null,
            "align_self": null,
            "border": null,
            "bottom": null,
            "display": null,
            "flex": null,
            "flex_flow": null,
            "grid_area": null,
            "grid_auto_columns": null,
            "grid_auto_flow": null,
            "grid_auto_rows": null,
            "grid_column": null,
            "grid_gap": null,
            "grid_row": null,
            "grid_template_areas": null,
            "grid_template_columns": null,
            "grid_template_rows": null,
            "height": null,
            "justify_content": null,
            "justify_items": null,
            "left": null,
            "margin": null,
            "max_height": null,
            "max_width": null,
            "min_height": null,
            "min_width": null,
            "object_fit": null,
            "object_position": null,
            "order": null,
            "overflow": null,
            "overflow_x": null,
            "overflow_y": null,
            "padding": null,
            "right": null,
            "top": null,
            "visibility": null,
            "width": null
          }
        },
        "237ed844eded4e5a8bc777b1f33796d9": {
          "model_module": "@jupyter-widgets/controls",
          "model_name": "DescriptionStyleModel",
          "model_module_version": "1.5.0",
          "state": {
            "_model_module": "@jupyter-widgets/controls",
            "_model_module_version": "1.5.0",
            "_model_name": "DescriptionStyleModel",
            "_view_count": null,
            "_view_module": "@jupyter-widgets/base",
            "_view_module_version": "1.2.0",
            "_view_name": "StyleView",
            "description_width": ""
          }
        },
        "6ea99a60aeb54fcfbe75785186ff81c6": {
          "model_module": "@jupyter-widgets/base",
          "model_name": "LayoutModel",
          "model_module_version": "1.2.0",
          "state": {
            "_model_module": "@jupyter-widgets/base",
            "_model_module_version": "1.2.0",
            "_model_name": "LayoutModel",
            "_view_count": null,
            "_view_module": "@jupyter-widgets/base",
            "_view_module_version": "1.2.0",
            "_view_name": "LayoutView",
            "align_content": null,
            "align_items": null,
            "align_self": null,
            "border": null,
            "bottom": null,
            "display": null,
            "flex": null,
            "flex_flow": null,
            "grid_area": null,
            "grid_auto_columns": null,
            "grid_auto_flow": null,
            "grid_auto_rows": null,
            "grid_column": null,
            "grid_gap": null,
            "grid_row": null,
            "grid_template_areas": null,
            "grid_template_columns": null,
            "grid_template_rows": null,
            "height": null,
            "justify_content": null,
            "justify_items": null,
            "left": null,
            "margin": null,
            "max_height": null,
            "max_width": null,
            "min_height": null,
            "min_width": null,
            "object_fit": null,
            "object_position": null,
            "order": null,
            "overflow": null,
            "overflow_x": null,
            "overflow_y": null,
            "padding": null,
            "right": null,
            "top": null,
            "visibility": null,
            "width": null
          }
        },
        "5cc7c8c2de244c8abde9f1d685caa372": {
          "model_module": "@jupyter-widgets/controls",
          "model_name": "ProgressStyleModel",
          "model_module_version": "1.5.0",
          "state": {
            "_model_module": "@jupyter-widgets/controls",
            "_model_module_version": "1.5.0",
            "_model_name": "ProgressStyleModel",
            "_view_count": null,
            "_view_module": "@jupyter-widgets/base",
            "_view_module_version": "1.2.0",
            "_view_name": "StyleView",
            "bar_color": null,
            "description_width": ""
          }
        },
        "4b20d50b6afb4700a8672191a51513ee": {
          "model_module": "@jupyter-widgets/base",
          "model_name": "LayoutModel",
          "model_module_version": "1.2.0",
          "state": {
            "_model_module": "@jupyter-widgets/base",
            "_model_module_version": "1.2.0",
            "_model_name": "LayoutModel",
            "_view_count": null,
            "_view_module": "@jupyter-widgets/base",
            "_view_module_version": "1.2.0",
            "_view_name": "LayoutView",
            "align_content": null,
            "align_items": null,
            "align_self": null,
            "border": null,
            "bottom": null,
            "display": null,
            "flex": null,
            "flex_flow": null,
            "grid_area": null,
            "grid_auto_columns": null,
            "grid_auto_flow": null,
            "grid_auto_rows": null,
            "grid_column": null,
            "grid_gap": null,
            "grid_row": null,
            "grid_template_areas": null,
            "grid_template_columns": null,
            "grid_template_rows": null,
            "height": null,
            "justify_content": null,
            "justify_items": null,
            "left": null,
            "margin": null,
            "max_height": null,
            "max_width": null,
            "min_height": null,
            "min_width": null,
            "object_fit": null,
            "object_position": null,
            "order": null,
            "overflow": null,
            "overflow_x": null,
            "overflow_y": null,
            "padding": null,
            "right": null,
            "top": null,
            "visibility": null,
            "width": null
          }
        },
        "120ff23268184187be718e816bdf92e0": {
          "model_module": "@jupyter-widgets/controls",
          "model_name": "DescriptionStyleModel",
          "model_module_version": "1.5.0",
          "state": {
            "_model_module": "@jupyter-widgets/controls",
            "_model_module_version": "1.5.0",
            "_model_name": "DescriptionStyleModel",
            "_view_count": null,
            "_view_module": "@jupyter-widgets/base",
            "_view_module_version": "1.2.0",
            "_view_name": "StyleView",
            "description_width": ""
          }
        },
        "b3428c7878bc4994a8d0b2ad5269effd": {
          "model_module": "@jupyter-widgets/controls",
          "model_name": "HBoxModel",
          "model_module_version": "1.5.0",
          "state": {
            "_dom_classes": [],
            "_model_module": "@jupyter-widgets/controls",
            "_model_module_version": "1.5.0",
            "_model_name": "HBoxModel",
            "_view_count": null,
            "_view_module": "@jupyter-widgets/controls",
            "_view_module_version": "1.5.0",
            "_view_name": "HBoxView",
            "box_style": "",
            "children": [
              "IPY_MODEL_fac9415c02414bc9891a84e5a9b32a7f",
              "IPY_MODEL_5c29e09b208141e0b075e12dfd51728f",
              "IPY_MODEL_5bb2383069f846e7ac1e2a841bbdfb25"
            ],
            "layout": "IPY_MODEL_8e670105845546f6a87e71e875af25a9"
          }
        },
        "fac9415c02414bc9891a84e5a9b32a7f": {
          "model_module": "@jupyter-widgets/controls",
          "model_name": "HTMLModel",
          "model_module_version": "1.5.0",
          "state": {
            "_dom_classes": [],
            "_model_module": "@jupyter-widgets/controls",
            "_model_module_version": "1.5.0",
            "_model_name": "HTMLModel",
            "_view_count": null,
            "_view_module": "@jupyter-widgets/controls",
            "_view_module_version": "1.5.0",
            "_view_name": "HTMLView",
            "description": "",
            "description_tooltip": null,
            "layout": "IPY_MODEL_bc3eb2babad24429b66ff4e84a168e38",
            "placeholder": "​",
            "style": "IPY_MODEL_a1868cb121e44d41aa036d7b38d72fd8",
            "value": "Downloading (…)solve/main/vocab.txt: 100%"
          }
        },
        "5c29e09b208141e0b075e12dfd51728f": {
          "model_module": "@jupyter-widgets/controls",
          "model_name": "FloatProgressModel",
          "model_module_version": "1.5.0",
          "state": {
            "_dom_classes": [],
            "_model_module": "@jupyter-widgets/controls",
            "_model_module_version": "1.5.0",
            "_model_name": "FloatProgressModel",
            "_view_count": null,
            "_view_module": "@jupyter-widgets/controls",
            "_view_module_version": "1.5.0",
            "_view_name": "ProgressView",
            "bar_style": "success",
            "description": "",
            "description_tooltip": null,
            "layout": "IPY_MODEL_c8c0ac14b06a483caab1f03366be515e",
            "max": 231508,
            "min": 0,
            "orientation": "horizontal",
            "style": "IPY_MODEL_df64e3e27b4044b98b066b2071c975af",
            "value": 231508
          }
        },
        "5bb2383069f846e7ac1e2a841bbdfb25": {
          "model_module": "@jupyter-widgets/controls",
          "model_name": "HTMLModel",
          "model_module_version": "1.5.0",
          "state": {
            "_dom_classes": [],
            "_model_module": "@jupyter-widgets/controls",
            "_model_module_version": "1.5.0",
            "_model_name": "HTMLModel",
            "_view_count": null,
            "_view_module": "@jupyter-widgets/controls",
            "_view_module_version": "1.5.0",
            "_view_name": "HTMLView",
            "description": "",
            "description_tooltip": null,
            "layout": "IPY_MODEL_ca7068ea04b94f68b6cd6af9ce219453",
            "placeholder": "​",
            "style": "IPY_MODEL_c49903109503432aa0dd79f00903f29c",
            "value": " 232k/232k [00:00&lt;00:00, 1.67MB/s]"
          }
        },
        "8e670105845546f6a87e71e875af25a9": {
          "model_module": "@jupyter-widgets/base",
          "model_name": "LayoutModel",
          "model_module_version": "1.2.0",
          "state": {
            "_model_module": "@jupyter-widgets/base",
            "_model_module_version": "1.2.0",
            "_model_name": "LayoutModel",
            "_view_count": null,
            "_view_module": "@jupyter-widgets/base",
            "_view_module_version": "1.2.0",
            "_view_name": "LayoutView",
            "align_content": null,
            "align_items": null,
            "align_self": null,
            "border": null,
            "bottom": null,
            "display": null,
            "flex": null,
            "flex_flow": null,
            "grid_area": null,
            "grid_auto_columns": null,
            "grid_auto_flow": null,
            "grid_auto_rows": null,
            "grid_column": null,
            "grid_gap": null,
            "grid_row": null,
            "grid_template_areas": null,
            "grid_template_columns": null,
            "grid_template_rows": null,
            "height": null,
            "justify_content": null,
            "justify_items": null,
            "left": null,
            "margin": null,
            "max_height": null,
            "max_width": null,
            "min_height": null,
            "min_width": null,
            "object_fit": null,
            "object_position": null,
            "order": null,
            "overflow": null,
            "overflow_x": null,
            "overflow_y": null,
            "padding": null,
            "right": null,
            "top": null,
            "visibility": null,
            "width": null
          }
        },
        "bc3eb2babad24429b66ff4e84a168e38": {
          "model_module": "@jupyter-widgets/base",
          "model_name": "LayoutModel",
          "model_module_version": "1.2.0",
          "state": {
            "_model_module": "@jupyter-widgets/base",
            "_model_module_version": "1.2.0",
            "_model_name": "LayoutModel",
            "_view_count": null,
            "_view_module": "@jupyter-widgets/base",
            "_view_module_version": "1.2.0",
            "_view_name": "LayoutView",
            "align_content": null,
            "align_items": null,
            "align_self": null,
            "border": null,
            "bottom": null,
            "display": null,
            "flex": null,
            "flex_flow": null,
            "grid_area": null,
            "grid_auto_columns": null,
            "grid_auto_flow": null,
            "grid_auto_rows": null,
            "grid_column": null,
            "grid_gap": null,
            "grid_row": null,
            "grid_template_areas": null,
            "grid_template_columns": null,
            "grid_template_rows": null,
            "height": null,
            "justify_content": null,
            "justify_items": null,
            "left": null,
            "margin": null,
            "max_height": null,
            "max_width": null,
            "min_height": null,
            "min_width": null,
            "object_fit": null,
            "object_position": null,
            "order": null,
            "overflow": null,
            "overflow_x": null,
            "overflow_y": null,
            "padding": null,
            "right": null,
            "top": null,
            "visibility": null,
            "width": null
          }
        },
        "a1868cb121e44d41aa036d7b38d72fd8": {
          "model_module": "@jupyter-widgets/controls",
          "model_name": "DescriptionStyleModel",
          "model_module_version": "1.5.0",
          "state": {
            "_model_module": "@jupyter-widgets/controls",
            "_model_module_version": "1.5.0",
            "_model_name": "DescriptionStyleModel",
            "_view_count": null,
            "_view_module": "@jupyter-widgets/base",
            "_view_module_version": "1.2.0",
            "_view_name": "StyleView",
            "description_width": ""
          }
        },
        "c8c0ac14b06a483caab1f03366be515e": {
          "model_module": "@jupyter-widgets/base",
          "model_name": "LayoutModel",
          "model_module_version": "1.2.0",
          "state": {
            "_model_module": "@jupyter-widgets/base",
            "_model_module_version": "1.2.0",
            "_model_name": "LayoutModel",
            "_view_count": null,
            "_view_module": "@jupyter-widgets/base",
            "_view_module_version": "1.2.0",
            "_view_name": "LayoutView",
            "align_content": null,
            "align_items": null,
            "align_self": null,
            "border": null,
            "bottom": null,
            "display": null,
            "flex": null,
            "flex_flow": null,
            "grid_area": null,
            "grid_auto_columns": null,
            "grid_auto_flow": null,
            "grid_auto_rows": null,
            "grid_column": null,
            "grid_gap": null,
            "grid_row": null,
            "grid_template_areas": null,
            "grid_template_columns": null,
            "grid_template_rows": null,
            "height": null,
            "justify_content": null,
            "justify_items": null,
            "left": null,
            "margin": null,
            "max_height": null,
            "max_width": null,
            "min_height": null,
            "min_width": null,
            "object_fit": null,
            "object_position": null,
            "order": null,
            "overflow": null,
            "overflow_x": null,
            "overflow_y": null,
            "padding": null,
            "right": null,
            "top": null,
            "visibility": null,
            "width": null
          }
        },
        "df64e3e27b4044b98b066b2071c975af": {
          "model_module": "@jupyter-widgets/controls",
          "model_name": "ProgressStyleModel",
          "model_module_version": "1.5.0",
          "state": {
            "_model_module": "@jupyter-widgets/controls",
            "_model_module_version": "1.5.0",
            "_model_name": "ProgressStyleModel",
            "_view_count": null,
            "_view_module": "@jupyter-widgets/base",
            "_view_module_version": "1.2.0",
            "_view_name": "StyleView",
            "bar_color": null,
            "description_width": ""
          }
        },
        "ca7068ea04b94f68b6cd6af9ce219453": {
          "model_module": "@jupyter-widgets/base",
          "model_name": "LayoutModel",
          "model_module_version": "1.2.0",
          "state": {
            "_model_module": "@jupyter-widgets/base",
            "_model_module_version": "1.2.0",
            "_model_name": "LayoutModel",
            "_view_count": null,
            "_view_module": "@jupyter-widgets/base",
            "_view_module_version": "1.2.0",
            "_view_name": "LayoutView",
            "align_content": null,
            "align_items": null,
            "align_self": null,
            "border": null,
            "bottom": null,
            "display": null,
            "flex": null,
            "flex_flow": null,
            "grid_area": null,
            "grid_auto_columns": null,
            "grid_auto_flow": null,
            "grid_auto_rows": null,
            "grid_column": null,
            "grid_gap": null,
            "grid_row": null,
            "grid_template_areas": null,
            "grid_template_columns": null,
            "grid_template_rows": null,
            "height": null,
            "justify_content": null,
            "justify_items": null,
            "left": null,
            "margin": null,
            "max_height": null,
            "max_width": null,
            "min_height": null,
            "min_width": null,
            "object_fit": null,
            "object_position": null,
            "order": null,
            "overflow": null,
            "overflow_x": null,
            "overflow_y": null,
            "padding": null,
            "right": null,
            "top": null,
            "visibility": null,
            "width": null
          }
        },
        "c49903109503432aa0dd79f00903f29c": {
          "model_module": "@jupyter-widgets/controls",
          "model_name": "DescriptionStyleModel",
          "model_module_version": "1.5.0",
          "state": {
            "_model_module": "@jupyter-widgets/controls",
            "_model_module_version": "1.5.0",
            "_model_name": "DescriptionStyleModel",
            "_view_count": null,
            "_view_module": "@jupyter-widgets/base",
            "_view_module_version": "1.2.0",
            "_view_name": "StyleView",
            "description_width": ""
          }
        },
        "14652dd468e94a1ea57298e3db38a637": {
          "model_module": "@jupyter-widgets/controls",
          "model_name": "HBoxModel",
          "model_module_version": "1.5.0",
          "state": {
            "_dom_classes": [],
            "_model_module": "@jupyter-widgets/controls",
            "_model_module_version": "1.5.0",
            "_model_name": "HBoxModel",
            "_view_count": null,
            "_view_module": "@jupyter-widgets/controls",
            "_view_module_version": "1.5.0",
            "_view_name": "HBoxView",
            "box_style": "",
            "children": [
              "IPY_MODEL_728a914eff6b4cae8aa086130cfc5945",
              "IPY_MODEL_8e6cb37c565146ed9390c48ca9179a47",
              "IPY_MODEL_2774a9ef5f114f009cdad108367ca3f8"
            ],
            "layout": "IPY_MODEL_a911d0be96d94126b1cd994cf883b7a5"
          }
        },
        "728a914eff6b4cae8aa086130cfc5945": {
          "model_module": "@jupyter-widgets/controls",
          "model_name": "HTMLModel",
          "model_module_version": "1.5.0",
          "state": {
            "_dom_classes": [],
            "_model_module": "@jupyter-widgets/controls",
            "_model_module_version": "1.5.0",
            "_model_name": "HTMLModel",
            "_view_count": null,
            "_view_module": "@jupyter-widgets/controls",
            "_view_module_version": "1.5.0",
            "_view_name": "HTMLView",
            "description": "",
            "description_tooltip": null,
            "layout": "IPY_MODEL_aad99df7bf214614953a7e0729a02804",
            "placeholder": "​",
            "style": "IPY_MODEL_89e40874541443c1b428869001a2a7f7",
            "value": "Downloading (…)okenizer_config.json: 100%"
          }
        },
        "8e6cb37c565146ed9390c48ca9179a47": {
          "model_module": "@jupyter-widgets/controls",
          "model_name": "FloatProgressModel",
          "model_module_version": "1.5.0",
          "state": {
            "_dom_classes": [],
            "_model_module": "@jupyter-widgets/controls",
            "_model_module_version": "1.5.0",
            "_model_name": "FloatProgressModel",
            "_view_count": null,
            "_view_module": "@jupyter-widgets/controls",
            "_view_module_version": "1.5.0",
            "_view_name": "ProgressView",
            "bar_style": "success",
            "description": "",
            "description_tooltip": null,
            "layout": "IPY_MODEL_28ee8b3aaec24e54a1d5b0b83b03d9c4",
            "max": 28,
            "min": 0,
            "orientation": "horizontal",
            "style": "IPY_MODEL_5754db4ee1884fd696378ae4929887d2",
            "value": 28
          }
        },
        "2774a9ef5f114f009cdad108367ca3f8": {
          "model_module": "@jupyter-widgets/controls",
          "model_name": "HTMLModel",
          "model_module_version": "1.5.0",
          "state": {
            "_dom_classes": [],
            "_model_module": "@jupyter-widgets/controls",
            "_model_module_version": "1.5.0",
            "_model_name": "HTMLModel",
            "_view_count": null,
            "_view_module": "@jupyter-widgets/controls",
            "_view_module_version": "1.5.0",
            "_view_name": "HTMLView",
            "description": "",
            "description_tooltip": null,
            "layout": "IPY_MODEL_52fd5b749cdc4fa982670de2ed0162f2",
            "placeholder": "​",
            "style": "IPY_MODEL_b538c0fde04e4c26aea5d70360e8d50f",
            "value": " 28.0/28.0 [00:00&lt;00:00, 474B/s]"
          }
        },
        "a911d0be96d94126b1cd994cf883b7a5": {
          "model_module": "@jupyter-widgets/base",
          "model_name": "LayoutModel",
          "model_module_version": "1.2.0",
          "state": {
            "_model_module": "@jupyter-widgets/base",
            "_model_module_version": "1.2.0",
            "_model_name": "LayoutModel",
            "_view_count": null,
            "_view_module": "@jupyter-widgets/base",
            "_view_module_version": "1.2.0",
            "_view_name": "LayoutView",
            "align_content": null,
            "align_items": null,
            "align_self": null,
            "border": null,
            "bottom": null,
            "display": null,
            "flex": null,
            "flex_flow": null,
            "grid_area": null,
            "grid_auto_columns": null,
            "grid_auto_flow": null,
            "grid_auto_rows": null,
            "grid_column": null,
            "grid_gap": null,
            "grid_row": null,
            "grid_template_areas": null,
            "grid_template_columns": null,
            "grid_template_rows": null,
            "height": null,
            "justify_content": null,
            "justify_items": null,
            "left": null,
            "margin": null,
            "max_height": null,
            "max_width": null,
            "min_height": null,
            "min_width": null,
            "object_fit": null,
            "object_position": null,
            "order": null,
            "overflow": null,
            "overflow_x": null,
            "overflow_y": null,
            "padding": null,
            "right": null,
            "top": null,
            "visibility": null,
            "width": null
          }
        },
        "aad99df7bf214614953a7e0729a02804": {
          "model_module": "@jupyter-widgets/base",
          "model_name": "LayoutModel",
          "model_module_version": "1.2.0",
          "state": {
            "_model_module": "@jupyter-widgets/base",
            "_model_module_version": "1.2.0",
            "_model_name": "LayoutModel",
            "_view_count": null,
            "_view_module": "@jupyter-widgets/base",
            "_view_module_version": "1.2.0",
            "_view_name": "LayoutView",
            "align_content": null,
            "align_items": null,
            "align_self": null,
            "border": null,
            "bottom": null,
            "display": null,
            "flex": null,
            "flex_flow": null,
            "grid_area": null,
            "grid_auto_columns": null,
            "grid_auto_flow": null,
            "grid_auto_rows": null,
            "grid_column": null,
            "grid_gap": null,
            "grid_row": null,
            "grid_template_areas": null,
            "grid_template_columns": null,
            "grid_template_rows": null,
            "height": null,
            "justify_content": null,
            "justify_items": null,
            "left": null,
            "margin": null,
            "max_height": null,
            "max_width": null,
            "min_height": null,
            "min_width": null,
            "object_fit": null,
            "object_position": null,
            "order": null,
            "overflow": null,
            "overflow_x": null,
            "overflow_y": null,
            "padding": null,
            "right": null,
            "top": null,
            "visibility": null,
            "width": null
          }
        },
        "89e40874541443c1b428869001a2a7f7": {
          "model_module": "@jupyter-widgets/controls",
          "model_name": "DescriptionStyleModel",
          "model_module_version": "1.5.0",
          "state": {
            "_model_module": "@jupyter-widgets/controls",
            "_model_module_version": "1.5.0",
            "_model_name": "DescriptionStyleModel",
            "_view_count": null,
            "_view_module": "@jupyter-widgets/base",
            "_view_module_version": "1.2.0",
            "_view_name": "StyleView",
            "description_width": ""
          }
        },
        "28ee8b3aaec24e54a1d5b0b83b03d9c4": {
          "model_module": "@jupyter-widgets/base",
          "model_name": "LayoutModel",
          "model_module_version": "1.2.0",
          "state": {
            "_model_module": "@jupyter-widgets/base",
            "_model_module_version": "1.2.0",
            "_model_name": "LayoutModel",
            "_view_count": null,
            "_view_module": "@jupyter-widgets/base",
            "_view_module_version": "1.2.0",
            "_view_name": "LayoutView",
            "align_content": null,
            "align_items": null,
            "align_self": null,
            "border": null,
            "bottom": null,
            "display": null,
            "flex": null,
            "flex_flow": null,
            "grid_area": null,
            "grid_auto_columns": null,
            "grid_auto_flow": null,
            "grid_auto_rows": null,
            "grid_column": null,
            "grid_gap": null,
            "grid_row": null,
            "grid_template_areas": null,
            "grid_template_columns": null,
            "grid_template_rows": null,
            "height": null,
            "justify_content": null,
            "justify_items": null,
            "left": null,
            "margin": null,
            "max_height": null,
            "max_width": null,
            "min_height": null,
            "min_width": null,
            "object_fit": null,
            "object_position": null,
            "order": null,
            "overflow": null,
            "overflow_x": null,
            "overflow_y": null,
            "padding": null,
            "right": null,
            "top": null,
            "visibility": null,
            "width": null
          }
        },
        "5754db4ee1884fd696378ae4929887d2": {
          "model_module": "@jupyter-widgets/controls",
          "model_name": "ProgressStyleModel",
          "model_module_version": "1.5.0",
          "state": {
            "_model_module": "@jupyter-widgets/controls",
            "_model_module_version": "1.5.0",
            "_model_name": "ProgressStyleModel",
            "_view_count": null,
            "_view_module": "@jupyter-widgets/base",
            "_view_module_version": "1.2.0",
            "_view_name": "StyleView",
            "bar_color": null,
            "description_width": ""
          }
        },
        "52fd5b749cdc4fa982670de2ed0162f2": {
          "model_module": "@jupyter-widgets/base",
          "model_name": "LayoutModel",
          "model_module_version": "1.2.0",
          "state": {
            "_model_module": "@jupyter-widgets/base",
            "_model_module_version": "1.2.0",
            "_model_name": "LayoutModel",
            "_view_count": null,
            "_view_module": "@jupyter-widgets/base",
            "_view_module_version": "1.2.0",
            "_view_name": "LayoutView",
            "align_content": null,
            "align_items": null,
            "align_self": null,
            "border": null,
            "bottom": null,
            "display": null,
            "flex": null,
            "flex_flow": null,
            "grid_area": null,
            "grid_auto_columns": null,
            "grid_auto_flow": null,
            "grid_auto_rows": null,
            "grid_column": null,
            "grid_gap": null,
            "grid_row": null,
            "grid_template_areas": null,
            "grid_template_columns": null,
            "grid_template_rows": null,
            "height": null,
            "justify_content": null,
            "justify_items": null,
            "left": null,
            "margin": null,
            "max_height": null,
            "max_width": null,
            "min_height": null,
            "min_width": null,
            "object_fit": null,
            "object_position": null,
            "order": null,
            "overflow": null,
            "overflow_x": null,
            "overflow_y": null,
            "padding": null,
            "right": null,
            "top": null,
            "visibility": null,
            "width": null
          }
        },
        "b538c0fde04e4c26aea5d70360e8d50f": {
          "model_module": "@jupyter-widgets/controls",
          "model_name": "DescriptionStyleModel",
          "model_module_version": "1.5.0",
          "state": {
            "_model_module": "@jupyter-widgets/controls",
            "_model_module_version": "1.5.0",
            "_model_name": "DescriptionStyleModel",
            "_view_count": null,
            "_view_module": "@jupyter-widgets/base",
            "_view_module_version": "1.2.0",
            "_view_name": "StyleView",
            "description_width": ""
          }
        },
        "cc219c26e2a74b089d3e48f1f437b565": {
          "model_module": "@jupyter-widgets/controls",
          "model_name": "HBoxModel",
          "model_module_version": "1.5.0",
          "state": {
            "_dom_classes": [],
            "_model_module": "@jupyter-widgets/controls",
            "_model_module_version": "1.5.0",
            "_model_name": "HBoxModel",
            "_view_count": null,
            "_view_module": "@jupyter-widgets/controls",
            "_view_module_version": "1.5.0",
            "_view_name": "HBoxView",
            "box_style": "",
            "children": [
              "IPY_MODEL_4594ea6554ea4bb2ae3df91dd4473694",
              "IPY_MODEL_e9a91c27b3864c38be46aa39c4b47742",
              "IPY_MODEL_7c91c1bb7526424aa839af16e522aab3"
            ],
            "layout": "IPY_MODEL_092d6aa745cf4d16be8ff8e19c0e3c8c"
          }
        },
        "4594ea6554ea4bb2ae3df91dd4473694": {
          "model_module": "@jupyter-widgets/controls",
          "model_name": "HTMLModel",
          "model_module_version": "1.5.0",
          "state": {
            "_dom_classes": [],
            "_model_module": "@jupyter-widgets/controls",
            "_model_module_version": "1.5.0",
            "_model_name": "HTMLModel",
            "_view_count": null,
            "_view_module": "@jupyter-widgets/controls",
            "_view_module_version": "1.5.0",
            "_view_name": "HTMLView",
            "description": "",
            "description_tooltip": null,
            "layout": "IPY_MODEL_8a0eea112f0846268846af899bda5c91",
            "placeholder": "​",
            "style": "IPY_MODEL_6a74c8e8397d4e3cae01b5c00604c9b5",
            "value": "Downloading pytorch_model.bin: 100%"
          }
        },
        "e9a91c27b3864c38be46aa39c4b47742": {
          "model_module": "@jupyter-widgets/controls",
          "model_name": "FloatProgressModel",
          "model_module_version": "1.5.0",
          "state": {
            "_dom_classes": [],
            "_model_module": "@jupyter-widgets/controls",
            "_model_module_version": "1.5.0",
            "_model_name": "FloatProgressModel",
            "_view_count": null,
            "_view_module": "@jupyter-widgets/controls",
            "_view_module_version": "1.5.0",
            "_view_name": "ProgressView",
            "bar_style": "success",
            "description": "",
            "description_tooltip": null,
            "layout": "IPY_MODEL_36260bc0476d438a98ca110b9921175b",
            "max": 440473133,
            "min": 0,
            "orientation": "horizontal",
            "style": "IPY_MODEL_9a059a01ea7b4b268c8f13f3b41fe3d3",
            "value": 440473133
          }
        },
        "7c91c1bb7526424aa839af16e522aab3": {
          "model_module": "@jupyter-widgets/controls",
          "model_name": "HTMLModel",
          "model_module_version": "1.5.0",
          "state": {
            "_dom_classes": [],
            "_model_module": "@jupyter-widgets/controls",
            "_model_module_version": "1.5.0",
            "_model_name": "HTMLModel",
            "_view_count": null,
            "_view_module": "@jupyter-widgets/controls",
            "_view_module_version": "1.5.0",
            "_view_name": "HTMLView",
            "description": "",
            "description_tooltip": null,
            "layout": "IPY_MODEL_7d5bc2e25cbe4e739e244db21247e5a1",
            "placeholder": "​",
            "style": "IPY_MODEL_ca4268b41e424abd965b3e96ecf299e5",
            "value": " 440M/440M [00:06&lt;00:00, 47.1MB/s]"
          }
        },
        "092d6aa745cf4d16be8ff8e19c0e3c8c": {
          "model_module": "@jupyter-widgets/base",
          "model_name": "LayoutModel",
          "model_module_version": "1.2.0",
          "state": {
            "_model_module": "@jupyter-widgets/base",
            "_model_module_version": "1.2.0",
            "_model_name": "LayoutModel",
            "_view_count": null,
            "_view_module": "@jupyter-widgets/base",
            "_view_module_version": "1.2.0",
            "_view_name": "LayoutView",
            "align_content": null,
            "align_items": null,
            "align_self": null,
            "border": null,
            "bottom": null,
            "display": null,
            "flex": null,
            "flex_flow": null,
            "grid_area": null,
            "grid_auto_columns": null,
            "grid_auto_flow": null,
            "grid_auto_rows": null,
            "grid_column": null,
            "grid_gap": null,
            "grid_row": null,
            "grid_template_areas": null,
            "grid_template_columns": null,
            "grid_template_rows": null,
            "height": null,
            "justify_content": null,
            "justify_items": null,
            "left": null,
            "margin": null,
            "max_height": null,
            "max_width": null,
            "min_height": null,
            "min_width": null,
            "object_fit": null,
            "object_position": null,
            "order": null,
            "overflow": null,
            "overflow_x": null,
            "overflow_y": null,
            "padding": null,
            "right": null,
            "top": null,
            "visibility": null,
            "width": null
          }
        },
        "8a0eea112f0846268846af899bda5c91": {
          "model_module": "@jupyter-widgets/base",
          "model_name": "LayoutModel",
          "model_module_version": "1.2.0",
          "state": {
            "_model_module": "@jupyter-widgets/base",
            "_model_module_version": "1.2.0",
            "_model_name": "LayoutModel",
            "_view_count": null,
            "_view_module": "@jupyter-widgets/base",
            "_view_module_version": "1.2.0",
            "_view_name": "LayoutView",
            "align_content": null,
            "align_items": null,
            "align_self": null,
            "border": null,
            "bottom": null,
            "display": null,
            "flex": null,
            "flex_flow": null,
            "grid_area": null,
            "grid_auto_columns": null,
            "grid_auto_flow": null,
            "grid_auto_rows": null,
            "grid_column": null,
            "grid_gap": null,
            "grid_row": null,
            "grid_template_areas": null,
            "grid_template_columns": null,
            "grid_template_rows": null,
            "height": null,
            "justify_content": null,
            "justify_items": null,
            "left": null,
            "margin": null,
            "max_height": null,
            "max_width": null,
            "min_height": null,
            "min_width": null,
            "object_fit": null,
            "object_position": null,
            "order": null,
            "overflow": null,
            "overflow_x": null,
            "overflow_y": null,
            "padding": null,
            "right": null,
            "top": null,
            "visibility": null,
            "width": null
          }
        },
        "6a74c8e8397d4e3cae01b5c00604c9b5": {
          "model_module": "@jupyter-widgets/controls",
          "model_name": "DescriptionStyleModel",
          "model_module_version": "1.5.0",
          "state": {
            "_model_module": "@jupyter-widgets/controls",
            "_model_module_version": "1.5.0",
            "_model_name": "DescriptionStyleModel",
            "_view_count": null,
            "_view_module": "@jupyter-widgets/base",
            "_view_module_version": "1.2.0",
            "_view_name": "StyleView",
            "description_width": ""
          }
        },
        "36260bc0476d438a98ca110b9921175b": {
          "model_module": "@jupyter-widgets/base",
          "model_name": "LayoutModel",
          "model_module_version": "1.2.0",
          "state": {
            "_model_module": "@jupyter-widgets/base",
            "_model_module_version": "1.2.0",
            "_model_name": "LayoutModel",
            "_view_count": null,
            "_view_module": "@jupyter-widgets/base",
            "_view_module_version": "1.2.0",
            "_view_name": "LayoutView",
            "align_content": null,
            "align_items": null,
            "align_self": null,
            "border": null,
            "bottom": null,
            "display": null,
            "flex": null,
            "flex_flow": null,
            "grid_area": null,
            "grid_auto_columns": null,
            "grid_auto_flow": null,
            "grid_auto_rows": null,
            "grid_column": null,
            "grid_gap": null,
            "grid_row": null,
            "grid_template_areas": null,
            "grid_template_columns": null,
            "grid_template_rows": null,
            "height": null,
            "justify_content": null,
            "justify_items": null,
            "left": null,
            "margin": null,
            "max_height": null,
            "max_width": null,
            "min_height": null,
            "min_width": null,
            "object_fit": null,
            "object_position": null,
            "order": null,
            "overflow": null,
            "overflow_x": null,
            "overflow_y": null,
            "padding": null,
            "right": null,
            "top": null,
            "visibility": null,
            "width": null
          }
        },
        "9a059a01ea7b4b268c8f13f3b41fe3d3": {
          "model_module": "@jupyter-widgets/controls",
          "model_name": "ProgressStyleModel",
          "model_module_version": "1.5.0",
          "state": {
            "_model_module": "@jupyter-widgets/controls",
            "_model_module_version": "1.5.0",
            "_model_name": "ProgressStyleModel",
            "_view_count": null,
            "_view_module": "@jupyter-widgets/base",
            "_view_module_version": "1.2.0",
            "_view_name": "StyleView",
            "bar_color": null,
            "description_width": ""
          }
        },
        "7d5bc2e25cbe4e739e244db21247e5a1": {
          "model_module": "@jupyter-widgets/base",
          "model_name": "LayoutModel",
          "model_module_version": "1.2.0",
          "state": {
            "_model_module": "@jupyter-widgets/base",
            "_model_module_version": "1.2.0",
            "_model_name": "LayoutModel",
            "_view_count": null,
            "_view_module": "@jupyter-widgets/base",
            "_view_module_version": "1.2.0",
            "_view_name": "LayoutView",
            "align_content": null,
            "align_items": null,
            "align_self": null,
            "border": null,
            "bottom": null,
            "display": null,
            "flex": null,
            "flex_flow": null,
            "grid_area": null,
            "grid_auto_columns": null,
            "grid_auto_flow": null,
            "grid_auto_rows": null,
            "grid_column": null,
            "grid_gap": null,
            "grid_row": null,
            "grid_template_areas": null,
            "grid_template_columns": null,
            "grid_template_rows": null,
            "height": null,
            "justify_content": null,
            "justify_items": null,
            "left": null,
            "margin": null,
            "max_height": null,
            "max_width": null,
            "min_height": null,
            "min_width": null,
            "object_fit": null,
            "object_position": null,
            "order": null,
            "overflow": null,
            "overflow_x": null,
            "overflow_y": null,
            "padding": null,
            "right": null,
            "top": null,
            "visibility": null,
            "width": null
          }
        },
        "ca4268b41e424abd965b3e96ecf299e5": {
          "model_module": "@jupyter-widgets/controls",
          "model_name": "DescriptionStyleModel",
          "model_module_version": "1.5.0",
          "state": {
            "_model_module": "@jupyter-widgets/controls",
            "_model_module_version": "1.5.0",
            "_model_name": "DescriptionStyleModel",
            "_view_count": null,
            "_view_module": "@jupyter-widgets/base",
            "_view_module_version": "1.2.0",
            "_view_name": "StyleView",
            "description_width": ""
          }
        }
      }
    }
  },
  "cells": [
    {
      "cell_type": "code",
      "execution_count": null,
      "metadata": {
        "id": "YwoboDbPkVki"
      },
      "outputs": [],
      "source": [
        "import pandas as pd\n",
        "import numpy as np"
      ]
    },
    {
      "cell_type": "code",
      "source": [
        "df = pd.read_csv(r'/content/drive/MyDrive/IEMOCAP_DataFrame.csv')"
      ],
      "metadata": {
        "id": "gjJoJKuxk9LR"
      },
      "execution_count": null,
      "outputs": []
    },
    {
      "cell_type": "code",
      "source": [
        "df.head()"
      ],
      "metadata": {
        "colab": {
          "base_uri": "https://localhost:8080/",
          "height": 337
        },
        "id": "kks6VfSplDli",
        "outputId": "a4cda1f1-4e18-4c50-b616-bf7ecba85aa0"
      },
      "execution_count": null,
      "outputs": [
        {
          "output_type": "execute_result",
          "data": {
            "text/plain": [
              "   Unnamed: 0                   ID            Timestamp  \\\n",
              "0           0  Ses01F_impro01_F000    [6.2901 - 8.2357]   \n",
              "1           1  Ses01F_impro01_F001  [10.0100 - 11.3925]   \n",
              "2           2  Ses01F_impro01_F002  [14.8872 - 18.0175]   \n",
              "3           3  Ses01F_impro01_F003  [19.2900 - 20.7875]   \n",
              "4           4  Ses01F_impro01_F004  [21.3257 - 24.7400]   \n",
              "\n",
              "                                                Text Emotion  Valence  \\\n",
              "0                                         Excuse me.     neu      2.5   \n",
              "1                                              Yeah.     neu      2.5   \n",
              "2                                Is there a problem?     neu      2.5   \n",
              "3                                           You did.     xxx      2.5   \n",
              "4  You were standing at the beginning and you dir...     xxx      2.5   \n",
              "\n",
              "   Activation  Dominance  \n",
              "0         2.5        2.5  \n",
              "1         2.5        2.5  \n",
              "2         2.5        2.5  \n",
              "3         3.0        3.0  \n",
              "4         3.0        2.5  "
            ],
            "text/html": [
              "\n",
              "  <div id=\"df-4ff2c650-d2ac-460b-9d04-a6cb301c33aa\">\n",
              "    <div class=\"colab-df-container\">\n",
              "      <div>\n",
              "<style scoped>\n",
              "    .dataframe tbody tr th:only-of-type {\n",
              "        vertical-align: middle;\n",
              "    }\n",
              "\n",
              "    .dataframe tbody tr th {\n",
              "        vertical-align: top;\n",
              "    }\n",
              "\n",
              "    .dataframe thead th {\n",
              "        text-align: right;\n",
              "    }\n",
              "</style>\n",
              "<table border=\"1\" class=\"dataframe\">\n",
              "  <thead>\n",
              "    <tr style=\"text-align: right;\">\n",
              "      <th></th>\n",
              "      <th>Unnamed: 0</th>\n",
              "      <th>ID</th>\n",
              "      <th>Timestamp</th>\n",
              "      <th>Text</th>\n",
              "      <th>Emotion</th>\n",
              "      <th>Valence</th>\n",
              "      <th>Activation</th>\n",
              "      <th>Dominance</th>\n",
              "    </tr>\n",
              "  </thead>\n",
              "  <tbody>\n",
              "    <tr>\n",
              "      <th>0</th>\n",
              "      <td>0</td>\n",
              "      <td>Ses01F_impro01_F000</td>\n",
              "      <td>[6.2901 - 8.2357]</td>\n",
              "      <td>Excuse me.</td>\n",
              "      <td>neu</td>\n",
              "      <td>2.5</td>\n",
              "      <td>2.5</td>\n",
              "      <td>2.5</td>\n",
              "    </tr>\n",
              "    <tr>\n",
              "      <th>1</th>\n",
              "      <td>1</td>\n",
              "      <td>Ses01F_impro01_F001</td>\n",
              "      <td>[10.0100 - 11.3925]</td>\n",
              "      <td>Yeah.</td>\n",
              "      <td>neu</td>\n",
              "      <td>2.5</td>\n",
              "      <td>2.5</td>\n",
              "      <td>2.5</td>\n",
              "    </tr>\n",
              "    <tr>\n",
              "      <th>2</th>\n",
              "      <td>2</td>\n",
              "      <td>Ses01F_impro01_F002</td>\n",
              "      <td>[14.8872 - 18.0175]</td>\n",
              "      <td>Is there a problem?</td>\n",
              "      <td>neu</td>\n",
              "      <td>2.5</td>\n",
              "      <td>2.5</td>\n",
              "      <td>2.5</td>\n",
              "    </tr>\n",
              "    <tr>\n",
              "      <th>3</th>\n",
              "      <td>3</td>\n",
              "      <td>Ses01F_impro01_F003</td>\n",
              "      <td>[19.2900 - 20.7875]</td>\n",
              "      <td>You did.</td>\n",
              "      <td>xxx</td>\n",
              "      <td>2.5</td>\n",
              "      <td>3.0</td>\n",
              "      <td>3.0</td>\n",
              "    </tr>\n",
              "    <tr>\n",
              "      <th>4</th>\n",
              "      <td>4</td>\n",
              "      <td>Ses01F_impro01_F004</td>\n",
              "      <td>[21.3257 - 24.7400]</td>\n",
              "      <td>You were standing at the beginning and you dir...</td>\n",
              "      <td>xxx</td>\n",
              "      <td>2.5</td>\n",
              "      <td>3.0</td>\n",
              "      <td>2.5</td>\n",
              "    </tr>\n",
              "  </tbody>\n",
              "</table>\n",
              "</div>\n",
              "      <button class=\"colab-df-convert\" onclick=\"convertToInteractive('df-4ff2c650-d2ac-460b-9d04-a6cb301c33aa')\"\n",
              "              title=\"Convert this dataframe to an interactive table.\"\n",
              "              style=\"display:none;\">\n",
              "        \n",
              "  <svg xmlns=\"http://www.w3.org/2000/svg\" height=\"24px\"viewBox=\"0 0 24 24\"\n",
              "       width=\"24px\">\n",
              "    <path d=\"M0 0h24v24H0V0z\" fill=\"none\"/>\n",
              "    <path d=\"M18.56 5.44l.94 2.06.94-2.06 2.06-.94-2.06-.94-.94-2.06-.94 2.06-2.06.94zm-11 1L8.5 8.5l.94-2.06 2.06-.94-2.06-.94L8.5 2.5l-.94 2.06-2.06.94zm10 10l.94 2.06.94-2.06 2.06-.94-2.06-.94-.94-2.06-.94 2.06-2.06.94z\"/><path d=\"M17.41 7.96l-1.37-1.37c-.4-.4-.92-.59-1.43-.59-.52 0-1.04.2-1.43.59L10.3 9.45l-7.72 7.72c-.78.78-.78 2.05 0 2.83L4 21.41c.39.39.9.59 1.41.59.51 0 1.02-.2 1.41-.59l7.78-7.78 2.81-2.81c.8-.78.8-2.07 0-2.86zM5.41 20L4 18.59l7.72-7.72 1.47 1.35L5.41 20z\"/>\n",
              "  </svg>\n",
              "      </button>\n",
              "      \n",
              "  <style>\n",
              "    .colab-df-container {\n",
              "      display:flex;\n",
              "      flex-wrap:wrap;\n",
              "      gap: 12px;\n",
              "    }\n",
              "\n",
              "    .colab-df-convert {\n",
              "      background-color: #E8F0FE;\n",
              "      border: none;\n",
              "      border-radius: 50%;\n",
              "      cursor: pointer;\n",
              "      display: none;\n",
              "      fill: #1967D2;\n",
              "      height: 32px;\n",
              "      padding: 0 0 0 0;\n",
              "      width: 32px;\n",
              "    }\n",
              "\n",
              "    .colab-df-convert:hover {\n",
              "      background-color: #E2EBFA;\n",
              "      box-shadow: 0px 1px 2px rgba(60, 64, 67, 0.3), 0px 1px 3px 1px rgba(60, 64, 67, 0.15);\n",
              "      fill: #174EA6;\n",
              "    }\n",
              "\n",
              "    [theme=dark] .colab-df-convert {\n",
              "      background-color: #3B4455;\n",
              "      fill: #D2E3FC;\n",
              "    }\n",
              "\n",
              "    [theme=dark] .colab-df-convert:hover {\n",
              "      background-color: #434B5C;\n",
              "      box-shadow: 0px 1px 3px 1px rgba(0, 0, 0, 0.15);\n",
              "      filter: drop-shadow(0px 1px 2px rgba(0, 0, 0, 0.3));\n",
              "      fill: #FFFFFF;\n",
              "    }\n",
              "  </style>\n",
              "\n",
              "      <script>\n",
              "        const buttonEl =\n",
              "          document.querySelector('#df-4ff2c650-d2ac-460b-9d04-a6cb301c33aa button.colab-df-convert');\n",
              "        buttonEl.style.display =\n",
              "          google.colab.kernel.accessAllowed ? 'block' : 'none';\n",
              "\n",
              "        async function convertToInteractive(key) {\n",
              "          const element = document.querySelector('#df-4ff2c650-d2ac-460b-9d04-a6cb301c33aa');\n",
              "          const dataTable =\n",
              "            await google.colab.kernel.invokeFunction('convertToInteractive',\n",
              "                                                     [key], {});\n",
              "          if (!dataTable) return;\n",
              "\n",
              "          const docLinkHtml = 'Like what you see? Visit the ' +\n",
              "            '<a target=\"_blank\" href=https://colab.research.google.com/notebooks/data_table.ipynb>data table notebook</a>'\n",
              "            + ' to learn more about interactive tables.';\n",
              "          element.innerHTML = '';\n",
              "          dataTable['output_type'] = 'display_data';\n",
              "          await google.colab.output.renderOutput(dataTable, element);\n",
              "          const docLink = document.createElement('div');\n",
              "          docLink.innerHTML = docLinkHtml;\n",
              "          element.appendChild(docLink);\n",
              "        }\n",
              "      </script>\n",
              "    </div>\n",
              "  </div>\n",
              "  "
            ]
          },
          "metadata": {},
          "execution_count": 27
        }
      ]
    },
    {
      "cell_type": "code",
      "source": [
        "df.size"
      ],
      "metadata": {
        "colab": {
          "base_uri": "https://localhost:8080/"
        },
        "id": "eDOZYkG1OAx3",
        "outputId": "9ec7b87f-677d-459b-b8a0-bce96985ea27"
      },
      "execution_count": null,
      "outputs": [
        {
          "output_type": "execute_result",
          "data": {
            "text/plain": [
              "14552"
            ]
          },
          "metadata": {},
          "execution_count": 28
        }
      ]
    },
    {
      "cell_type": "code",
      "source": [
        "# Removing values where emotion is \"xxx\"\n",
        "df_emotion = df[df.Emotion!=\"xxx\"]"
      ],
      "metadata": {
        "id": "_EtGVvlSlE_v"
      },
      "execution_count": null,
      "outputs": []
    },
    {
      "cell_type": "code",
      "source": [
        "df_emotion.size"
      ],
      "metadata": {
        "colab": {
          "base_uri": "https://localhost:8080/"
        },
        "id": "bPvvY_FSOFyE",
        "outputId": "869b780a-94c5-4d7a-e146-c385f6134792"
      },
      "execution_count": null,
      "outputs": [
        {
          "output_type": "execute_result",
          "data": {
            "text/plain": [
              "11232"
            ]
          },
          "metadata": {},
          "execution_count": 30
        }
      ]
    },
    {
      "cell_type": "code",
      "source": [
        "df_emotion.head()"
      ],
      "metadata": {
        "colab": {
          "base_uri": "https://localhost:8080/",
          "height": 250
        },
        "id": "A0szMxI2liDE",
        "outputId": "71a358c2-2ad9-4448-900d-ae1c0ff04b9e"
      },
      "execution_count": null,
      "outputs": [
        {
          "output_type": "execute_result",
          "data": {
            "text/plain": [
              "   Unnamed: 0                   ID            Timestamp  \\\n",
              "0           0  Ses01F_impro01_F000    [6.2901 - 8.2357]   \n",
              "1           1  Ses01F_impro01_F001  [10.0100 - 11.3925]   \n",
              "2           2  Ses01F_impro01_F002  [14.8872 - 18.0175]   \n",
              "5           5  Ses01F_impro01_F005  [27.4600 - 31.4900]   \n",
              "6           6  Ses01F_impro01_F006  [38.9650 - 43.5900]   \n",
              "\n",
              "                                                Text Emotion  Valence  \\\n",
              "0                                         Excuse me.     neu      2.5   \n",
              "1                                              Yeah.     neu      2.5   \n",
              "2                                Is there a problem?     neu      2.5   \n",
              "5        Well what's the problem?  Let me change it.     neu      2.5   \n",
              "6  What?  I'm getting an ID.  This is why I'm her...     fru      2.0   \n",
              "\n",
              "   Activation  Dominance  \n",
              "0         2.5        2.5  \n",
              "1         2.5        2.5  \n",
              "2         2.5        2.5  \n",
              "5         3.5        2.0  \n",
              "6         3.5        3.5  "
            ],
            "text/html": [
              "\n",
              "  <div id=\"df-e9b9a447-b09e-4ec9-a4f2-ba44e3efc39c\">\n",
              "    <div class=\"colab-df-container\">\n",
              "      <div>\n",
              "<style scoped>\n",
              "    .dataframe tbody tr th:only-of-type {\n",
              "        vertical-align: middle;\n",
              "    }\n",
              "\n",
              "    .dataframe tbody tr th {\n",
              "        vertical-align: top;\n",
              "    }\n",
              "\n",
              "    .dataframe thead th {\n",
              "        text-align: right;\n",
              "    }\n",
              "</style>\n",
              "<table border=\"1\" class=\"dataframe\">\n",
              "  <thead>\n",
              "    <tr style=\"text-align: right;\">\n",
              "      <th></th>\n",
              "      <th>Unnamed: 0</th>\n",
              "      <th>ID</th>\n",
              "      <th>Timestamp</th>\n",
              "      <th>Text</th>\n",
              "      <th>Emotion</th>\n",
              "      <th>Valence</th>\n",
              "      <th>Activation</th>\n",
              "      <th>Dominance</th>\n",
              "    </tr>\n",
              "  </thead>\n",
              "  <tbody>\n",
              "    <tr>\n",
              "      <th>0</th>\n",
              "      <td>0</td>\n",
              "      <td>Ses01F_impro01_F000</td>\n",
              "      <td>[6.2901 - 8.2357]</td>\n",
              "      <td>Excuse me.</td>\n",
              "      <td>neu</td>\n",
              "      <td>2.5</td>\n",
              "      <td>2.5</td>\n",
              "      <td>2.5</td>\n",
              "    </tr>\n",
              "    <tr>\n",
              "      <th>1</th>\n",
              "      <td>1</td>\n",
              "      <td>Ses01F_impro01_F001</td>\n",
              "      <td>[10.0100 - 11.3925]</td>\n",
              "      <td>Yeah.</td>\n",
              "      <td>neu</td>\n",
              "      <td>2.5</td>\n",
              "      <td>2.5</td>\n",
              "      <td>2.5</td>\n",
              "    </tr>\n",
              "    <tr>\n",
              "      <th>2</th>\n",
              "      <td>2</td>\n",
              "      <td>Ses01F_impro01_F002</td>\n",
              "      <td>[14.8872 - 18.0175]</td>\n",
              "      <td>Is there a problem?</td>\n",
              "      <td>neu</td>\n",
              "      <td>2.5</td>\n",
              "      <td>2.5</td>\n",
              "      <td>2.5</td>\n",
              "    </tr>\n",
              "    <tr>\n",
              "      <th>5</th>\n",
              "      <td>5</td>\n",
              "      <td>Ses01F_impro01_F005</td>\n",
              "      <td>[27.4600 - 31.4900]</td>\n",
              "      <td>Well what's the problem?  Let me change it.</td>\n",
              "      <td>neu</td>\n",
              "      <td>2.5</td>\n",
              "      <td>3.5</td>\n",
              "      <td>2.0</td>\n",
              "    </tr>\n",
              "    <tr>\n",
              "      <th>6</th>\n",
              "      <td>6</td>\n",
              "      <td>Ses01F_impro01_F006</td>\n",
              "      <td>[38.9650 - 43.5900]</td>\n",
              "      <td>What?  I'm getting an ID.  This is why I'm her...</td>\n",
              "      <td>fru</td>\n",
              "      <td>2.0</td>\n",
              "      <td>3.5</td>\n",
              "      <td>3.5</td>\n",
              "    </tr>\n",
              "  </tbody>\n",
              "</table>\n",
              "</div>\n",
              "      <button class=\"colab-df-convert\" onclick=\"convertToInteractive('df-e9b9a447-b09e-4ec9-a4f2-ba44e3efc39c')\"\n",
              "              title=\"Convert this dataframe to an interactive table.\"\n",
              "              style=\"display:none;\">\n",
              "        \n",
              "  <svg xmlns=\"http://www.w3.org/2000/svg\" height=\"24px\"viewBox=\"0 0 24 24\"\n",
              "       width=\"24px\">\n",
              "    <path d=\"M0 0h24v24H0V0z\" fill=\"none\"/>\n",
              "    <path d=\"M18.56 5.44l.94 2.06.94-2.06 2.06-.94-2.06-.94-.94-2.06-.94 2.06-2.06.94zm-11 1L8.5 8.5l.94-2.06 2.06-.94-2.06-.94L8.5 2.5l-.94 2.06-2.06.94zm10 10l.94 2.06.94-2.06 2.06-.94-2.06-.94-.94-2.06-.94 2.06-2.06.94z\"/><path d=\"M17.41 7.96l-1.37-1.37c-.4-.4-.92-.59-1.43-.59-.52 0-1.04.2-1.43.59L10.3 9.45l-7.72 7.72c-.78.78-.78 2.05 0 2.83L4 21.41c.39.39.9.59 1.41.59.51 0 1.02-.2 1.41-.59l7.78-7.78 2.81-2.81c.8-.78.8-2.07 0-2.86zM5.41 20L4 18.59l7.72-7.72 1.47 1.35L5.41 20z\"/>\n",
              "  </svg>\n",
              "      </button>\n",
              "      \n",
              "  <style>\n",
              "    .colab-df-container {\n",
              "      display:flex;\n",
              "      flex-wrap:wrap;\n",
              "      gap: 12px;\n",
              "    }\n",
              "\n",
              "    .colab-df-convert {\n",
              "      background-color: #E8F0FE;\n",
              "      border: none;\n",
              "      border-radius: 50%;\n",
              "      cursor: pointer;\n",
              "      display: none;\n",
              "      fill: #1967D2;\n",
              "      height: 32px;\n",
              "      padding: 0 0 0 0;\n",
              "      width: 32px;\n",
              "    }\n",
              "\n",
              "    .colab-df-convert:hover {\n",
              "      background-color: #E2EBFA;\n",
              "      box-shadow: 0px 1px 2px rgba(60, 64, 67, 0.3), 0px 1px 3px 1px rgba(60, 64, 67, 0.15);\n",
              "      fill: #174EA6;\n",
              "    }\n",
              "\n",
              "    [theme=dark] .colab-df-convert {\n",
              "      background-color: #3B4455;\n",
              "      fill: #D2E3FC;\n",
              "    }\n",
              "\n",
              "    [theme=dark] .colab-df-convert:hover {\n",
              "      background-color: #434B5C;\n",
              "      box-shadow: 0px 1px 3px 1px rgba(0, 0, 0, 0.15);\n",
              "      filter: drop-shadow(0px 1px 2px rgba(0, 0, 0, 0.3));\n",
              "      fill: #FFFFFF;\n",
              "    }\n",
              "  </style>\n",
              "\n",
              "      <script>\n",
              "        const buttonEl =\n",
              "          document.querySelector('#df-e9b9a447-b09e-4ec9-a4f2-ba44e3efc39c button.colab-df-convert');\n",
              "        buttonEl.style.display =\n",
              "          google.colab.kernel.accessAllowed ? 'block' : 'none';\n",
              "\n",
              "        async function convertToInteractive(key) {\n",
              "          const element = document.querySelector('#df-e9b9a447-b09e-4ec9-a4f2-ba44e3efc39c');\n",
              "          const dataTable =\n",
              "            await google.colab.kernel.invokeFunction('convertToInteractive',\n",
              "                                                     [key], {});\n",
              "          if (!dataTable) return;\n",
              "\n",
              "          const docLinkHtml = 'Like what you see? Visit the ' +\n",
              "            '<a target=\"_blank\" href=https://colab.research.google.com/notebooks/data_table.ipynb>data table notebook</a>'\n",
              "            + ' to learn more about interactive tables.';\n",
              "          element.innerHTML = '';\n",
              "          dataTable['output_type'] = 'display_data';\n",
              "          await google.colab.output.renderOutput(dataTable, element);\n",
              "          const docLink = document.createElement('div');\n",
              "          docLink.innerHTML = docLinkHtml;\n",
              "          element.appendChild(docLink);\n",
              "        }\n",
              "      </script>\n",
              "    </div>\n",
              "  </div>\n",
              "  "
            ]
          },
          "metadata": {},
          "execution_count": 31
        }
      ]
    },
    {
      "cell_type": "code",
      "source": [
        "df_emotion.head(20)"
      ],
      "metadata": {
        "colab": {
          "base_uri": "https://localhost:8080/",
          "height": 842
        },
        "id": "AqlIgVrCtb1t",
        "outputId": "e7b5fe9e-7416-4f88-f799-526b5169b771"
      },
      "execution_count": null,
      "outputs": [
        {
          "output_type": "execute_result",
          "data": {
            "text/plain": [
              "    Unnamed: 0                   ID              Timestamp  \\\n",
              "0            0  Ses01F_impro01_F000      [6.2901 - 8.2357]   \n",
              "1            1  Ses01F_impro01_F001    [10.0100 - 11.3925]   \n",
              "2            2  Ses01F_impro01_F002    [14.8872 - 18.0175]   \n",
              "5            5  Ses01F_impro01_F005    [27.4600 - 31.4900]   \n",
              "6            6  Ses01F_impro01_F006    [38.9650 - 43.5900]   \n",
              "7            7  Ses01F_impro01_F007    [46.5800 - 52.1900]   \n",
              "8            8  Ses01F_impro01_F008    [56.1600 - 58.8225]   \n",
              "9            9  Ses01F_impro01_F009    [61.8700 - 65.9700]   \n",
              "11          11  Ses01F_impro01_F011    [72.4500 - 82.2600]   \n",
              "12          12  Ses01F_impro01_F012    [85.2700 - 88.0200]   \n",
              "13          13  Ses01F_impro01_F013    [93.6700 - 97.0218]   \n",
              "14          14  Ses01F_impro01_F014   [97.8900 - 102.9600]   \n",
              "15          15  Ses01F_impro01_F015  [103.9700 - 106.7100]   \n",
              "16          16  Ses01F_impro01_M000     [7.5712 - 10.4750]   \n",
              "17          17  Ses01F_impro01_M001    [10.9266 - 14.6649]   \n",
              "18          18  Ses01F_impro01_M002    [16.8352 - 19.7175]   \n",
              "19          19  Ses01F_impro01_M003    [23.4700 - 28.0300]   \n",
              "20          20  Ses01F_impro01_M004    [28.3950 - 31.2117]   \n",
              "21          21  Ses01F_impro01_M005    [31.2660 - 39.3875]   \n",
              "22          22  Ses01F_impro01_M006    [41.2300 - 46.9800]   \n",
              "\n",
              "                                                 Text Emotion  Valence  \\\n",
              "0                                          Excuse me.     neu      2.5   \n",
              "1                                               Yeah.     neu      2.5   \n",
              "2                                 Is there a problem?     neu      2.5   \n",
              "5         Well what's the problem?  Let me change it.     neu      2.5   \n",
              "6   What?  I'm getting an ID.  This is why I'm her...     fru      2.0   \n",
              "7   How am I supposed to get an ID without an ID? ...     fru      2.5   \n",
              "8                              I'm here to get an ID.     fru      2.0   \n",
              "9               Like what?  Like a birth certificate?     fru      2.0   \n",
              "11  Yes but my wallet was stolen, I don't have any...     fru      2.0   \n",
              "12                             That's out of control.     ang      2.0   \n",
              "13               How long have you been working here?     fru      2.0   \n",
              "14  Clearly.  You know, do you have like a supervi...     neu      2.5   \n",
              "15       That would - I would appreciate that.  Yeah.     fru      2.0   \n",
              "16                            Do you have your forms?     fru      2.5   \n",
              "17                                   Let me see them.     fru      2.5   \n",
              "18                  Who told you to get in this line?     fru      2.0   \n",
              "19  Okay. But I didn't tell you to get in this lin...     fru      2.5   \n",
              "20                           This form is a Z.X.four.     fru      2.0   \n",
              "21  You can't--  This is not the line for Z.X.four...     fru      2.0   \n",
              "22  No. I need another set of ID to prove this is ...     fru      2.0   \n",
              "\n",
              "    Activation  Dominance  \n",
              "0          2.5        2.5  \n",
              "1          2.5        2.5  \n",
              "2          2.5        2.5  \n",
              "5          3.5        2.0  \n",
              "6          3.5        3.5  \n",
              "7          3.5        3.5  \n",
              "8          3.5        3.5  \n",
              "9          3.5        3.0  \n",
              "11         3.5        3.5  \n",
              "12         3.5        3.5  \n",
              "13         4.0        3.5  \n",
              "14         3.5        3.5  \n",
              "15         3.5        3.0  \n",
              "16         2.0        2.5  \n",
              "17         2.0        2.5  \n",
              "18         3.5        3.5  \n",
              "19         3.5        3.5  \n",
              "20         4.0        3.5  \n",
              "21         3.5        3.5  \n",
              "22         3.5        3.5  "
            ],
            "text/html": [
              "\n",
              "  <div id=\"df-d948b80d-0806-4a90-b88e-e6bc9c2fe1fc\">\n",
              "    <div class=\"colab-df-container\">\n",
              "      <div>\n",
              "<style scoped>\n",
              "    .dataframe tbody tr th:only-of-type {\n",
              "        vertical-align: middle;\n",
              "    }\n",
              "\n",
              "    .dataframe tbody tr th {\n",
              "        vertical-align: top;\n",
              "    }\n",
              "\n",
              "    .dataframe thead th {\n",
              "        text-align: right;\n",
              "    }\n",
              "</style>\n",
              "<table border=\"1\" class=\"dataframe\">\n",
              "  <thead>\n",
              "    <tr style=\"text-align: right;\">\n",
              "      <th></th>\n",
              "      <th>Unnamed: 0</th>\n",
              "      <th>ID</th>\n",
              "      <th>Timestamp</th>\n",
              "      <th>Text</th>\n",
              "      <th>Emotion</th>\n",
              "      <th>Valence</th>\n",
              "      <th>Activation</th>\n",
              "      <th>Dominance</th>\n",
              "    </tr>\n",
              "  </thead>\n",
              "  <tbody>\n",
              "    <tr>\n",
              "      <th>0</th>\n",
              "      <td>0</td>\n",
              "      <td>Ses01F_impro01_F000</td>\n",
              "      <td>[6.2901 - 8.2357]</td>\n",
              "      <td>Excuse me.</td>\n",
              "      <td>neu</td>\n",
              "      <td>2.5</td>\n",
              "      <td>2.5</td>\n",
              "      <td>2.5</td>\n",
              "    </tr>\n",
              "    <tr>\n",
              "      <th>1</th>\n",
              "      <td>1</td>\n",
              "      <td>Ses01F_impro01_F001</td>\n",
              "      <td>[10.0100 - 11.3925]</td>\n",
              "      <td>Yeah.</td>\n",
              "      <td>neu</td>\n",
              "      <td>2.5</td>\n",
              "      <td>2.5</td>\n",
              "      <td>2.5</td>\n",
              "    </tr>\n",
              "    <tr>\n",
              "      <th>2</th>\n",
              "      <td>2</td>\n",
              "      <td>Ses01F_impro01_F002</td>\n",
              "      <td>[14.8872 - 18.0175]</td>\n",
              "      <td>Is there a problem?</td>\n",
              "      <td>neu</td>\n",
              "      <td>2.5</td>\n",
              "      <td>2.5</td>\n",
              "      <td>2.5</td>\n",
              "    </tr>\n",
              "    <tr>\n",
              "      <th>5</th>\n",
              "      <td>5</td>\n",
              "      <td>Ses01F_impro01_F005</td>\n",
              "      <td>[27.4600 - 31.4900]</td>\n",
              "      <td>Well what's the problem?  Let me change it.</td>\n",
              "      <td>neu</td>\n",
              "      <td>2.5</td>\n",
              "      <td>3.5</td>\n",
              "      <td>2.0</td>\n",
              "    </tr>\n",
              "    <tr>\n",
              "      <th>6</th>\n",
              "      <td>6</td>\n",
              "      <td>Ses01F_impro01_F006</td>\n",
              "      <td>[38.9650 - 43.5900]</td>\n",
              "      <td>What?  I'm getting an ID.  This is why I'm her...</td>\n",
              "      <td>fru</td>\n",
              "      <td>2.0</td>\n",
              "      <td>3.5</td>\n",
              "      <td>3.5</td>\n",
              "    </tr>\n",
              "    <tr>\n",
              "      <th>7</th>\n",
              "      <td>7</td>\n",
              "      <td>Ses01F_impro01_F007</td>\n",
              "      <td>[46.5800 - 52.1900]</td>\n",
              "      <td>How am I supposed to get an ID without an ID? ...</td>\n",
              "      <td>fru</td>\n",
              "      <td>2.5</td>\n",
              "      <td>3.5</td>\n",
              "      <td>3.5</td>\n",
              "    </tr>\n",
              "    <tr>\n",
              "      <th>8</th>\n",
              "      <td>8</td>\n",
              "      <td>Ses01F_impro01_F008</td>\n",
              "      <td>[56.1600 - 58.8225]</td>\n",
              "      <td>I'm here to get an ID.</td>\n",
              "      <td>fru</td>\n",
              "      <td>2.0</td>\n",
              "      <td>3.5</td>\n",
              "      <td>3.5</td>\n",
              "    </tr>\n",
              "    <tr>\n",
              "      <th>9</th>\n",
              "      <td>9</td>\n",
              "      <td>Ses01F_impro01_F009</td>\n",
              "      <td>[61.8700 - 65.9700]</td>\n",
              "      <td>Like what?  Like a birth certificate?</td>\n",
              "      <td>fru</td>\n",
              "      <td>2.0</td>\n",
              "      <td>3.5</td>\n",
              "      <td>3.0</td>\n",
              "    </tr>\n",
              "    <tr>\n",
              "      <th>11</th>\n",
              "      <td>11</td>\n",
              "      <td>Ses01F_impro01_F011</td>\n",
              "      <td>[72.4500 - 82.2600]</td>\n",
              "      <td>Yes but my wallet was stolen, I don't have any...</td>\n",
              "      <td>fru</td>\n",
              "      <td>2.0</td>\n",
              "      <td>3.5</td>\n",
              "      <td>3.5</td>\n",
              "    </tr>\n",
              "    <tr>\n",
              "      <th>12</th>\n",
              "      <td>12</td>\n",
              "      <td>Ses01F_impro01_F012</td>\n",
              "      <td>[85.2700 - 88.0200]</td>\n",
              "      <td>That's out of control.</td>\n",
              "      <td>ang</td>\n",
              "      <td>2.0</td>\n",
              "      <td>3.5</td>\n",
              "      <td>3.5</td>\n",
              "    </tr>\n",
              "    <tr>\n",
              "      <th>13</th>\n",
              "      <td>13</td>\n",
              "      <td>Ses01F_impro01_F013</td>\n",
              "      <td>[93.6700 - 97.0218]</td>\n",
              "      <td>How long have you been working here?</td>\n",
              "      <td>fru</td>\n",
              "      <td>2.0</td>\n",
              "      <td>4.0</td>\n",
              "      <td>3.5</td>\n",
              "    </tr>\n",
              "    <tr>\n",
              "      <th>14</th>\n",
              "      <td>14</td>\n",
              "      <td>Ses01F_impro01_F014</td>\n",
              "      <td>[97.8900 - 102.9600]</td>\n",
              "      <td>Clearly.  You know, do you have like a supervi...</td>\n",
              "      <td>neu</td>\n",
              "      <td>2.5</td>\n",
              "      <td>3.5</td>\n",
              "      <td>3.5</td>\n",
              "    </tr>\n",
              "    <tr>\n",
              "      <th>15</th>\n",
              "      <td>15</td>\n",
              "      <td>Ses01F_impro01_F015</td>\n",
              "      <td>[103.9700 - 106.7100]</td>\n",
              "      <td>That would - I would appreciate that.  Yeah.</td>\n",
              "      <td>fru</td>\n",
              "      <td>2.0</td>\n",
              "      <td>3.5</td>\n",
              "      <td>3.0</td>\n",
              "    </tr>\n",
              "    <tr>\n",
              "      <th>16</th>\n",
              "      <td>16</td>\n",
              "      <td>Ses01F_impro01_M000</td>\n",
              "      <td>[7.5712 - 10.4750]</td>\n",
              "      <td>Do you have your forms?</td>\n",
              "      <td>fru</td>\n",
              "      <td>2.5</td>\n",
              "      <td>2.0</td>\n",
              "      <td>2.5</td>\n",
              "    </tr>\n",
              "    <tr>\n",
              "      <th>17</th>\n",
              "      <td>17</td>\n",
              "      <td>Ses01F_impro01_M001</td>\n",
              "      <td>[10.9266 - 14.6649]</td>\n",
              "      <td>Let me see them.</td>\n",
              "      <td>fru</td>\n",
              "      <td>2.5</td>\n",
              "      <td>2.0</td>\n",
              "      <td>2.5</td>\n",
              "    </tr>\n",
              "    <tr>\n",
              "      <th>18</th>\n",
              "      <td>18</td>\n",
              "      <td>Ses01F_impro01_M002</td>\n",
              "      <td>[16.8352 - 19.7175]</td>\n",
              "      <td>Who told you to get in this line?</td>\n",
              "      <td>fru</td>\n",
              "      <td>2.0</td>\n",
              "      <td>3.5</td>\n",
              "      <td>3.5</td>\n",
              "    </tr>\n",
              "    <tr>\n",
              "      <th>19</th>\n",
              "      <td>19</td>\n",
              "      <td>Ses01F_impro01_M003</td>\n",
              "      <td>[23.4700 - 28.0300]</td>\n",
              "      <td>Okay. But I didn't tell you to get in this lin...</td>\n",
              "      <td>fru</td>\n",
              "      <td>2.5</td>\n",
              "      <td>3.5</td>\n",
              "      <td>3.5</td>\n",
              "    </tr>\n",
              "    <tr>\n",
              "      <th>20</th>\n",
              "      <td>20</td>\n",
              "      <td>Ses01F_impro01_M004</td>\n",
              "      <td>[28.3950 - 31.2117]</td>\n",
              "      <td>This form is a Z.X.four.</td>\n",
              "      <td>fru</td>\n",
              "      <td>2.0</td>\n",
              "      <td>4.0</td>\n",
              "      <td>3.5</td>\n",
              "    </tr>\n",
              "    <tr>\n",
              "      <th>21</th>\n",
              "      <td>21</td>\n",
              "      <td>Ses01F_impro01_M005</td>\n",
              "      <td>[31.2660 - 39.3875]</td>\n",
              "      <td>You can't--  This is not the line for Z.X.four...</td>\n",
              "      <td>fru</td>\n",
              "      <td>2.0</td>\n",
              "      <td>3.5</td>\n",
              "      <td>3.5</td>\n",
              "    </tr>\n",
              "    <tr>\n",
              "      <th>22</th>\n",
              "      <td>22</td>\n",
              "      <td>Ses01F_impro01_M006</td>\n",
              "      <td>[41.2300 - 46.9800]</td>\n",
              "      <td>No. I need another set of ID to prove this is ...</td>\n",
              "      <td>fru</td>\n",
              "      <td>2.0</td>\n",
              "      <td>3.5</td>\n",
              "      <td>3.5</td>\n",
              "    </tr>\n",
              "  </tbody>\n",
              "</table>\n",
              "</div>\n",
              "      <button class=\"colab-df-convert\" onclick=\"convertToInteractive('df-d948b80d-0806-4a90-b88e-e6bc9c2fe1fc')\"\n",
              "              title=\"Convert this dataframe to an interactive table.\"\n",
              "              style=\"display:none;\">\n",
              "        \n",
              "  <svg xmlns=\"http://www.w3.org/2000/svg\" height=\"24px\"viewBox=\"0 0 24 24\"\n",
              "       width=\"24px\">\n",
              "    <path d=\"M0 0h24v24H0V0z\" fill=\"none\"/>\n",
              "    <path d=\"M18.56 5.44l.94 2.06.94-2.06 2.06-.94-2.06-.94-.94-2.06-.94 2.06-2.06.94zm-11 1L8.5 8.5l.94-2.06 2.06-.94-2.06-.94L8.5 2.5l-.94 2.06-2.06.94zm10 10l.94 2.06.94-2.06 2.06-.94-2.06-.94-.94-2.06-.94 2.06-2.06.94z\"/><path d=\"M17.41 7.96l-1.37-1.37c-.4-.4-.92-.59-1.43-.59-.52 0-1.04.2-1.43.59L10.3 9.45l-7.72 7.72c-.78.78-.78 2.05 0 2.83L4 21.41c.39.39.9.59 1.41.59.51 0 1.02-.2 1.41-.59l7.78-7.78 2.81-2.81c.8-.78.8-2.07 0-2.86zM5.41 20L4 18.59l7.72-7.72 1.47 1.35L5.41 20z\"/>\n",
              "  </svg>\n",
              "      </button>\n",
              "      \n",
              "  <style>\n",
              "    .colab-df-container {\n",
              "      display:flex;\n",
              "      flex-wrap:wrap;\n",
              "      gap: 12px;\n",
              "    }\n",
              "\n",
              "    .colab-df-convert {\n",
              "      background-color: #E8F0FE;\n",
              "      border: none;\n",
              "      border-radius: 50%;\n",
              "      cursor: pointer;\n",
              "      display: none;\n",
              "      fill: #1967D2;\n",
              "      height: 32px;\n",
              "      padding: 0 0 0 0;\n",
              "      width: 32px;\n",
              "    }\n",
              "\n",
              "    .colab-df-convert:hover {\n",
              "      background-color: #E2EBFA;\n",
              "      box-shadow: 0px 1px 2px rgba(60, 64, 67, 0.3), 0px 1px 3px 1px rgba(60, 64, 67, 0.15);\n",
              "      fill: #174EA6;\n",
              "    }\n",
              "\n",
              "    [theme=dark] .colab-df-convert {\n",
              "      background-color: #3B4455;\n",
              "      fill: #D2E3FC;\n",
              "    }\n",
              "\n",
              "    [theme=dark] .colab-df-convert:hover {\n",
              "      background-color: #434B5C;\n",
              "      box-shadow: 0px 1px 3px 1px rgba(0, 0, 0, 0.15);\n",
              "      filter: drop-shadow(0px 1px 2px rgba(0, 0, 0, 0.3));\n",
              "      fill: #FFFFFF;\n",
              "    }\n",
              "  </style>\n",
              "\n",
              "      <script>\n",
              "        const buttonEl =\n",
              "          document.querySelector('#df-d948b80d-0806-4a90-b88e-e6bc9c2fe1fc button.colab-df-convert');\n",
              "        buttonEl.style.display =\n",
              "          google.colab.kernel.accessAllowed ? 'block' : 'none';\n",
              "\n",
              "        async function convertToInteractive(key) {\n",
              "          const element = document.querySelector('#df-d948b80d-0806-4a90-b88e-e6bc9c2fe1fc');\n",
              "          const dataTable =\n",
              "            await google.colab.kernel.invokeFunction('convertToInteractive',\n",
              "                                                     [key], {});\n",
              "          if (!dataTable) return;\n",
              "\n",
              "          const docLinkHtml = 'Like what you see? Visit the ' +\n",
              "            '<a target=\"_blank\" href=https://colab.research.google.com/notebooks/data_table.ipynb>data table notebook</a>'\n",
              "            + ' to learn more about interactive tables.';\n",
              "          element.innerHTML = '';\n",
              "          dataTable['output_type'] = 'display_data';\n",
              "          await google.colab.output.renderOutput(dataTable, element);\n",
              "          const docLink = document.createElement('div');\n",
              "          docLink.innerHTML = docLinkHtml;\n",
              "          element.appendChild(docLink);\n",
              "        }\n",
              "      </script>\n",
              "    </div>\n",
              "  </div>\n",
              "  "
            ]
          },
          "metadata": {},
          "execution_count": 32
        }
      ]
    },
    {
      "cell_type": "code",
      "source": [
        "n = len(pd.unique(df_emotion['Emotion']))\n",
        "n"
      ],
      "metadata": {
        "colab": {
          "base_uri": "https://localhost:8080/"
        },
        "id": "YExnyysxljsj",
        "outputId": "588d6c88-3926-48ae-9d74-c6e271368b1a"
      },
      "execution_count": null,
      "outputs": [
        {
          "output_type": "execute_result",
          "data": {
            "text/plain": [
              "10"
            ]
          },
          "metadata": {},
          "execution_count": 9
        }
      ]
    },
    {
      "cell_type": "code",
      "source": [
        "df_emotion['Emotion'].unique()"
      ],
      "metadata": {
        "colab": {
          "base_uri": "https://localhost:8080/"
        },
        "id": "Zcd2O7yPl2U0",
        "outputId": "6e90dd56-f896-45d8-80be-e3dd29e99ba3"
      },
      "execution_count": null,
      "outputs": [
        {
          "output_type": "execute_result",
          "data": {
            "text/plain": [
              "array(['neu', 'fru', 'ang', 'sad', 'hap', 'exc', 'sur', 'oth', 'fea',\n",
              "       'dis'], dtype=object)"
            ]
          },
          "metadata": {},
          "execution_count": 10
        }
      ]
    },
    {
      "cell_type": "code",
      "source": [
        "convention = { \"neu\":1, \"fru\":2, \"ang\":3, \"sad\":4, \"hap\":5, \"exc\":6, \"sur\":7, \"oth\":8, \"fea\":9, \"dis\":10 }\n",
        "df_emotion.loc[df[\"Emotion\"] == \"neu\", \"Emotion\"] = 1\n",
        "df_emotion.loc[df[\"Emotion\"] == \"fru\", \"Emotion\"] = 2\n",
        "df_emotion.loc[df[\"Emotion\"] == \"ang\", \"Emotion\"] = 3\n",
        "df_emotion.loc[df[\"Emotion\"] == \"sad\", \"Emotion\"] = 4\n",
        "df_emotion.loc[df[\"Emotion\"] == \"hap\", \"Emotion\"] = 5\n",
        "df_emotion.loc[df[\"Emotion\"] == \"exc\", \"Emotion\"] = 6\n",
        "df_emotion.loc[df[\"Emotion\"] == \"sur\", \"Emotion\"] = 7\n",
        "df_emotion.loc[df[\"Emotion\"] == \"oth\", \"Emotion\"] = 8\n",
        "df_emotion.loc[df[\"Emotion\"] == \"fea\", \"Emotion\"] = 9\n",
        "df_emotion.loc[df[\"Emotion\"] == \"dis\", \"Emotion\"] = 10"
      ],
      "metadata": {
        "id": "850Xo3F8mBK5"
      },
      "execution_count": null,
      "outputs": []
    },
    {
      "cell_type": "code",
      "source": [
        "convention = { \"neu\":0, \"fru\":1, \"ang\":2, \"sad\":3, \"hap\":4, \"exc\":5, \"sur\":6, \"oth\":7, \"fea\":8, \"dis\":9 }\n",
        "df_emotion.loc[df[\"Emotion\"] == \"neu\", \"Emotion\"] = 0\n",
        "df_emotion.loc[df[\"Emotion\"] == \"fru\", \"Emotion\"] = 1\n",
        "df_emotion.loc[df[\"Emotion\"] == \"ang\", \"Emotion\"] = 2\n",
        "df_emotion.loc[df[\"Emotion\"] == \"sad\", \"Emotion\"] = 3\n",
        "df_emotion.loc[df[\"Emotion\"] == \"hap\", \"Emotion\"] = 4\n",
        "df_emotion.loc[df[\"Emotion\"] == \"exc\", \"Emotion\"] = 5\n",
        "df_emotion.loc[df[\"Emotion\"] == \"sur\", \"Emotion\"] = 6\n",
        "df_emotion.loc[df[\"Emotion\"] == \"oth\", \"Emotion\"] = 7\n",
        "df_emotion.loc[df[\"Emotion\"] == \"fea\", \"Emotion\"] = 8\n",
        "df_emotion.loc[df[\"Emotion\"] == \"dis\", \"Emotion\"] = 9"
      ],
      "metadata": {
        "id": "99YvnUapjpbw"
      },
      "execution_count": null,
      "outputs": []
    },
    {
      "cell_type": "code",
      "source": [
        "df_data = df_emotion[['Text', 'Emotion']]"
      ],
      "metadata": {
        "id": "_wmRSICHnfye"
      },
      "execution_count": null,
      "outputs": []
    },
    {
      "cell_type": "code",
      "source": [
        "df_data.head()"
      ],
      "metadata": {
        "colab": {
          "base_uri": "https://localhost:8080/",
          "height": 206
        },
        "id": "E6mbYq99OtMa",
        "outputId": "7c503244-24d7-4f5d-d0a9-ee06756e0b91"
      },
      "execution_count": null,
      "outputs": [
        {
          "output_type": "execute_result",
          "data": {
            "text/plain": [
              "                                                Text Emotion\n",
              "0                                         Excuse me.       1\n",
              "1                                              Yeah.       1\n",
              "2                                Is there a problem?       1\n",
              "5        Well what's the problem?  Let me change it.       1\n",
              "6  What?  I'm getting an ID.  This is why I'm her...       2"
            ],
            "text/html": [
              "\n",
              "  <div id=\"df-2b82831a-7066-4dd5-ae73-139370bc094e\">\n",
              "    <div class=\"colab-df-container\">\n",
              "      <div>\n",
              "<style scoped>\n",
              "    .dataframe tbody tr th:only-of-type {\n",
              "        vertical-align: middle;\n",
              "    }\n",
              "\n",
              "    .dataframe tbody tr th {\n",
              "        vertical-align: top;\n",
              "    }\n",
              "\n",
              "    .dataframe thead th {\n",
              "        text-align: right;\n",
              "    }\n",
              "</style>\n",
              "<table border=\"1\" class=\"dataframe\">\n",
              "  <thead>\n",
              "    <tr style=\"text-align: right;\">\n",
              "      <th></th>\n",
              "      <th>Text</th>\n",
              "      <th>Emotion</th>\n",
              "    </tr>\n",
              "  </thead>\n",
              "  <tbody>\n",
              "    <tr>\n",
              "      <th>0</th>\n",
              "      <td>Excuse me.</td>\n",
              "      <td>1</td>\n",
              "    </tr>\n",
              "    <tr>\n",
              "      <th>1</th>\n",
              "      <td>Yeah.</td>\n",
              "      <td>1</td>\n",
              "    </tr>\n",
              "    <tr>\n",
              "      <th>2</th>\n",
              "      <td>Is there a problem?</td>\n",
              "      <td>1</td>\n",
              "    </tr>\n",
              "    <tr>\n",
              "      <th>5</th>\n",
              "      <td>Well what's the problem?  Let me change it.</td>\n",
              "      <td>1</td>\n",
              "    </tr>\n",
              "    <tr>\n",
              "      <th>6</th>\n",
              "      <td>What?  I'm getting an ID.  This is why I'm her...</td>\n",
              "      <td>2</td>\n",
              "    </tr>\n",
              "  </tbody>\n",
              "</table>\n",
              "</div>\n",
              "      <button class=\"colab-df-convert\" onclick=\"convertToInteractive('df-2b82831a-7066-4dd5-ae73-139370bc094e')\"\n",
              "              title=\"Convert this dataframe to an interactive table.\"\n",
              "              style=\"display:none;\">\n",
              "        \n",
              "  <svg xmlns=\"http://www.w3.org/2000/svg\" height=\"24px\"viewBox=\"0 0 24 24\"\n",
              "       width=\"24px\">\n",
              "    <path d=\"M0 0h24v24H0V0z\" fill=\"none\"/>\n",
              "    <path d=\"M18.56 5.44l.94 2.06.94-2.06 2.06-.94-2.06-.94-.94-2.06-.94 2.06-2.06.94zm-11 1L8.5 8.5l.94-2.06 2.06-.94-2.06-.94L8.5 2.5l-.94 2.06-2.06.94zm10 10l.94 2.06.94-2.06 2.06-.94-2.06-.94-.94-2.06-.94 2.06-2.06.94z\"/><path d=\"M17.41 7.96l-1.37-1.37c-.4-.4-.92-.59-1.43-.59-.52 0-1.04.2-1.43.59L10.3 9.45l-7.72 7.72c-.78.78-.78 2.05 0 2.83L4 21.41c.39.39.9.59 1.41.59.51 0 1.02-.2 1.41-.59l7.78-7.78 2.81-2.81c.8-.78.8-2.07 0-2.86zM5.41 20L4 18.59l7.72-7.72 1.47 1.35L5.41 20z\"/>\n",
              "  </svg>\n",
              "      </button>\n",
              "      \n",
              "  <style>\n",
              "    .colab-df-container {\n",
              "      display:flex;\n",
              "      flex-wrap:wrap;\n",
              "      gap: 12px;\n",
              "    }\n",
              "\n",
              "    .colab-df-convert {\n",
              "      background-color: #E8F0FE;\n",
              "      border: none;\n",
              "      border-radius: 50%;\n",
              "      cursor: pointer;\n",
              "      display: none;\n",
              "      fill: #1967D2;\n",
              "      height: 32px;\n",
              "      padding: 0 0 0 0;\n",
              "      width: 32px;\n",
              "    }\n",
              "\n",
              "    .colab-df-convert:hover {\n",
              "      background-color: #E2EBFA;\n",
              "      box-shadow: 0px 1px 2px rgba(60, 64, 67, 0.3), 0px 1px 3px 1px rgba(60, 64, 67, 0.15);\n",
              "      fill: #174EA6;\n",
              "    }\n",
              "\n",
              "    [theme=dark] .colab-df-convert {\n",
              "      background-color: #3B4455;\n",
              "      fill: #D2E3FC;\n",
              "    }\n",
              "\n",
              "    [theme=dark] .colab-df-convert:hover {\n",
              "      background-color: #434B5C;\n",
              "      box-shadow: 0px 1px 3px 1px rgba(0, 0, 0, 0.15);\n",
              "      filter: drop-shadow(0px 1px 2px rgba(0, 0, 0, 0.3));\n",
              "      fill: #FFFFFF;\n",
              "    }\n",
              "  </style>\n",
              "\n",
              "      <script>\n",
              "        const buttonEl =\n",
              "          document.querySelector('#df-2b82831a-7066-4dd5-ae73-139370bc094e button.colab-df-convert');\n",
              "        buttonEl.style.display =\n",
              "          google.colab.kernel.accessAllowed ? 'block' : 'none';\n",
              "\n",
              "        async function convertToInteractive(key) {\n",
              "          const element = document.querySelector('#df-2b82831a-7066-4dd5-ae73-139370bc094e');\n",
              "          const dataTable =\n",
              "            await google.colab.kernel.invokeFunction('convertToInteractive',\n",
              "                                                     [key], {});\n",
              "          if (!dataTable) return;\n",
              "\n",
              "          const docLinkHtml = 'Like what you see? Visit the ' +\n",
              "            '<a target=\"_blank\" href=https://colab.research.google.com/notebooks/data_table.ipynb>data table notebook</a>'\n",
              "            + ' to learn more about interactive tables.';\n",
              "          element.innerHTML = '';\n",
              "          dataTable['output_type'] = 'display_data';\n",
              "          await google.colab.output.renderOutput(dataTable, element);\n",
              "          const docLink = document.createElement('div');\n",
              "          docLink.innerHTML = docLinkHtml;\n",
              "          element.appendChild(docLink);\n",
              "        }\n",
              "      </script>\n",
              "    </div>\n",
              "  </div>\n",
              "  "
            ]
          },
          "metadata": {},
          "execution_count": 13
        }
      ]
    },
    {
      "cell_type": "code",
      "source": [
        "!pip install contractions --quiet\n",
        "import contractions\n",
        "import re\n",
        "# Before data cleaning length\n",
        "before_data_cleaning = df_data['Text'].str.len().mean()\n",
        "\n",
        "# Remove blank rows\n",
        "df_data['Text'].dropna(inplace=True)\n",
        "# Remove URL and HTML\n",
        "df_data['Text'] = df_data['Text'].apply(lambda x: re.split('https:\\/\\/.*', str(x))[0])\n",
        "# Remove numbers\n",
        "df_data['Text'] = df_data['Text'].apply(lambda x: re.sub(r'\\d+', '', str(x)))\n",
        "# Converting to lower case\n",
        "df_data['Text'] = df_data['Text'].apply(str.lower)\n",
        "# Remove punctuation\n",
        "df_data['Text'] = df_data['Text'].apply(lambda x: re.sub(r'[^\\w\\s]', '', x))\n",
        "# Remove white spaces\n",
        "df_data['Text'] = df_data['Text'].apply(str.strip)\n",
        "# Removing contractions\n",
        "def expand(text):\n",
        "  return contractions.fix(text)\n",
        "df_data['Text'] = df_data['Text'].apply(expand)\n",
        "\n",
        "# After data cleaning length\n",
        "after_data_cleaning = df_data['Text'].str.len().mean()\n",
        "\n",
        "print(\"Before cleaning : \" + str(before_data_cleaning) + \", After cleaning : \" + str(after_data_cleaning))"
      ],
      "metadata": {
        "colab": {
          "base_uri": "https://localhost:8080/"
        },
        "id": "DYLKW_jgOu4b",
        "outputId": "6eb8984a-3f24-48b6-d97d-84067d44d92e"
      },
      "execution_count": null,
      "outputs": [
        {
          "output_type": "stream",
          "name": "stdout",
          "text": [
            "\u001b[2K     \u001b[90m━━━━━━━━━━━━━━━━━━━━━━━━━━━━━━━━━━━━━━━\u001b[0m \u001b[32m289.9/289.9 kB\u001b[0m \u001b[31m7.8 MB/s\u001b[0m eta \u001b[36m0:00:00\u001b[0m\n",
            "\u001b[2K     \u001b[90m━━━━━━━━━━━━━━━━━━━━━━━━━━━━━━━━━━━━━━\u001b[0m \u001b[32m103.2/103.2 kB\u001b[0m \u001b[31m14.2 MB/s\u001b[0m eta \u001b[36m0:00:00\u001b[0m\n",
            "\u001b[?25hBefore cleaning : 54.09544159544159, After cleaning : 51.87108262108262\n"
          ]
        },
        {
          "output_type": "stream",
          "name": "stderr",
          "text": [
            "<ipython-input-8-31c617f1f331>:8: SettingWithCopyWarning: \n",
            "A value is trying to be set on a copy of a slice from a DataFrame\n",
            "\n",
            "See the caveats in the documentation: https://pandas.pydata.org/pandas-docs/stable/user_guide/indexing.html#returning-a-view-versus-a-copy\n",
            "  df_data['Text'].dropna(inplace=True)\n",
            "<ipython-input-8-31c617f1f331>:10: SettingWithCopyWarning: \n",
            "A value is trying to be set on a copy of a slice from a DataFrame.\n",
            "Try using .loc[row_indexer,col_indexer] = value instead\n",
            "\n",
            "See the caveats in the documentation: https://pandas.pydata.org/pandas-docs/stable/user_guide/indexing.html#returning-a-view-versus-a-copy\n",
            "  df_data['Text'] = df_data['Text'].apply(lambda x: re.split('https:\\/\\/.*', str(x))[0])\n",
            "<ipython-input-8-31c617f1f331>:12: SettingWithCopyWarning: \n",
            "A value is trying to be set on a copy of a slice from a DataFrame.\n",
            "Try using .loc[row_indexer,col_indexer] = value instead\n",
            "\n",
            "See the caveats in the documentation: https://pandas.pydata.org/pandas-docs/stable/user_guide/indexing.html#returning-a-view-versus-a-copy\n",
            "  df_data['Text'] = df_data['Text'].apply(lambda x: re.sub(r'\\d+', '', str(x)))\n",
            "<ipython-input-8-31c617f1f331>:14: SettingWithCopyWarning: \n",
            "A value is trying to be set on a copy of a slice from a DataFrame.\n",
            "Try using .loc[row_indexer,col_indexer] = value instead\n",
            "\n",
            "See the caveats in the documentation: https://pandas.pydata.org/pandas-docs/stable/user_guide/indexing.html#returning-a-view-versus-a-copy\n",
            "  df_data['Text'] = df_data['Text'].apply(str.lower)\n",
            "<ipython-input-8-31c617f1f331>:16: SettingWithCopyWarning: \n",
            "A value is trying to be set on a copy of a slice from a DataFrame.\n",
            "Try using .loc[row_indexer,col_indexer] = value instead\n",
            "\n",
            "See the caveats in the documentation: https://pandas.pydata.org/pandas-docs/stable/user_guide/indexing.html#returning-a-view-versus-a-copy\n",
            "  df_data['Text'] = df_data['Text'].apply(lambda x: re.sub(r'[^\\w\\s]', '', x))\n",
            "<ipython-input-8-31c617f1f331>:18: SettingWithCopyWarning: \n",
            "A value is trying to be set on a copy of a slice from a DataFrame.\n",
            "Try using .loc[row_indexer,col_indexer] = value instead\n",
            "\n",
            "See the caveats in the documentation: https://pandas.pydata.org/pandas-docs/stable/user_guide/indexing.html#returning-a-view-versus-a-copy\n",
            "  df_data['Text'] = df_data['Text'].apply(str.strip)\n",
            "<ipython-input-8-31c617f1f331>:22: SettingWithCopyWarning: \n",
            "A value is trying to be set on a copy of a slice from a DataFrame.\n",
            "Try using .loc[row_indexer,col_indexer] = value instead\n",
            "\n",
            "See the caveats in the documentation: https://pandas.pydata.org/pandas-docs/stable/user_guide/indexing.html#returning-a-view-versus-a-copy\n",
            "  df_data['Text'] = df_data['Text'].apply(expand)\n"
          ]
        }
      ]
    },
    {
      "cell_type": "code",
      "source": [
        "import nltk\n",
        "nltk.download('stopwords')\n",
        "from nltk.corpus import stopwords\n",
        "stop = stopwords.words('english')\n",
        "df_data['Text'] = df_data['Text'].apply(lambda x: ' '.join([word for word in x.split() if word not in (stop)]))"
      ],
      "metadata": {
        "colab": {
          "base_uri": "https://localhost:8080/"
        },
        "id": "1em_gTd6PUbB",
        "outputId": "8f01aa5f-3d21-459d-a5d7-8b2257498c68"
      },
      "execution_count": null,
      "outputs": [
        {
          "output_type": "stream",
          "name": "stderr",
          "text": [
            "[nltk_data] Downloading package stopwords to /root/nltk_data...\n",
            "[nltk_data]   Unzipping corpora/stopwords.zip.\n",
            "<ipython-input-9-a38860779bb3>:5: SettingWithCopyWarning: \n",
            "A value is trying to be set on a copy of a slice from a DataFrame.\n",
            "Try using .loc[row_indexer,col_indexer] = value instead\n",
            "\n",
            "See the caveats in the documentation: https://pandas.pydata.org/pandas-docs/stable/user_guide/indexing.html#returning-a-view-versus-a-copy\n",
            "  df_data['Text'] = df_data['Text'].apply(lambda x: ' '.join([word for word in x.split() if word not in (stop)]))\n"
          ]
        }
      ]
    },
    {
      "cell_type": "code",
      "source": [
        "df_data['Text'].str.len().mean()"
      ],
      "metadata": {
        "colab": {
          "base_uri": "https://localhost:8080/"
        },
        "id": "d7Tnm2wzP5N_",
        "outputId": "6cef83e1-8aa7-41cd-ef9f-b981cc82cf3e"
      },
      "execution_count": null,
      "outputs": [
        {
          "output_type": "execute_result",
          "data": {
            "text/plain": [
              "27.576210826210826"
            ]
          },
          "metadata": {},
          "execution_count": 16
        }
      ]
    },
    {
      "cell_type": "code",
      "source": [
        "import nltk\n",
        "nltk.download('wordnet')\n",
        "from nltk.stem import WordNetLemmatizer\n",
        "nltk.download('omw-1.4')\n",
        "w_tokenizer = nltk.tokenize.WhitespaceTokenizer()\n",
        "lemmatizer = nltk.stem.WordNetLemmatizer()\n",
        "def lemmatize_text(text):\n",
        "    return [lemmatizer.lemmatize(w) for w in w_tokenizer.tokenize(text)]\n",
        "df_data['Text'] = df_data['Text'].apply(lemmatize_text)\n",
        "df_data['Text'] = df_data['Text'].apply(lambda x: ' '.join([word for word in x]))\n",
        "\n",
        "# After data pre-processing length\n",
        "df_data['Text'].str.len().mean()"
      ],
      "metadata": {
        "colab": {
          "base_uri": "https://localhost:8080/"
        },
        "id": "wS0OnJJgRSS3",
        "outputId": "298c2fdb-8e2e-4acc-893b-ed241bc6f333"
      },
      "execution_count": null,
      "outputs": [
        {
          "output_type": "stream",
          "name": "stderr",
          "text": [
            "[nltk_data] Downloading package wordnet to /root/nltk_data...\n",
            "[nltk_data] Downloading package omw-1.4 to /root/nltk_data...\n",
            "<ipython-input-10-c7be627d5fc7>:9: SettingWithCopyWarning: \n",
            "A value is trying to be set on a copy of a slice from a DataFrame.\n",
            "Try using .loc[row_indexer,col_indexer] = value instead\n",
            "\n",
            "See the caveats in the documentation: https://pandas.pydata.org/pandas-docs/stable/user_guide/indexing.html#returning-a-view-versus-a-copy\n",
            "  df_data['Text'] = df_data['Text'].apply(lemmatize_text)\n",
            "<ipython-input-10-c7be627d5fc7>:10: SettingWithCopyWarning: \n",
            "A value is trying to be set on a copy of a slice from a DataFrame.\n",
            "Try using .loc[row_indexer,col_indexer] = value instead\n",
            "\n",
            "See the caveats in the documentation: https://pandas.pydata.org/pandas-docs/stable/user_guide/indexing.html#returning-a-view-versus-a-copy\n",
            "  df_data['Text'] = df_data['Text'].apply(lambda x: ' '.join([word for word in x]))\n"
          ]
        },
        {
          "output_type": "execute_result",
          "data": {
            "text/plain": [
              "27.257122507122507"
            ]
          },
          "metadata": {},
          "execution_count": 10
        }
      ]
    },
    {
      "cell_type": "code",
      "source": [
        "from sklearn.feature_extraction.text import TfidfVectorizer\n",
        "\n",
        "tfidf_vectorizer = TfidfVectorizer()\n",
        "doc_vec = tfidf_vectorizer.fit_transform(df_data['Text'])"
      ],
      "metadata": {
        "id": "C7K7eEXIRt5t"
      },
      "execution_count": null,
      "outputs": []
    },
    {
      "cell_type": "code",
      "source": [
        "from sklearn.model_selection import train_test_split\n",
        "\n",
        "X_train, X_test, y_train, y_test = train_test_split(df_data['Text'], df_data['Emotion'], test_size=0.2, shuffle = True)\n",
        "X_train = X_train.reset_index(drop = True)\n",
        "X_test = X_test.reset_index(drop = True)\n",
        "y_train = y_train.reset_index(drop = True)\n",
        "y_test = y_test.reset_index(drop = True)"
      ],
      "metadata": {
        "id": "xHjvMMG7SAWd"
      },
      "execution_count": null,
      "outputs": []
    },
    {
      "cell_type": "code",
      "source": [
        "Train_X_Tfidf = tfidf_vectorizer.transform(X_train)\n",
        "Test_X_Tfidf = tfidf_vectorizer.transform(X_test)"
      ],
      "metadata": {
        "id": "RpbJtKf8SQ1U"
      },
      "execution_count": null,
      "outputs": []
    },
    {
      "cell_type": "code",
      "source": [
        "from sklearn.linear_model import Perceptron\n",
        "from sklearn.metrics import accuracy_score, classification_report\n",
        "\n",
        "p = Perceptron(random_state=130)\n",
        "p.fit(Train_X_Tfidf, y_train.astype('int'))\n",
        "\n",
        "predictions_perceptron = p.predict(Test_X_Tfidf)\n",
        "acc = accuracy_score(y_test.astype('int'), predictions_perceptron)\n",
        "print('Accuracy:', acc*100)"
      ],
      "metadata": {
        "colab": {
          "base_uri": "https://localhost:8080/"
        },
        "id": "hunFlETsSTX8",
        "outputId": "33b66a8b-517c-4ceb-8662-2bd4e5df944d"
      },
      "execution_count": null,
      "outputs": [
        {
          "output_type": "stream",
          "name": "stdout",
          "text": [
            "Accuracy: 35.94306049822064\n"
          ]
        }
      ]
    },
    {
      "cell_type": "code",
      "source": [
        "from sklearn.svm import SVC\n",
        "svm_clf = SVC(kernel='linear')\n",
        "svm_clf.fit(Train_X_Tfidf,y_train.astype('int'))\n",
        "y_pred = svm_clf.predict(Test_X_Tfidf)\n",
        "acc = accuracy_score(y_test.astype('int'), y_pred)\n",
        "print('Accuracy:', acc*100)"
      ],
      "metadata": {
        "colab": {
          "base_uri": "https://localhost:8080/"
        },
        "id": "xCoQNO9ZS45x",
        "outputId": "5d1f6b94-1805-4cd7-99b3-c32af8fc4b95"
      },
      "execution_count": null,
      "outputs": [
        {
          "output_type": "stream",
          "name": "stdout",
          "text": [
            "Accuracy: 49.11032028469751\n"
          ]
        }
      ]
    },
    {
      "cell_type": "code",
      "source": [
        "from sklearn.linear_model import LogisticRegression\n",
        "logreg = LogisticRegression(max_iter=10000)\n",
        "logreg.fit(Train_X_Tfidf,y_train.astype('int'))\n",
        "predictions_logisreg = logreg.predict(Test_X_Tfidf)\n",
        "acc = accuracy_score(y_test.astype('int'), predictions_logisreg)\n",
        "print('Accuracy', acc*100)"
      ],
      "metadata": {
        "colab": {
          "base_uri": "https://localhost:8080/"
        },
        "id": "BxWUFYPjXUVE",
        "outputId": "fd5fad76-960a-4364-9dec-99eb97703568"
      },
      "execution_count": null,
      "outputs": [
        {
          "output_type": "stream",
          "name": "stdout",
          "text": [
            "Accuracy 49.11032028469751\n"
          ]
        }
      ]
    },
    {
      "cell_type": "code",
      "source": [
        "from sklearn import model_selection, naive_bayes\n",
        "Naive = naive_bayes.MultinomialNB()\n",
        "Naive.fit(Train_X_Tfidf,y_train.astype('int'))\n",
        "predictions_NB = Naive.predict(Test_X_Tfidf)\n",
        "acc = accuracy_score(y_test.astype('int'), predictions_NB)\n",
        "print('Accuracy', acc*100)"
      ],
      "metadata": {
        "colab": {
          "base_uri": "https://localhost:8080/"
        },
        "id": "hF5Cf6nsao5O",
        "outputId": "9e375505-be80-41ef-adc4-f379960b6659"
      },
      "execution_count": null,
      "outputs": [
        {
          "output_type": "stream",
          "name": "stdout",
          "text": [
            "Accuracy 42.704626334519574\n"
          ]
        }
      ]
    },
    {
      "cell_type": "code",
      "source": [
        "import gensim.models as genmodels\n",
        "import gensim.downloader as api"
      ],
      "metadata": {
        "id": "E30mWtCjbQMh"
      },
      "execution_count": null,
      "outputs": []
    },
    {
      "cell_type": "code",
      "source": [
        "model_google = api.load('word2vec-google-news-300')"
      ],
      "metadata": {
        "colab": {
          "base_uri": "https://localhost:8080/"
        },
        "id": "TLoTweBWwrrr",
        "outputId": "e9489acb-e66b-4717-c7d1-5c661d0e57ce"
      },
      "execution_count": null,
      "outputs": [
        {
          "output_type": "stream",
          "name": "stdout",
          "text": [
            "[=================================================-] 99.8% 1659.2/1662.8MB downloaded\n"
          ]
        }
      ]
    },
    {
      "cell_type": "code",
      "source": [
        "X_train.head()"
      ],
      "metadata": {
        "colab": {
          "base_uri": "https://localhost:8080/"
        },
        "id": "LCunyh_C0rI9",
        "outputId": "b55e8ae5-51fb-44b5-e3fb-1f04c5e93df4"
      },
      "execution_count": null,
      "outputs": [
        {
          "output_type": "execute_result",
          "data": {
            "text/plain": [
              "0                                      time year tunis\n",
              "1                                            yeah know\n",
              "2                     father talk blue face grave body\n",
              "3    oh cruel youreyourei hate hate go away conceit...\n",
              "4                                                     \n",
              "Name: Text, dtype: object"
            ]
          },
          "metadata": {},
          "execution_count": 47
        }
      ]
    },
    {
      "cell_type": "code",
      "source": [
        "Word2Vec_dataTrain = X_train\n",
        "for i in range(0, len(Word2Vec_dataTrain)):\n",
        "  Word2Vec_dataTrain[i] = Word2Vec_dataTrain[i].split(\" \")\n",
        "Word2Vec_dataTest = X_test\n",
        "for i in range(0, len(Word2Vec_dataTest)):\n",
        "  Word2Vec_dataTest[i] = Word2Vec_dataTest[i].split(\" \")"
      ],
      "metadata": {
        "id": "K9eiVIgCwuVq"
      },
      "execution_count": null,
      "outputs": []
    },
    {
      "cell_type": "code",
      "source": [
        "X_train_w2v = []\n",
        "for sentence in Word2Vec_dataTrain:\n",
        "    sentence_w2v = []\n",
        "    for word in sentence:\n",
        "        if word in model_google:\n",
        "            sentence_w2v.append(model_google[word])\n",
        "    if len(sentence_w2v) > 0:\n",
        "        sentence_mean_w2v = np.mean(sentence_w2v, axis=0)\n",
        "    else:\n",
        "        sentence_mean_w2v = np.zeros(model_google.vector_size)\n",
        "    X_train_w2v.append(sentence_mean_w2v)"
      ],
      "metadata": {
        "id": "XoTFltERw1WI"
      },
      "execution_count": null,
      "outputs": []
    },
    {
      "cell_type": "code",
      "source": [
        "X_test_w2v = []\n",
        "for sentence in Word2Vec_dataTest:\n",
        "    sentence_w2v = []\n",
        "    for word in sentence:\n",
        "        if word in model_google:\n",
        "            sentence_w2v.append(model_google[word])\n",
        "    if len(sentence_w2v) > 0:\n",
        "        sentence_mean_w2v = np.mean(sentence_w2v, axis=0)\n",
        "    else:\n",
        "        sentence_mean_w2v = np.zeros(model_google.vector_size)\n",
        "    X_test_w2v.append(sentence_mean_w2v)"
      ],
      "metadata": {
        "id": "yWepObovw-i3"
      },
      "execution_count": null,
      "outputs": []
    },
    {
      "cell_type": "code",
      "source": [
        "from sklearn.linear_model import Perceptron\n",
        "from sklearn.metrics import accuracy_score, classification_report\n",
        "\n",
        "p = Perceptron(random_state=14)\n",
        "p.fit(X_train_w2v, y_train.astype('int'))\n",
        "\n",
        "predictions_perceptron = p.predict(X_test_w2v)\n",
        "acc = accuracy_score(y_test.astype('int'), predictions_perceptron)\n",
        "print('Accuracy',acc)"
      ],
      "metadata": {
        "colab": {
          "base_uri": "https://localhost:8080/"
        },
        "id": "hvKoRuWqxVbe",
        "outputId": "77637f99-ee43-44fe-f1a0-0bab611d386d"
      },
      "execution_count": null,
      "outputs": [
        {
          "output_type": "stream",
          "name": "stdout",
          "text": [
            "Accuracy 0.302491103202847\n"
          ]
        }
      ]
    },
    {
      "cell_type": "code",
      "source": [
        "!pip install transformers"
      ],
      "metadata": {
        "colab": {
          "base_uri": "https://localhost:8080/"
        },
        "id": "qnj5fTmee-Z8",
        "outputId": "e6043378-2d13-4ad3-ddf8-f89895bbb133"
      },
      "execution_count": null,
      "outputs": [
        {
          "output_type": "stream",
          "name": "stdout",
          "text": [
            "Looking in indexes: https://pypi.org/simple, https://us-python.pkg.dev/colab-wheels/public/simple/\n",
            "Collecting transformers\n",
            "  Downloading transformers-4.28.1-py3-none-any.whl (7.0 MB)\n",
            "\u001b[2K     \u001b[90m━━━━━━━━━━━━━━━━━━━━━━━━━━━━━━━━━━━━━━━━\u001b[0m \u001b[32m7.0/7.0 MB\u001b[0m \u001b[31m46.1 MB/s\u001b[0m eta \u001b[36m0:00:00\u001b[0m\n",
            "\u001b[?25hRequirement already satisfied: numpy>=1.17 in /usr/local/lib/python3.9/dist-packages (from transformers) (1.22.4)\n",
            "Collecting huggingface-hub<1.0,>=0.11.0\n",
            "  Downloading huggingface_hub-0.13.4-py3-none-any.whl (200 kB)\n",
            "\u001b[2K     \u001b[90m━━━━━━━━━━━━━━━━━━━━━━━━━━━━━━━━━━━━━━\u001b[0m \u001b[32m200.1/200.1 kB\u001b[0m \u001b[31m25.0 MB/s\u001b[0m eta \u001b[36m0:00:00\u001b[0m\n",
            "\u001b[?25hRequirement already satisfied: pyyaml>=5.1 in /usr/local/lib/python3.9/dist-packages (from transformers) (6.0)\n",
            "Collecting tokenizers!=0.11.3,<0.14,>=0.11.1\n",
            "  Downloading tokenizers-0.13.3-cp39-cp39-manylinux_2_17_x86_64.manylinux2014_x86_64.whl (7.8 MB)\n",
            "\u001b[2K     \u001b[90m━━━━━━━━━━━━━━━━━━━━━━━━━━━━━━━━━━━━━━━━\u001b[0m \u001b[32m7.8/7.8 MB\u001b[0m \u001b[31m61.1 MB/s\u001b[0m eta \u001b[36m0:00:00\u001b[0m\n",
            "\u001b[?25hRequirement already satisfied: tqdm>=4.27 in /usr/local/lib/python3.9/dist-packages (from transformers) (4.65.0)\n",
            "Requirement already satisfied: packaging>=20.0 in /usr/local/lib/python3.9/dist-packages (from transformers) (23.0)\n",
            "Requirement already satisfied: regex!=2019.12.17 in /usr/local/lib/python3.9/dist-packages (from transformers) (2022.10.31)\n",
            "Requirement already satisfied: filelock in /usr/local/lib/python3.9/dist-packages (from transformers) (3.11.0)\n",
            "Requirement already satisfied: requests in /usr/local/lib/python3.9/dist-packages (from transformers) (2.27.1)\n",
            "Requirement already satisfied: typing-extensions>=3.7.4.3 in /usr/local/lib/python3.9/dist-packages (from huggingface-hub<1.0,>=0.11.0->transformers) (4.5.0)\n",
            "Requirement already satisfied: charset-normalizer~=2.0.0 in /usr/local/lib/python3.9/dist-packages (from requests->transformers) (2.0.12)\n",
            "Requirement already satisfied: urllib3<1.27,>=1.21.1 in /usr/local/lib/python3.9/dist-packages (from requests->transformers) (1.26.15)\n",
            "Requirement already satisfied: certifi>=2017.4.17 in /usr/local/lib/python3.9/dist-packages (from requests->transformers) (2022.12.7)\n",
            "Requirement already satisfied: idna<4,>=2.5 in /usr/local/lib/python3.9/dist-packages (from requests->transformers) (3.4)\n",
            "Installing collected packages: tokenizers, huggingface-hub, transformers\n",
            "Successfully installed huggingface-hub-0.13.4 tokenizers-0.13.3 transformers-4.28.1\n"
          ]
        }
      ]
    },
    {
      "cell_type": "code",
      "source": [
        "import tensorflow as tf\n",
        "from transformers import TFBertModel, BertTokenizer\n",
        "\n",
        "bert_model = TFBertModel.from_pretrained('bert-base-uncased')\n",
        "tokenizer = BertTokenizer.from_pretrained('bert-base-uncased')"
      ],
      "metadata": {
        "id": "bBf29bVU1OIC",
        "colab": {
          "base_uri": "https://localhost:8080/",
          "height": 232,
          "referenced_widgets": [
            "c91590b1d55246299dca6224a626a592",
            "c94046f3ec5d44ebb6f402bd00423f43",
            "8345d026818e4c1c8e8e287735d801c5",
            "93b153eb167e439098f0a3db907f7128",
            "cf80fa708dba4468b0228999f98f7d3a",
            "51af2c43b86d44b78440fdd88d8cd397",
            "ea55df651ae14c519face0c93d8fc52d",
            "75d1ea62a6924102834a4a10abfe421d",
            "097c45f5c23c4b0f92ed7251174d4541",
            "4d6b69b5c00e474b9e58ff712a491c76",
            "73e8ab9366f2433ab74c61cb4a77dd0e",
            "3739eb9e3ffb456783255cfa75cc3935",
            "52d7bbca61284c56af4ceb19bf0af92e",
            "9604e25c68264b2ebfa5005f05219c62",
            "4ca46ac89bfe4ae9ab7593c574e7828e",
            "9a705fabd6184c10b8088a4f896ebcdf",
            "ffcdb8b151c941b5b000bf436b413e0a",
            "237ed844eded4e5a8bc777b1f33796d9",
            "6ea99a60aeb54fcfbe75785186ff81c6",
            "5cc7c8c2de244c8abde9f1d685caa372",
            "4b20d50b6afb4700a8672191a51513ee",
            "120ff23268184187be718e816bdf92e0",
            "b3428c7878bc4994a8d0b2ad5269effd",
            "fac9415c02414bc9891a84e5a9b32a7f",
            "5c29e09b208141e0b075e12dfd51728f",
            "5bb2383069f846e7ac1e2a841bbdfb25",
            "8e670105845546f6a87e71e875af25a9",
            "bc3eb2babad24429b66ff4e84a168e38",
            "a1868cb121e44d41aa036d7b38d72fd8",
            "c8c0ac14b06a483caab1f03366be515e",
            "df64e3e27b4044b98b066b2071c975af",
            "ca7068ea04b94f68b6cd6af9ce219453",
            "c49903109503432aa0dd79f00903f29c",
            "14652dd468e94a1ea57298e3db38a637",
            "728a914eff6b4cae8aa086130cfc5945",
            "8e6cb37c565146ed9390c48ca9179a47",
            "2774a9ef5f114f009cdad108367ca3f8",
            "a911d0be96d94126b1cd994cf883b7a5",
            "aad99df7bf214614953a7e0729a02804",
            "89e40874541443c1b428869001a2a7f7",
            "28ee8b3aaec24e54a1d5b0b83b03d9c4",
            "5754db4ee1884fd696378ae4929887d2",
            "52fd5b749cdc4fa982670de2ed0162f2",
            "b538c0fde04e4c26aea5d70360e8d50f"
          ]
        },
        "outputId": "273eef8c-e9f4-4702-de6c-2ec5706023e3"
      },
      "execution_count": null,
      "outputs": [
        {
          "output_type": "display_data",
          "data": {
            "text/plain": [
              "Downloading (…)lve/main/config.json:   0%|          | 0.00/570 [00:00<?, ?B/s]"
            ],
            "application/vnd.jupyter.widget-view+json": {
              "version_major": 2,
              "version_minor": 0,
              "model_id": "c91590b1d55246299dca6224a626a592"
            }
          },
          "metadata": {}
        },
        {
          "output_type": "display_data",
          "data": {
            "text/plain": [
              "Downloading tf_model.h5:   0%|          | 0.00/536M [00:00<?, ?B/s]"
            ],
            "application/vnd.jupyter.widget-view+json": {
              "version_major": 2,
              "version_minor": 0,
              "model_id": "3739eb9e3ffb456783255cfa75cc3935"
            }
          },
          "metadata": {}
        },
        {
          "output_type": "stream",
          "name": "stderr",
          "text": [
            "Some layers from the model checkpoint at bert-base-uncased were not used when initializing TFBertModel: ['mlm___cls', 'nsp___cls']\n",
            "- This IS expected if you are initializing TFBertModel from the checkpoint of a model trained on another task or with another architecture (e.g. initializing a BertForSequenceClassification model from a BertForPreTraining model).\n",
            "- This IS NOT expected if you are initializing TFBertModel from the checkpoint of a model that you expect to be exactly identical (initializing a BertForSequenceClassification model from a BertForSequenceClassification model).\n",
            "All the layers of TFBertModel were initialized from the model checkpoint at bert-base-uncased.\n",
            "If your task is similar to the task the model of the checkpoint was trained on, you can already use TFBertModel for predictions without further training.\n"
          ]
        },
        {
          "output_type": "display_data",
          "data": {
            "text/plain": [
              "Downloading (…)solve/main/vocab.txt:   0%|          | 0.00/232k [00:00<?, ?B/s]"
            ],
            "application/vnd.jupyter.widget-view+json": {
              "version_major": 2,
              "version_minor": 0,
              "model_id": "b3428c7878bc4994a8d0b2ad5269effd"
            }
          },
          "metadata": {}
        },
        {
          "output_type": "display_data",
          "data": {
            "text/plain": [
              "Downloading (…)okenizer_config.json:   0%|          | 0.00/28.0 [00:00<?, ?B/s]"
            ],
            "application/vnd.jupyter.widget-view+json": {
              "version_major": 2,
              "version_minor": 0,
              "model_id": "14652dd468e94a1ea57298e3db38a637"
            }
          },
          "metadata": {}
        }
      ]
    },
    {
      "cell_type": "code",
      "source": [
        "X_train_encoded = tokenizer(X_train.tolist(), padding=True, truncation=True, return_tensors='tf')\n",
        "X_test_encoded = tokenizer(X_test.tolist(), padding=True, truncation=True, return_tensors='tf')\n",
        "\n",
        "train_dataset = tf.data.Dataset.from_tensor_slices((dict(X_train_encoded), tf.constant(y_train, dtype=tf.int64)))\n",
        "train_dataset = train_dataset.shuffle(len(X_train)).batch(32)\n",
        "test_dataset = tf.data.Dataset.from_tensor_slices((dict(X_test_encoded), tf.constant(y_test, dtype=tf.int64)))\n",
        "test_dataset = test_dataset.batch(32)"
      ],
      "metadata": {
        "id": "S09jIDqCd_6v"
      },
      "execution_count": null,
      "outputs": []
    },
    {
      "cell_type": "code",
      "source": [
        "input_ids = tf.keras.layers.Input(shape=(None,), dtype=tf.int32, name='input_ids')\n",
        "attention_mask = tf.keras.layers.Input(shape=(None,), dtype=tf.int32, name='attention_mask')\n",
        "bert_output = bert_model({'input_ids': input_ids, 'attention_mask': attention_mask})[0]\n",
        "output = tf.keras.layers.Dense(1, activation='sigmoid')(bert_output[:, 0, :])\n",
        "model = tf.keras.Model(inputs=[input_ids, attention_mask], outputs=output)"
      ],
      "metadata": {
        "id": "RjHg63laeAnH"
      },
      "execution_count": null,
      "outputs": []
    },
    {
      "cell_type": "code",
      "source": [
        "model.compile(optimizer=tf.keras.optimizers.Adam(learning_rate=2e-5),\n",
        "              loss='binary_crossentropy', metrics=['accuracy'])\n",
        "\n",
        "history = model.fit(train_dataset, epochs=3, validation_data=test_dataset)\n",
        "\n",
        "results = model.evaluate(test_dataset)\n",
        "print('Test loss:', results[0])\n",
        "print('Test accuracy:', results[1])\n"
      ],
      "metadata": {
        "colab": {
          "base_uri": "https://localhost:8080/",
          "height": 571
        },
        "id": "RU8yHeDleBMG",
        "outputId": "cc7d5064-f0c9-45aa-b450-55d1d7443430"
      },
      "execution_count": null,
      "outputs": [
        {
          "output_type": "stream",
          "name": "stdout",
          "text": [
            "Epoch 1/3\n"
          ]
        },
        {
          "output_type": "stream",
          "name": "stderr",
          "text": [
            "/usr/local/lib/python3.9/dist-packages/keras/engine/functional.py:639: UserWarning: Input dict contained keys ['token_type_ids'] which did not match any model input. They will be ignored by the model.\n",
            "  inputs = self._flatten_to_reference_inputs(inputs)\n",
            "WARNING:tensorflow:Gradients do not exist for variables ['tf_bert_model/bert/pooler/dense/kernel:0', 'tf_bert_model/bert/pooler/dense/bias:0'] when minimizing the loss. If you're using `model.compile()`, did you forget to provide a `loss` argument?\n",
            "WARNING:tensorflow:Gradients do not exist for variables ['tf_bert_model/bert/pooler/dense/kernel:0', 'tf_bert_model/bert/pooler/dense/bias:0'] when minimizing the loss. If you're using `model.compile()`, did you forget to provide a `loss` argument?\n",
            "WARNING:tensorflow:Gradients do not exist for variables ['tf_bert_model/bert/pooler/dense/kernel:0', 'tf_bert_model/bert/pooler/dense/bias:0'] when minimizing the loss. If you're using `model.compile()`, did you forget to provide a `loss` argument?\n",
            "WARNING:tensorflow:Gradients do not exist for variables ['tf_bert_model/bert/pooler/dense/kernel:0', 'tf_bert_model/bert/pooler/dense/bias:0'] when minimizing the loss. If you're using `model.compile()`, did you forget to provide a `loss` argument?\n"
          ]
        },
        {
          "output_type": "stream",
          "name": "stdout",
          "text": [
            "36/36 [==============================] - 552s 14s/step - loss: -12.2406 - accuracy: 0.1995 - val_loss: -21.2252 - val_accuracy: 0.1779\n",
            "Epoch 2/3\n",
            "36/36 [==============================] - 550s 15s/step - loss: -23.5031 - accuracy: 0.2048 - val_loss: -24.1845 - val_accuracy: 0.1779\n"
          ]
        },
        {
          "output_type": "error",
          "ename": "KeyboardInterrupt",
          "evalue": "ignored",
          "traceback": [
            "\u001b[0;31m---------------------------------------------------------------------------\u001b[0m",
            "\u001b[0;31mKeyboardInterrupt\u001b[0m                         Traceback (most recent call last)",
            "\u001b[0;32m<ipython-input-22-33f1300668b6>\u001b[0m in \u001b[0;36m<cell line: 4>\u001b[0;34m()\u001b[0m\n\u001b[1;32m      2\u001b[0m               loss='binary_crossentropy', metrics=['accuracy'])\n\u001b[1;32m      3\u001b[0m \u001b[0;34m\u001b[0m\u001b[0m\n\u001b[0;32m----> 4\u001b[0;31m \u001b[0mhistory\u001b[0m \u001b[0;34m=\u001b[0m \u001b[0mmodel\u001b[0m\u001b[0;34m.\u001b[0m\u001b[0mfit\u001b[0m\u001b[0;34m(\u001b[0m\u001b[0mtrain_dataset\u001b[0m\u001b[0;34m,\u001b[0m \u001b[0mepochs\u001b[0m\u001b[0;34m=\u001b[0m\u001b[0;36m3\u001b[0m\u001b[0;34m,\u001b[0m \u001b[0mvalidation_data\u001b[0m\u001b[0;34m=\u001b[0m\u001b[0mtest_dataset\u001b[0m\u001b[0;34m)\u001b[0m\u001b[0;34m\u001b[0m\u001b[0;34m\u001b[0m\u001b[0m\n\u001b[0m\u001b[1;32m      5\u001b[0m \u001b[0;34m\u001b[0m\u001b[0m\n\u001b[1;32m      6\u001b[0m \u001b[0mresults\u001b[0m \u001b[0;34m=\u001b[0m \u001b[0mmodel\u001b[0m\u001b[0;34m.\u001b[0m\u001b[0mevaluate\u001b[0m\u001b[0;34m(\u001b[0m\u001b[0mtest_dataset\u001b[0m\u001b[0;34m)\u001b[0m\u001b[0;34m\u001b[0m\u001b[0;34m\u001b[0m\u001b[0m\n",
            "\u001b[0;32m/usr/local/lib/python3.9/dist-packages/keras/utils/traceback_utils.py\u001b[0m in \u001b[0;36merror_handler\u001b[0;34m(*args, **kwargs)\u001b[0m\n\u001b[1;32m     63\u001b[0m         \u001b[0mfiltered_tb\u001b[0m \u001b[0;34m=\u001b[0m \u001b[0;32mNone\u001b[0m\u001b[0;34m\u001b[0m\u001b[0;34m\u001b[0m\u001b[0m\n\u001b[1;32m     64\u001b[0m         \u001b[0;32mtry\u001b[0m\u001b[0;34m:\u001b[0m\u001b[0;34m\u001b[0m\u001b[0;34m\u001b[0m\u001b[0m\n\u001b[0;32m---> 65\u001b[0;31m             \u001b[0;32mreturn\u001b[0m \u001b[0mfn\u001b[0m\u001b[0;34m(\u001b[0m\u001b[0;34m*\u001b[0m\u001b[0margs\u001b[0m\u001b[0;34m,\u001b[0m \u001b[0;34m**\u001b[0m\u001b[0mkwargs\u001b[0m\u001b[0;34m)\u001b[0m\u001b[0;34m\u001b[0m\u001b[0;34m\u001b[0m\u001b[0m\n\u001b[0m\u001b[1;32m     66\u001b[0m         \u001b[0;32mexcept\u001b[0m \u001b[0mException\u001b[0m \u001b[0;32mas\u001b[0m \u001b[0me\u001b[0m\u001b[0;34m:\u001b[0m\u001b[0;34m\u001b[0m\u001b[0;34m\u001b[0m\u001b[0m\n\u001b[1;32m     67\u001b[0m             \u001b[0mfiltered_tb\u001b[0m \u001b[0;34m=\u001b[0m \u001b[0m_process_traceback_frames\u001b[0m\u001b[0;34m(\u001b[0m\u001b[0me\u001b[0m\u001b[0;34m.\u001b[0m\u001b[0m__traceback__\u001b[0m\u001b[0;34m)\u001b[0m\u001b[0;34m\u001b[0m\u001b[0;34m\u001b[0m\u001b[0m\n",
            "\u001b[0;32m/usr/local/lib/python3.9/dist-packages/keras/engine/training.py\u001b[0m in \u001b[0;36mfit\u001b[0;34m(self, x, y, batch_size, epochs, verbose, callbacks, validation_split, validation_data, shuffle, class_weight, sample_weight, initial_epoch, steps_per_epoch, validation_steps, validation_batch_size, validation_freq, max_queue_size, workers, use_multiprocessing)\u001b[0m\n\u001b[1;32m   1671\u001b[0m             \u001b[0mlogs\u001b[0m \u001b[0;34m=\u001b[0m \u001b[0;32mNone\u001b[0m\u001b[0;34m\u001b[0m\u001b[0;34m\u001b[0m\u001b[0m\n\u001b[1;32m   1672\u001b[0m             \u001b[0;32mfor\u001b[0m \u001b[0mepoch\u001b[0m\u001b[0;34m,\u001b[0m \u001b[0miterator\u001b[0m \u001b[0;32min\u001b[0m \u001b[0mdata_handler\u001b[0m\u001b[0;34m.\u001b[0m\u001b[0menumerate_epochs\u001b[0m\u001b[0;34m(\u001b[0m\u001b[0;34m)\u001b[0m\u001b[0;34m:\u001b[0m\u001b[0;34m\u001b[0m\u001b[0;34m\u001b[0m\u001b[0m\n\u001b[0;32m-> 1673\u001b[0;31m                 \u001b[0mself\u001b[0m\u001b[0;34m.\u001b[0m\u001b[0mreset_metrics\u001b[0m\u001b[0;34m(\u001b[0m\u001b[0;34m)\u001b[0m\u001b[0;34m\u001b[0m\u001b[0;34m\u001b[0m\u001b[0m\n\u001b[0m\u001b[1;32m   1674\u001b[0m                 \u001b[0mcallbacks\u001b[0m\u001b[0;34m.\u001b[0m\u001b[0mon_epoch_begin\u001b[0m\u001b[0;34m(\u001b[0m\u001b[0mepoch\u001b[0m\u001b[0;34m)\u001b[0m\u001b[0;34m\u001b[0m\u001b[0;34m\u001b[0m\u001b[0m\n\u001b[1;32m   1675\u001b[0m                 \u001b[0;32mwith\u001b[0m \u001b[0mdata_handler\u001b[0m\u001b[0;34m.\u001b[0m\u001b[0mcatch_stop_iteration\u001b[0m\u001b[0;34m(\u001b[0m\u001b[0;34m)\u001b[0m\u001b[0;34m:\u001b[0m\u001b[0;34m\u001b[0m\u001b[0;34m\u001b[0m\u001b[0m\n",
            "\u001b[0;31mKeyboardInterrupt\u001b[0m: "
          ]
        }
      ]
    },
    {
      "cell_type": "code",
      "source": [],
      "metadata": {
        "id": "9zBqz1vng9fq"
      },
      "execution_count": null,
      "outputs": []
    },
    {
      "cell_type": "markdown",
      "source": [
        "# Approach #2"
      ],
      "metadata": {
        "id": "gCa2VboOo3Rn"
      }
    },
    {
      "cell_type": "code",
      "source": [
        "from google.colab import drive\n",
        "drive.mount('/content/drive')"
      ],
      "metadata": {
        "colab": {
          "base_uri": "https://localhost:8080/"
        },
        "id": "gE9T94KFuzxg",
        "outputId": "14d54ee1-5268-4ead-8913-a30086162acd"
      },
      "execution_count": null,
      "outputs": [
        {
          "output_type": "stream",
          "name": "stdout",
          "text": [
            "Mounted at /content/drive\n"
          ]
        }
      ]
    },
    {
      "cell_type": "code",
      "source": [
        "!pip install transformers\n",
        "import pandas as pd\n",
        "import numpy as np\n",
        "from transformers import AutoTokenizer, AutoModelForSequenceClassification\n",
        "\n",
        "tokenizer = AutoTokenizer.from_pretrained('roberta-base')"
      ],
      "metadata": {
        "colab": {
          "base_uri": "https://localhost:8080/"
        },
        "id": "HSqTxnSmo5ia",
        "outputId": "4c5b5b90-299a-4209-d474-f2c4acf2754b"
      },
      "execution_count": null,
      "outputs": [
        {
          "output_type": "stream",
          "name": "stdout",
          "text": [
            "Looking in indexes: https://pypi.org/simple, https://us-python.pkg.dev/colab-wheels/public/simple/\n",
            "Requirement already satisfied: transformers in /usr/local/lib/python3.9/dist-packages (4.28.1)\n",
            "Requirement already satisfied: filelock in /usr/local/lib/python3.9/dist-packages (from transformers) (3.11.0)\n",
            "Requirement already satisfied: huggingface-hub<1.0,>=0.11.0 in /usr/local/lib/python3.9/dist-packages (from transformers) (0.13.4)\n",
            "Requirement already satisfied: requests in /usr/local/lib/python3.9/dist-packages (from transformers) (2.27.1)\n",
            "Requirement already satisfied: packaging>=20.0 in /usr/local/lib/python3.9/dist-packages (from transformers) (23.0)\n",
            "Requirement already satisfied: tokenizers!=0.11.3,<0.14,>=0.11.1 in /usr/local/lib/python3.9/dist-packages (from transformers) (0.13.3)\n",
            "Requirement already satisfied: numpy>=1.17 in /usr/local/lib/python3.9/dist-packages (from transformers) (1.22.4)\n",
            "Requirement already satisfied: tqdm>=4.27 in /usr/local/lib/python3.9/dist-packages (from transformers) (4.65.0)\n",
            "Requirement already satisfied: regex!=2019.12.17 in /usr/local/lib/python3.9/dist-packages (from transformers) (2022.10.31)\n",
            "Requirement already satisfied: pyyaml>=5.1 in /usr/local/lib/python3.9/dist-packages (from transformers) (6.0)\n",
            "Requirement already satisfied: typing-extensions>=3.7.4.3 in /usr/local/lib/python3.9/dist-packages (from huggingface-hub<1.0,>=0.11.0->transformers) (4.5.0)\n",
            "Requirement already satisfied: charset-normalizer~=2.0.0 in /usr/local/lib/python3.9/dist-packages (from requests->transformers) (2.0.12)\n",
            "Requirement already satisfied: idna<4,>=2.5 in /usr/local/lib/python3.9/dist-packages (from requests->transformers) (3.4)\n",
            "Requirement already satisfied: urllib3<1.27,>=1.21.1 in /usr/local/lib/python3.9/dist-packages (from requests->transformers) (1.26.15)\n",
            "Requirement already satisfied: certifi>=2017.4.17 in /usr/local/lib/python3.9/dist-packages (from requests->transformers) (2022.12.7)\n"
          ]
        }
      ]
    },
    {
      "cell_type": "markdown",
      "source": [
        "## Load in Data"
      ],
      "metadata": {
        "id": "E6DjdvoBuKoQ"
      }
    },
    {
      "cell_type": "code",
      "source": [
        "# df = pd.read_csv(r'/content/drive/MyDrive/IEMOCAP_DataFrame.csv')\n",
        "df = pd.read_csv(r'/content/drive/MyDrive/IEMOCAP_Full.csv')\n",
        "\n",
        "# Removing values where emotion is \"xxx\"\n",
        "df_emotion = df[df['Emotion'].isin(['neu', 'ang', 'sad', 'hap'])]\n",
        "\n",
        "convention = { \"neu\":0, \"ang\":1, \"sad\":2, \"hap\":3}\n",
        "df_emotion.loc[df[\"Emotion\"] == \"neu\", \"Emotion\"] = 0\n",
        "df_emotion.loc[df[\"Emotion\"] == \"ang\", \"Emotion\"] = 1\n",
        "df_emotion.loc[df[\"Emotion\"] == \"sad\", \"Emotion\"] = 2\n",
        "df_emotion.loc[df[\"Emotion\"] == \"hap\", \"Emotion\"] = 3\n",
        "\n",
        "dataset = df_emotion[['Text', 'Emotion']]"
      ],
      "metadata": {
        "id": "tzE101ZrqfFE"
      },
      "execution_count": null,
      "outputs": []
    },
    {
      "cell_type": "code",
      "source": [
        "# Removing values where emotion is \"xxx\"\n",
        "df_emotion = df[df['Emotion'].isin(['neu', 'ang', 'sad', 'hap'])]\n",
        "\n",
        "convention = { \"neu\":0, \"ang\":1, \"sad\":2, \"hap\":3}\n",
        "df_emotion.loc[df[\"Emotion\"] == \"neu\", \"Emotion\"] = 0\n",
        "df_emotion.loc[df[\"Emotion\"] == \"ang\", \"Emotion\"] = 1\n",
        "df_emotion.loc[df[\"Emotion\"] == \"sad\", \"Emotion\"] = 2\n",
        "df_emotion.loc[df[\"Emotion\"] == \"hap\", \"Emotion\"] = 3\n",
        "\n",
        "dataset = df_emotion[['Text', 'Emotion']]"
      ],
      "metadata": {
        "id": "G5EiAZwItUUc"
      },
      "execution_count": null,
      "outputs": []
    },
    {
      "cell_type": "code",
      "source": [
        "dataset.head()"
      ],
      "metadata": {
        "colab": {
          "base_uri": "https://localhost:8080/",
          "height": 206
        },
        "id": "7VpPOLsAqWvj",
        "outputId": "8b64a3a6-9b47-4c18-f15d-bc5a6e29fde6"
      },
      "execution_count": null,
      "outputs": [
        {
          "output_type": "execute_result",
          "data": {
            "text/plain": [
              "                                           Text Emotion\n",
              "0                                    Excuse me.       0\n",
              "1                                         Yeah.       0\n",
              "2                           Is there a problem?       0\n",
              "5   Well what's the problem?  Let me change it.       0\n",
              "12                       That's out of control.       1"
            ],
            "text/html": [
              "\n",
              "  <div id=\"df-96a19e0c-2927-4dc1-b5ee-615867e7c9ca\">\n",
              "    <div class=\"colab-df-container\">\n",
              "      <div>\n",
              "<style scoped>\n",
              "    .dataframe tbody tr th:only-of-type {\n",
              "        vertical-align: middle;\n",
              "    }\n",
              "\n",
              "    .dataframe tbody tr th {\n",
              "        vertical-align: top;\n",
              "    }\n",
              "\n",
              "    .dataframe thead th {\n",
              "        text-align: right;\n",
              "    }\n",
              "</style>\n",
              "<table border=\"1\" class=\"dataframe\">\n",
              "  <thead>\n",
              "    <tr style=\"text-align: right;\">\n",
              "      <th></th>\n",
              "      <th>Text</th>\n",
              "      <th>Emotion</th>\n",
              "    </tr>\n",
              "  </thead>\n",
              "  <tbody>\n",
              "    <tr>\n",
              "      <th>0</th>\n",
              "      <td>Excuse me.</td>\n",
              "      <td>0</td>\n",
              "    </tr>\n",
              "    <tr>\n",
              "      <th>1</th>\n",
              "      <td>Yeah.</td>\n",
              "      <td>0</td>\n",
              "    </tr>\n",
              "    <tr>\n",
              "      <th>2</th>\n",
              "      <td>Is there a problem?</td>\n",
              "      <td>0</td>\n",
              "    </tr>\n",
              "    <tr>\n",
              "      <th>5</th>\n",
              "      <td>Well what's the problem?  Let me change it.</td>\n",
              "      <td>0</td>\n",
              "    </tr>\n",
              "    <tr>\n",
              "      <th>12</th>\n",
              "      <td>That's out of control.</td>\n",
              "      <td>1</td>\n",
              "    </tr>\n",
              "  </tbody>\n",
              "</table>\n",
              "</div>\n",
              "      <button class=\"colab-df-convert\" onclick=\"convertToInteractive('df-96a19e0c-2927-4dc1-b5ee-615867e7c9ca')\"\n",
              "              title=\"Convert this dataframe to an interactive table.\"\n",
              "              style=\"display:none;\">\n",
              "        \n",
              "  <svg xmlns=\"http://www.w3.org/2000/svg\" height=\"24px\"viewBox=\"0 0 24 24\"\n",
              "       width=\"24px\">\n",
              "    <path d=\"M0 0h24v24H0V0z\" fill=\"none\"/>\n",
              "    <path d=\"M18.56 5.44l.94 2.06.94-2.06 2.06-.94-2.06-.94-.94-2.06-.94 2.06-2.06.94zm-11 1L8.5 8.5l.94-2.06 2.06-.94-2.06-.94L8.5 2.5l-.94 2.06-2.06.94zm10 10l.94 2.06.94-2.06 2.06-.94-2.06-.94-.94-2.06-.94 2.06-2.06.94z\"/><path d=\"M17.41 7.96l-1.37-1.37c-.4-.4-.92-.59-1.43-.59-.52 0-1.04.2-1.43.59L10.3 9.45l-7.72 7.72c-.78.78-.78 2.05 0 2.83L4 21.41c.39.39.9.59 1.41.59.51 0 1.02-.2 1.41-.59l7.78-7.78 2.81-2.81c.8-.78.8-2.07 0-2.86zM5.41 20L4 18.59l7.72-7.72 1.47 1.35L5.41 20z\"/>\n",
              "  </svg>\n",
              "      </button>\n",
              "      \n",
              "  <style>\n",
              "    .colab-df-container {\n",
              "      display:flex;\n",
              "      flex-wrap:wrap;\n",
              "      gap: 12px;\n",
              "    }\n",
              "\n",
              "    .colab-df-convert {\n",
              "      background-color: #E8F0FE;\n",
              "      border: none;\n",
              "      border-radius: 50%;\n",
              "      cursor: pointer;\n",
              "      display: none;\n",
              "      fill: #1967D2;\n",
              "      height: 32px;\n",
              "      padding: 0 0 0 0;\n",
              "      width: 32px;\n",
              "    }\n",
              "\n",
              "    .colab-df-convert:hover {\n",
              "      background-color: #E2EBFA;\n",
              "      box-shadow: 0px 1px 2px rgba(60, 64, 67, 0.3), 0px 1px 3px 1px rgba(60, 64, 67, 0.15);\n",
              "      fill: #174EA6;\n",
              "    }\n",
              "\n",
              "    [theme=dark] .colab-df-convert {\n",
              "      background-color: #3B4455;\n",
              "      fill: #D2E3FC;\n",
              "    }\n",
              "\n",
              "    [theme=dark] .colab-df-convert:hover {\n",
              "      background-color: #434B5C;\n",
              "      box-shadow: 0px 1px 3px 1px rgba(0, 0, 0, 0.15);\n",
              "      filter: drop-shadow(0px 1px 2px rgba(0, 0, 0, 0.3));\n",
              "      fill: #FFFFFF;\n",
              "    }\n",
              "  </style>\n",
              "\n",
              "      <script>\n",
              "        const buttonEl =\n",
              "          document.querySelector('#df-96a19e0c-2927-4dc1-b5ee-615867e7c9ca button.colab-df-convert');\n",
              "        buttonEl.style.display =\n",
              "          google.colab.kernel.accessAllowed ? 'block' : 'none';\n",
              "\n",
              "        async function convertToInteractive(key) {\n",
              "          const element = document.querySelector('#df-96a19e0c-2927-4dc1-b5ee-615867e7c9ca');\n",
              "          const dataTable =\n",
              "            await google.colab.kernel.invokeFunction('convertToInteractive',\n",
              "                                                     [key], {});\n",
              "          if (!dataTable) return;\n",
              "\n",
              "          const docLinkHtml = 'Like what you see? Visit the ' +\n",
              "            '<a target=\"_blank\" href=https://colab.research.google.com/notebooks/data_table.ipynb>data table notebook</a>'\n",
              "            + ' to learn more about interactive tables.';\n",
              "          element.innerHTML = '';\n",
              "          dataTable['output_type'] = 'display_data';\n",
              "          await google.colab.output.renderOutput(dataTable, element);\n",
              "          const docLink = document.createElement('div');\n",
              "          docLink.innerHTML = docLinkHtml;\n",
              "          element.appendChild(docLink);\n",
              "        }\n",
              "      </script>\n",
              "    </div>\n",
              "  </div>\n",
              "  "
            ]
          },
          "metadata": {},
          "execution_count": 34
        }
      ]
    },
    {
      "cell_type": "code",
      "source": [
        "dummies = pd.get_dummies(dataset['Emotion'])\n",
        "dataset['Labels'] = dummies.values.tolist()\n",
        "dataset"
      ],
      "metadata": {
        "colab": {
          "base_uri": "https://localhost:8080/",
          "height": 587
        },
        "id": "JVkZG7Cn-hMU",
        "outputId": "0303aa45-b48d-4a91-e05f-41fe2e779452"
      },
      "execution_count": null,
      "outputs": [
        {
          "output_type": "stream",
          "name": "stderr",
          "text": [
            "<ipython-input-40-ec3f21c0da5f>:1: FutureWarning: In a future version, the Index constructor will not infer numeric dtypes when passed object-dtype sequences (matching Series behavior)\n",
            "  dummies = pd.get_dummies(dataset['Emotion'])\n",
            "<ipython-input-40-ec3f21c0da5f>:2: SettingWithCopyWarning: \n",
            "A value is trying to be set on a copy of a slice from a DataFrame.\n",
            "Try using .loc[row_indexer,col_indexer] = value instead\n",
            "\n",
            "See the caveats in the documentation: https://pandas.pydata.org/pandas-docs/stable/user_guide/indexing.html#returning-a-view-versus-a-copy\n",
            "  dataset['Labels'] = dummies.values.tolist()\n"
          ]
        },
        {
          "output_type": "execute_result",
          "data": {
            "text/plain": [
              "                                                   Text Emotion        Labels\n",
              "0                                            Excuse me.       0  [1, 0, 0, 0]\n",
              "1                                                 Yeah.       0  [1, 0, 0, 0]\n",
              "2                                   Is there a problem?       0  [1, 0, 0, 0]\n",
              "5           Well what's the problem?  Let me change it.       0  [1, 0, 0, 0]\n",
              "12                               That's out of control.       1  [0, 1, 0, 0]\n",
              "...                                                 ...     ...           ...\n",
              "1814                        That's very amusing indeed.       1  [0, 1, 0, 0]\n",
              "1815  You...You're an evil minded, self-centered lit...       1  [0, 1, 0, 0]\n",
              "1816                        You're not going like this.       1  [0, 1, 0, 0]\n",
              "1817                                     No you're not.       1  [0, 1, 0, 0]\n",
              "1818  Shut up. Shut up. I wouldn't marry you again i...       1  [0, 1, 0, 0]\n",
              "\n",
              "[942 rows x 3 columns]"
            ],
            "text/html": [
              "\n",
              "  <div id=\"df-db3a2146-87c4-415a-a4be-a691e46078cf\">\n",
              "    <div class=\"colab-df-container\">\n",
              "      <div>\n",
              "<style scoped>\n",
              "    .dataframe tbody tr th:only-of-type {\n",
              "        vertical-align: middle;\n",
              "    }\n",
              "\n",
              "    .dataframe tbody tr th {\n",
              "        vertical-align: top;\n",
              "    }\n",
              "\n",
              "    .dataframe thead th {\n",
              "        text-align: right;\n",
              "    }\n",
              "</style>\n",
              "<table border=\"1\" class=\"dataframe\">\n",
              "  <thead>\n",
              "    <tr style=\"text-align: right;\">\n",
              "      <th></th>\n",
              "      <th>Text</th>\n",
              "      <th>Emotion</th>\n",
              "      <th>Labels</th>\n",
              "    </tr>\n",
              "  </thead>\n",
              "  <tbody>\n",
              "    <tr>\n",
              "      <th>0</th>\n",
              "      <td>Excuse me.</td>\n",
              "      <td>0</td>\n",
              "      <td>[1, 0, 0, 0]</td>\n",
              "    </tr>\n",
              "    <tr>\n",
              "      <th>1</th>\n",
              "      <td>Yeah.</td>\n",
              "      <td>0</td>\n",
              "      <td>[1, 0, 0, 0]</td>\n",
              "    </tr>\n",
              "    <tr>\n",
              "      <th>2</th>\n",
              "      <td>Is there a problem?</td>\n",
              "      <td>0</td>\n",
              "      <td>[1, 0, 0, 0]</td>\n",
              "    </tr>\n",
              "    <tr>\n",
              "      <th>5</th>\n",
              "      <td>Well what's the problem?  Let me change it.</td>\n",
              "      <td>0</td>\n",
              "      <td>[1, 0, 0, 0]</td>\n",
              "    </tr>\n",
              "    <tr>\n",
              "      <th>12</th>\n",
              "      <td>That's out of control.</td>\n",
              "      <td>1</td>\n",
              "      <td>[0, 1, 0, 0]</td>\n",
              "    </tr>\n",
              "    <tr>\n",
              "      <th>...</th>\n",
              "      <td>...</td>\n",
              "      <td>...</td>\n",
              "      <td>...</td>\n",
              "    </tr>\n",
              "    <tr>\n",
              "      <th>1814</th>\n",
              "      <td>That's very amusing indeed.</td>\n",
              "      <td>1</td>\n",
              "      <td>[0, 1, 0, 0]</td>\n",
              "    </tr>\n",
              "    <tr>\n",
              "      <th>1815</th>\n",
              "      <td>You...You're an evil minded, self-centered lit...</td>\n",
              "      <td>1</td>\n",
              "      <td>[0, 1, 0, 0]</td>\n",
              "    </tr>\n",
              "    <tr>\n",
              "      <th>1816</th>\n",
              "      <td>You're not going like this.</td>\n",
              "      <td>1</td>\n",
              "      <td>[0, 1, 0, 0]</td>\n",
              "    </tr>\n",
              "    <tr>\n",
              "      <th>1817</th>\n",
              "      <td>No you're not.</td>\n",
              "      <td>1</td>\n",
              "      <td>[0, 1, 0, 0]</td>\n",
              "    </tr>\n",
              "    <tr>\n",
              "      <th>1818</th>\n",
              "      <td>Shut up. Shut up. I wouldn't marry you again i...</td>\n",
              "      <td>1</td>\n",
              "      <td>[0, 1, 0, 0]</td>\n",
              "    </tr>\n",
              "  </tbody>\n",
              "</table>\n",
              "<p>942 rows × 3 columns</p>\n",
              "</div>\n",
              "      <button class=\"colab-df-convert\" onclick=\"convertToInteractive('df-db3a2146-87c4-415a-a4be-a691e46078cf')\"\n",
              "              title=\"Convert this dataframe to an interactive table.\"\n",
              "              style=\"display:none;\">\n",
              "        \n",
              "  <svg xmlns=\"http://www.w3.org/2000/svg\" height=\"24px\"viewBox=\"0 0 24 24\"\n",
              "       width=\"24px\">\n",
              "    <path d=\"M0 0h24v24H0V0z\" fill=\"none\"/>\n",
              "    <path d=\"M18.56 5.44l.94 2.06.94-2.06 2.06-.94-2.06-.94-.94-2.06-.94 2.06-2.06.94zm-11 1L8.5 8.5l.94-2.06 2.06-.94-2.06-.94L8.5 2.5l-.94 2.06-2.06.94zm10 10l.94 2.06.94-2.06 2.06-.94-2.06-.94-.94-2.06-.94 2.06-2.06.94z\"/><path d=\"M17.41 7.96l-1.37-1.37c-.4-.4-.92-.59-1.43-.59-.52 0-1.04.2-1.43.59L10.3 9.45l-7.72 7.72c-.78.78-.78 2.05 0 2.83L4 21.41c.39.39.9.59 1.41.59.51 0 1.02-.2 1.41-.59l7.78-7.78 2.81-2.81c.8-.78.8-2.07 0-2.86zM5.41 20L4 18.59l7.72-7.72 1.47 1.35L5.41 20z\"/>\n",
              "  </svg>\n",
              "      </button>\n",
              "      \n",
              "  <style>\n",
              "    .colab-df-container {\n",
              "      display:flex;\n",
              "      flex-wrap:wrap;\n",
              "      gap: 12px;\n",
              "    }\n",
              "\n",
              "    .colab-df-convert {\n",
              "      background-color: #E8F0FE;\n",
              "      border: none;\n",
              "      border-radius: 50%;\n",
              "      cursor: pointer;\n",
              "      display: none;\n",
              "      fill: #1967D2;\n",
              "      height: 32px;\n",
              "      padding: 0 0 0 0;\n",
              "      width: 32px;\n",
              "    }\n",
              "\n",
              "    .colab-df-convert:hover {\n",
              "      background-color: #E2EBFA;\n",
              "      box-shadow: 0px 1px 2px rgba(60, 64, 67, 0.3), 0px 1px 3px 1px rgba(60, 64, 67, 0.15);\n",
              "      fill: #174EA6;\n",
              "    }\n",
              "\n",
              "    [theme=dark] .colab-df-convert {\n",
              "      background-color: #3B4455;\n",
              "      fill: #D2E3FC;\n",
              "    }\n",
              "\n",
              "    [theme=dark] .colab-df-convert:hover {\n",
              "      background-color: #434B5C;\n",
              "      box-shadow: 0px 1px 3px 1px rgba(0, 0, 0, 0.15);\n",
              "      filter: drop-shadow(0px 1px 2px rgba(0, 0, 0, 0.3));\n",
              "      fill: #FFFFFF;\n",
              "    }\n",
              "  </style>\n",
              "\n",
              "      <script>\n",
              "        const buttonEl =\n",
              "          document.querySelector('#df-db3a2146-87c4-415a-a4be-a691e46078cf button.colab-df-convert');\n",
              "        buttonEl.style.display =\n",
              "          google.colab.kernel.accessAllowed ? 'block' : 'none';\n",
              "\n",
              "        async function convertToInteractive(key) {\n",
              "          const element = document.querySelector('#df-db3a2146-87c4-415a-a4be-a691e46078cf');\n",
              "          const dataTable =\n",
              "            await google.colab.kernel.invokeFunction('convertToInteractive',\n",
              "                                                     [key], {});\n",
              "          if (!dataTable) return;\n",
              "\n",
              "          const docLinkHtml = 'Like what you see? Visit the ' +\n",
              "            '<a target=\"_blank\" href=https://colab.research.google.com/notebooks/data_table.ipynb>data table notebook</a>'\n",
              "            + ' to learn more about interactive tables.';\n",
              "          element.innerHTML = '';\n",
              "          dataTable['output_type'] = 'display_data';\n",
              "          await google.colab.output.renderOutput(dataTable, element);\n",
              "          const docLink = document.createElement('div');\n",
              "          docLink.innerHTML = docLinkHtml;\n",
              "          element.appendChild(docLink);\n",
              "        }\n",
              "      </script>\n",
              "    </div>\n",
              "  </div>\n",
              "  "
            ]
          },
          "metadata": {},
          "execution_count": 40
        }
      ]
    },
    {
      "cell_type": "code",
      "source": [
        "from sklearn.model_selection import train_test_split\n",
        "\n",
        "train_dataset, test_dataset = train_test_split(dataset, test_size=0.2, shuffle = True)"
      ],
      "metadata": {
        "id": "vuWpfxbDuvc4"
      },
      "execution_count": null,
      "outputs": []
    },
    {
      "cell_type": "code",
      "source": [
        "tokenizer(train_dataset['Text'].tolist(), padding=True, truncation=True, return_tensors='pt')"
      ],
      "metadata": {
        "colab": {
          "base_uri": "https://localhost:8080/"
        },
        "id": "OJF97vDddrFm",
        "outputId": "6455d660-086e-46c9-f73d-359a799cccfe"
      },
      "execution_count": null,
      "outputs": [
        {
          "output_type": "execute_result",
          "data": {
            "text/plain": [
              "{'input_ids': tensor([[    0,  7516,  2572,  ...,     1,     1,     1],\n",
              "        [    0, 14783,     6,  ...,     1,     1,     1],\n",
              "        [    0,   894,   761,  ...,     1,     1,     1],\n",
              "        ...,\n",
              "        [    0,   100,  2813,  ...,     1,     1,     1],\n",
              "        [    0,   100,  1299,  ...,     1,     1,     1],\n",
              "        [    0,   250,  1601,  ...,     1,     1,     1]]), 'attention_mask': tensor([[1, 1, 1,  ..., 0, 0, 0],\n",
              "        [1, 1, 1,  ..., 0, 0, 0],\n",
              "        [1, 1, 1,  ..., 0, 0, 0],\n",
              "        ...,\n",
              "        [1, 1, 1,  ..., 0, 0, 0],\n",
              "        [1, 1, 1,  ..., 0, 0, 0],\n",
              "        [1, 1, 1,  ..., 0, 0, 0]])}"
            ]
          },
          "metadata": {},
          "execution_count": 42
        }
      ]
    },
    {
      "cell_type": "markdown",
      "source": [
        "## Define Dataset"
      ],
      "metadata": {
        "id": "ASs_hTd2vYgW"
      }
    },
    {
      "cell_type": "code",
      "source": [
        "from torch.utils.data import Dataset\n",
        "\n",
        "class LabeledDataset(Dataset):\n",
        "  def __init__(self, dataset):\n",
        "    tokenized_dataset = tokenizer(dataset['Text'].tolist(), padding=True, truncation=True, return_tensors='pt')\n",
        "    self.input_ids = tokenized_dataset['input_ids']\n",
        "    # self.token_type_ids = tokenized_dataset['token_type_ids']\n",
        "    self.attention_mask = tokenized_dataset['attention_mask']\n",
        "    self.labels = dataset['Labels'].values\n",
        "\n",
        "  def __len__(self):\n",
        "    return len(self.labels)\n",
        "\n",
        "  def __getitem__(self, idx):\n",
        "    return {\n",
        "        'ids': self.input_ids[idx],\n",
        "        'mask': self.attention_mask[idx],\n",
        "        # 'token_type_ids': self.token_type_ids[idx],\n",
        "        'targets': torch.tensor(self.labels[idx], dtype=torch.float)\n",
        "    }"
      ],
      "metadata": {
        "id": "UN35BL9KvXli"
      },
      "execution_count": null,
      "outputs": []
    },
    {
      "cell_type": "code",
      "source": [
        "from torch.utils.data import DataLoader\n",
        "\n",
        "labeled_dataset_train = LabeledDataset(train_dataset)\n",
        "labeled_dataset_test = LabeledDataset(test_dataset)\n",
        "train_dataloader = DataLoader(labeled_dataset_train, shuffle=True, batch_size=8)\n",
        "test_dataloader = DataLoader(labeled_dataset_test, shuffle=False, batch_size=1)"
      ],
      "metadata": {
        "id": "k3Sa4HbqtC9E"
      },
      "execution_count": null,
      "outputs": []
    },
    {
      "cell_type": "code",
      "source": [
        "import torch\n",
        "\n",
        "print(torch.cuda.is_available())\n",
        "device = torch.device('cuda') if torch.cuda.is_available() else torch.device('cpu')"
      ],
      "metadata": {
        "colab": {
          "base_uri": "https://localhost:8080/"
        },
        "id": "ZovNaDMltpK6",
        "outputId": "b4f6af42-d91a-47df-ff7c-92e37642af9f"
      },
      "execution_count": null,
      "outputs": [
        {
          "output_type": "stream",
          "name": "stdout",
          "text": [
            "True\n"
          ]
        }
      ]
    },
    {
      "cell_type": "markdown",
      "source": [
        "## Non NN Model"
      ],
      "metadata": {
        "id": "funNz_D5C3mE"
      }
    },
    {
      "cell_type": "code",
      "source": [
        "from sklearn.metrics import f1_score\n",
        "\n",
        "def f1_score_func(preds, labels, avg='micro'):\n",
        "    preds_flat = np.argmax(preds, axis=1).flatten()\n",
        "    labels_flat = np.argmax(labels, axis=1).flatten()\n",
        "    return f1_score(labels_flat, preds_flat, average=avg)\n",
        "\n",
        "def accuracy(preds, labels):\n",
        "    preds_flat = np.argmax(preds, axis=1).flatten()\n",
        "    labels_flat = np.argmax(labels, axis=1).flatten()\n",
        "    return accuracy_score(labels_flat, preds_flat)\n",
        "\n",
        "# def accuracy_per_class(preds, labels):\n",
        "#     label_dict_inverse = {v: k for k, v in label_dict.items()}\n",
        "    \n",
        "#     preds_flat = np.argmax(preds, axis=1).flatten()\n",
        "#     labels_flat = labels.flatten()\n",
        "\n",
        "#     for label in np.unique(labels_flat):\n",
        "#         y_preds = preds_flat[labels_flat==label]\n",
        "#         y_true = labels_flat[labels_flat==label]\n",
        "#         print(f'Class: {label_dict_inverse[label]}')\n",
        "#         print(f'Accuracy: {len(y_preds[y_preds==label])}/{len(y_true)}\\n')"
      ],
      "metadata": {
        "id": "0ILIOK-UKzzL"
      },
      "execution_count": null,
      "outputs": []
    },
    {
      "cell_type": "code",
      "source": [
        "from transformers import AdamW, BertForSequenceClassification, RobertaForSequenceClassification\n",
        "\n",
        "model = RobertaForSequenceClassification.from_pretrained('roberta-base', num_labels=4)\n",
        "model.load_state_dict(torch.load('/content/drive/MyDrive/roberta_full_20ep.pt'))"
      ],
      "metadata": {
        "colab": {
          "base_uri": "https://localhost:8080/"
        },
        "id": "p_VIQLQN_l7P",
        "outputId": "a5a1026e-7f3a-40e7-bfd7-b87eea8fe962"
      },
      "execution_count": null,
      "outputs": [
        {
          "output_type": "stream",
          "name": "stderr",
          "text": [
            "Some weights of the model checkpoint at roberta-base were not used when initializing RobertaForSequenceClassification: ['lm_head.dense.weight', 'lm_head.decoder.weight', 'roberta.pooler.dense.weight', 'roberta.pooler.dense.bias', 'lm_head.dense.bias', 'lm_head.layer_norm.bias', 'lm_head.bias', 'lm_head.layer_norm.weight']\n",
            "- This IS expected if you are initializing RobertaForSequenceClassification from the checkpoint of a model trained on another task or with another architecture (e.g. initializing a BertForSequenceClassification model from a BertForPreTraining model).\n",
            "- This IS NOT expected if you are initializing RobertaForSequenceClassification from the checkpoint of a model that you expect to be exactly identical (initializing a BertForSequenceClassification model from a BertForSequenceClassification model).\n",
            "Some weights of RobertaForSequenceClassification were not initialized from the model checkpoint at roberta-base and are newly initialized: ['classifier.out_proj.bias', 'classifier.dense.bias', 'classifier.dense.weight', 'classifier.out_proj.weight']\n",
            "You should probably TRAIN this model on a down-stream task to be able to use it for predictions and inference.\n"
          ]
        }
      ]
    },
    {
      "cell_type": "code",
      "source": [
        "from transformers import AdamW, BertForSequenceClassification, RobertaForSequenceClassification\n",
        "\n",
        "model = RobertaForSequenceClassification.from_pretrained('roberta-base', num_labels=4)\n",
        "# model = BertForSequenceClassification.from_pretrained('bert-base-uncased', num_labels=4)\n",
        "optimizer = AdamW(model.parameters(), lr=1e-5, eps=1e-8)\n",
        "epochs = 20\n",
        "\n",
        "model.to(device)\n",
        "\n",
        "for epoch in range(epochs):\n",
        "  model.train()\n",
        "  for _, data in enumerate(train_dataloader, 0):\n",
        "    model.zero_grad()\n",
        "\n",
        "    ids = data['ids'].to(device, dtype = torch.long)\n",
        "    mask = data['mask'].to(device, dtype = torch.long)\n",
        "    # token_type_ids = data['token_type_ids'].to(device, dtype = torch.long)\n",
        "    targets = data['targets'].to(device, dtype = torch.float)\n",
        "\n",
        "\n",
        "    inputs = {'input_ids':      ids,\n",
        "              'attention_mask': mask,\n",
        "              'labels':         targets,\n",
        "              }\n",
        "    outputs = model(**inputs)\n",
        "\n",
        "    loss = outputs[0]\n",
        "    loss.backward()\n",
        "    if _%5000==0:\n",
        "        print(f'Epoch: {epoch}, Loss:  {loss.item()}')\n",
        "        \n",
        "    optimizer.step()\n",
        "  \n",
        "  model.eval()\n",
        "\n",
        "  loss_val_total = 0\n",
        "  predictions, true_vals = [], []\n",
        "\n",
        "  for _, data in enumerate(test_dataloader, 0):\n",
        "      \n",
        "    ids = data['ids'].to(device, dtype = torch.long)\n",
        "    mask = data['mask'].to(device, dtype = torch.long)\n",
        "    # token_type_ids = data['token_type_ids'].to(device, dtype = torch.long)\n",
        "    targets = data['targets'].to(device, dtype = torch.float)\n",
        "\n",
        "\n",
        "    inputs = {'input_ids':      ids,\n",
        "              'attention_mask': mask,\n",
        "              'labels':         targets,\n",
        "              }\n",
        "    outputs = model(**inputs)\n",
        "\n",
        "    with torch.no_grad():        \n",
        "        outputs = model(**inputs)\n",
        "        \n",
        "    loss = outputs[0]\n",
        "    logits = outputs[1]\n",
        "    loss_val_total += loss.item()\n",
        "\n",
        "    logits = logits.detach().cpu().numpy()\n",
        "    label_ids = inputs['labels'].cpu().numpy()\n",
        "    predictions.append(logits)\n",
        "    true_vals.append(label_ids)\n",
        "\n",
        "  predictions = np.concatenate(predictions, axis=0)\n",
        "  true_vals = np.concatenate(true_vals, axis=0)\n",
        "  print(f'validation f1 score: {f1_score_func(predictions, true_vals)}\\n')"
      ],
      "metadata": {
        "colab": {
          "base_uri": "https://localhost:8080/"
        },
        "id": "yuRL5q-zE8ZR",
        "outputId": "0a810e66-badf-41ab-976b-c7c533ba6e10"
      },
      "execution_count": null,
      "outputs": [
        {
          "output_type": "stream",
          "name": "stdout",
          "text": [
            "Epoch: 0, Loss:  0.08221478015184402\n",
            "validation f1 score: 0.6909951586165206\n",
            "\n",
            "Epoch: 1, Loss:  0.007015754468739033\n",
            "validation f1 score: 0.708196037971321\n",
            "\n",
            "Epoch: 2, Loss:  0.018179256469011307\n",
            "validation f1 score: 0.7077696095201297\n",
            "\n",
            "Epoch: 3, Loss:  0.005397423170506954\n",
            "validation f1 score: 0.7149391940338555\n",
            "\n",
            "Epoch: 4, Loss:  0.01266382448375225\n",
            "validation f1 score: 0.699828231850815\n",
            "\n",
            "Epoch: 5, Loss:  0.007672898471355438\n",
            "validation f1 score: 0.7107757324802502\n",
            "\n",
            "Epoch: 6, Loss:  0.06034383177757263\n",
            "validation f1 score: 0.7047545318571122\n",
            "\n",
            "Epoch: 7, Loss:  0.007314646616578102\n",
            "validation f1 score: 0.7119816356326812\n",
            "\n",
            "Epoch: 8, Loss:  0.019948169589042664\n",
            "validation f1 score: 0.7114699615310291\n",
            "\n",
            "Epoch: 9, Loss:  0.0675799623131752\n",
            "validation f1 score: 0.6983971261196825\n",
            "\n",
            "Epoch: 10, Loss:  0.2218434363603592\n",
            "validation f1 score: 0.704046953902215\n",
            "\n",
            "Epoch: 11, Loss:  0.007638558745384216\n",
            "validation f1 score: 0.7122935744947549\n",
            "\n",
            "Epoch: 12, Loss:  0.14300867915153503\n",
            "validation f1 score: 0.7136616917310198\n",
            "\n",
            "Epoch: 13, Loss:  0.11203158646821976\n",
            "validation f1 score: 0.7068817541965035\n",
            "\n",
            "Epoch: 14, Loss:  0.029833000153303146\n",
            "validation f1 score: 0.7055353504079174\n",
            "\n",
            "Epoch: 15, Loss:  0.07960788905620575\n",
            "validation f1 score: 0.7208690376212404\n",
            "\n",
            "Epoch: 16, Loss:  0.001830847468227148\n",
            "validation f1 score: 0.7161741768935257\n",
            "\n",
            "Epoch: 17, Loss:  0.0016182747203856707\n",
            "validation f1 score: 0.7121980198831486\n",
            "\n",
            "Epoch: 18, Loss:  0.0021682032383978367\n",
            "validation f1 score: 0.7259097686691011\n",
            "\n",
            "Epoch: 19, Loss:  0.05029382184147835\n",
            "validation f1 score: 0.7096570358039761\n",
            "\n"
          ]
        }
      ]
    },
    {
      "cell_type": "code",
      "source": [
        "from transformers import AdamW, BertForSequenceClassification, RobertaForSequenceClassification\n",
        "from sklearn.metrics import accuracy_score\n",
        "\n",
        "model = RobertaForSequenceClassification.from_pretrained('roberta-base', num_labels=4)\n",
        "# model = BertForSequenceClassification.from_pretrained('bert-base-uncased', num_labels=4)\n",
        "optimizer = AdamW(model.parameters(), lr=1e-5, eps=1e-8)\n",
        "epochs = 20\n",
        "\n",
        "model.to(device)\n",
        "\n",
        "for epoch in range(epochs):\n",
        "  model.train()\n",
        "  for _, data in enumerate(train_dataloader, 0):\n",
        "    model.zero_grad()\n",
        "\n",
        "    ids = data['ids'].to(device, dtype = torch.long)\n",
        "    mask = data['mask'].to(device, dtype = torch.long)\n",
        "    # token_type_ids = data['token_type_ids'].to(device, dtype = torch.long)\n",
        "    targets = data['targets'].to(device, dtype = torch.float)\n",
        "\n",
        "\n",
        "    inputs = {'input_ids':      ids,\n",
        "              'attention_mask': mask,\n",
        "              'labels':         targets,\n",
        "              }\n",
        "    outputs = model(**inputs)\n",
        "\n",
        "    loss = outputs[0]\n",
        "    loss.backward()\n",
        "    if _%5000==0:\n",
        "        print(f'Epoch: {epoch}, Loss:  {loss.item()}')\n",
        "        \n",
        "    optimizer.step()\n",
        "  \n",
        "  model.eval()\n",
        "\n",
        "  loss_val_total = 0\n",
        "  predictions, true_vals = [], []\n",
        "\n",
        "  for _, data in enumerate(test_dataloader, 0):\n",
        "      \n",
        "    ids = data['ids'].to(device, dtype = torch.long)\n",
        "    mask = data['mask'].to(device, dtype = torch.long)\n",
        "    # token_type_ids = data['token_type_ids'].to(device, dtype = torch.long)\n",
        "    targets = data['targets'].to(device, dtype = torch.float)\n",
        "\n",
        "\n",
        "    inputs = {'input_ids':      ids,\n",
        "              'attention_mask': mask,\n",
        "              'labels':         targets,\n",
        "              }\n",
        "    outputs = model(**inputs)\n",
        "\n",
        "    with torch.no_grad():        \n",
        "        outputs = model(**inputs)\n",
        "        \n",
        "    loss = outputs[0]\n",
        "    logits = outputs[1]\n",
        "    loss_val_total += loss.item()\n",
        "\n",
        "    logits = logits.detach().cpu().numpy()\n",
        "    label_ids = inputs['labels'].cpu().numpy()\n",
        "    predictions.append(logits)\n",
        "    true_vals.append(label_ids)\n",
        "\n",
        "  predictions = np.concatenate(predictions, axis=0)\n",
        "  true_vals = np.concatenate(true_vals, axis=0)\n",
        "  print(f'validation f1 score: {f1_score_func(predictions, true_vals)}')\n",
        "  print(f'accuracy score: {accuracy(predictions, true_vals)}\\n')"
      ],
      "metadata": {
        "colab": {
          "base_uri": "https://localhost:8080/"
        },
        "id": "aKs9BF7ltsKQ",
        "outputId": "16b2bd39-572e-4078-f336-3b14c9d762b1"
      },
      "execution_count": null,
      "outputs": [
        {
          "output_type": "stream",
          "name": "stderr",
          "text": [
            "Some weights of the model checkpoint at roberta-base were not used when initializing RobertaForSequenceClassification: ['lm_head.dense.weight', 'lm_head.decoder.weight', 'roberta.pooler.dense.weight', 'roberta.pooler.dense.bias', 'lm_head.dense.bias', 'lm_head.layer_norm.bias', 'lm_head.bias', 'lm_head.layer_norm.weight']\n",
            "- This IS expected if you are initializing RobertaForSequenceClassification from the checkpoint of a model trained on another task or with another architecture (e.g. initializing a BertForSequenceClassification model from a BertForPreTraining model).\n",
            "- This IS NOT expected if you are initializing RobertaForSequenceClassification from the checkpoint of a model that you expect to be exactly identical (initializing a BertForSequenceClassification model from a BertForSequenceClassification model).\n",
            "Some weights of RobertaForSequenceClassification were not initialized from the model checkpoint at roberta-base and are newly initialized: ['classifier.out_proj.bias', 'classifier.dense.bias', 'classifier.dense.weight', 'classifier.out_proj.weight']\n",
            "You should probably TRAIN this model on a down-stream task to be able to use it for predictions and inference.\n"
          ]
        },
        {
          "output_type": "stream",
          "name": "stdout",
          "text": [
            "Epoch: 0, Loss:  0.7055662870407104\n",
            "validation f1 score: 0.455026455026455\n",
            "accuracy score: 0.455026455026455\n",
            "\n",
            "Epoch: 1, Loss:  0.49018508195877075\n",
            "validation f1 score: 0.5925925925925926\n",
            "accuracy score: 0.5925925925925926\n",
            "\n",
            "Epoch: 2, Loss:  0.5171648859977722\n",
            "validation f1 score: 0.6613756613756614\n",
            "accuracy score: 0.6613756613756614\n",
            "\n",
            "Epoch: 3, Loss:  0.3936106562614441\n",
            "validation f1 score: 0.6772486772486772\n",
            "accuracy score: 0.6772486772486772\n",
            "\n",
            "Epoch: 4, Loss:  0.298715740442276\n",
            "validation f1 score: 0.6666666666666666\n",
            "accuracy score: 0.6666666666666666\n",
            "\n",
            "Epoch: 5, Loss:  0.09093805402517319\n",
            "validation f1 score: 0.656084656084656\n",
            "accuracy score: 0.656084656084656\n",
            "\n",
            "Epoch: 6, Loss:  0.05812521278858185\n",
            "validation f1 score: 0.6666666666666666\n",
            "accuracy score: 0.6666666666666666\n",
            "\n",
            "Epoch: 7, Loss:  0.058351851999759674\n",
            "validation f1 score: 0.6613756613756614\n",
            "accuracy score: 0.6613756613756614\n",
            "\n",
            "Epoch: 8, Loss:  0.19535697996616364\n",
            "validation f1 score: 0.6772486772486772\n",
            "accuracy score: 0.6772486772486772\n",
            "\n",
            "Epoch: 9, Loss:  0.3067426085472107\n",
            "validation f1 score: 0.6190476190476191\n",
            "accuracy score: 0.6190476190476191\n",
            "\n",
            "Epoch: 10, Loss:  0.05582544952630997\n",
            "validation f1 score: 0.7248677248677248\n",
            "accuracy score: 0.7248677248677249\n",
            "\n",
            "Epoch: 11, Loss:  0.05266503617167473\n",
            "validation f1 score: 0.7037037037037037\n",
            "accuracy score: 0.7037037037037037\n",
            "\n",
            "Epoch: 12, Loss:  0.07120785862207413\n",
            "validation f1 score: 0.6984126984126984\n",
            "accuracy score: 0.6984126984126984\n",
            "\n",
            "Epoch: 13, Loss:  0.03332551568746567\n",
            "validation f1 score: 0.7301587301587301\n",
            "accuracy score: 0.7301587301587301\n",
            "\n",
            "Epoch: 14, Loss:  0.0692162960767746\n",
            "validation f1 score: 0.5343915343915344\n",
            "accuracy score: 0.5343915343915344\n",
            "\n",
            "Epoch: 15, Loss:  0.07867694646120071\n",
            "validation f1 score: 0.6666666666666666\n",
            "accuracy score: 0.6666666666666666\n",
            "\n",
            "Epoch: 16, Loss:  0.10081399977207184\n",
            "validation f1 score: 0.6613756613756614\n",
            "accuracy score: 0.6613756613756614\n",
            "\n",
            "Epoch: 17, Loss:  0.01467615645378828\n",
            "validation f1 score: 0.7037037037037037\n",
            "accuracy score: 0.7037037037037037\n",
            "\n",
            "Epoch: 18, Loss:  0.02256467007100582\n",
            "validation f1 score: 0.7195767195767196\n",
            "accuracy score: 0.7195767195767195\n",
            "\n",
            "Epoch: 19, Loss:  0.11531320959329605\n",
            "validation f1 score: 0.6613756613756614\n",
            "accuracy score: 0.6613756613756614\n",
            "\n"
          ]
        }
      ]
    },
    {
      "cell_type": "code",
      "source": [
        "model.to(device)\n",
        "\n",
        "model.eval()\n",
        "\n",
        "loss_val_total = 0\n",
        "predictions, true_vals = [], []\n",
        "\n",
        "for _, data in enumerate(test_dataloader, 0):\n",
        "    \n",
        "  ids = data['ids'].to(device, dtype = torch.long)\n",
        "  mask = data['mask'].to(device, dtype = torch.long)\n",
        "  # token_type_ids = data['token_type_ids'].to(device, dtype = torch.long)\n",
        "  targets = data['targets'].to(device, dtype = torch.float)\n",
        "\n",
        "\n",
        "  inputs = {'input_ids':      ids,\n",
        "            'attention_mask': mask,\n",
        "            'labels':         targets,\n",
        "            }\n",
        "  outputs = model(**inputs)\n",
        "\n",
        "  with torch.no_grad():        \n",
        "      outputs = model(**inputs)\n",
        "      \n",
        "  loss = outputs[0]\n",
        "  logits = outputs[1]\n",
        "  loss_val_total += loss.item()\n",
        "\n",
        "  logits = logits.detach().cpu().numpy()\n",
        "  label_ids = inputs['labels'].cpu().numpy()\n",
        "  predictions.append(logits)\n",
        "  true_vals.append(label_ids)\n",
        "\n",
        "predictions = np.concatenate(predictions, axis=0)\n",
        "true_vals = np.concatenate(true_vals, axis=0)"
      ],
      "metadata": {
        "id": "mV9aQUagHdqU"
      },
      "execution_count": null,
      "outputs": []
    },
    {
      "cell_type": "code",
      "source": [
        "f1_score_func(predictions, true_vals, avg='weighted')"
      ],
      "metadata": {
        "colab": {
          "base_uri": "https://localhost:8080/"
        },
        "id": "f-MZB37jLSD2",
        "outputId": "f2bf1202-52f4-43d1-f3c9-55e7af83522e"
      },
      "execution_count": null,
      "outputs": [
        {
          "output_type": "execute_result",
          "data": {
            "text/plain": [
              "0.9019395439685832"
            ]
          },
          "metadata": {},
          "execution_count": 18
        }
      ]
    },
    {
      "cell_type": "code",
      "source": [
        "torch.save(model.state_dict(), '/content/drive/MyDrive/roberta_full_20ep.pt')\n",
        "torch.save(model.state_dict(), 'bert_full.pt')"
      ],
      "metadata": {
        "id": "0oZ-_v_WMTt8"
      },
      "execution_count": null,
      "outputs": []
    },
    {
      "cell_type": "markdown",
      "source": [
        "# EXTRA CODE"
      ],
      "metadata": {
        "id": "6NXpr6-oQROb"
      }
    },
    {
      "cell_type": "markdown",
      "source": [
        "## Bert Torch Model"
      ],
      "metadata": {
        "id": "ePDQojPx0eVB"
      }
    },
    {
      "cell_type": "code",
      "source": [
        "## FROM HUGGING FACE TUTORIAL\n",
        "import transformers\n",
        "\n",
        "class BERTClass(torch.nn.Module):\n",
        "    def __init__(self):\n",
        "        super(BERTClass, self).__init__()\n",
        "        self.l1 = transformers.AutoModel.from_pretrained('bert-base-uncased')\n",
        "        self.l2 = torch.nn.Dropout(0.3)\n",
        "        self.l3 = torch.nn.Linear(768, 4)\n",
        "    \n",
        "    def forward(self, ids, mask, token_type_ids):\n",
        "        output_1 = self.l1(ids, attention_mask = mask, token_type_ids = token_type_ids)\n",
        "        output_2 = self.l2(output_1.pooler_output)\n",
        "        output = self.l3(output_2)\n",
        "        return output\n",
        "\n",
        "model = BERTClass()\n",
        "model.to(device)"
      ],
      "metadata": {
        "colab": {
          "base_uri": "https://localhost:8080/"
        },
        "id": "s2JEfmIv0hQ5",
        "outputId": "ba4e2087-a9fd-462c-edcd-49a6c1bb6f44"
      },
      "execution_count": null,
      "outputs": [
        {
          "output_type": "stream",
          "name": "stderr",
          "text": [
            "Some weights of the model checkpoint at bert-base-uncased were not used when initializing BertModel: ['cls.predictions.transform.dense.weight', 'cls.predictions.decoder.weight', 'cls.seq_relationship.weight', 'cls.predictions.transform.LayerNorm.bias', 'cls.predictions.bias', 'cls.predictions.transform.dense.bias', 'cls.seq_relationship.bias', 'cls.predictions.transform.LayerNorm.weight']\n",
            "- This IS expected if you are initializing BertModel from the checkpoint of a model trained on another task or with another architecture (e.g. initializing a BertForSequenceClassification model from a BertForPreTraining model).\n",
            "- This IS NOT expected if you are initializing BertModel from the checkpoint of a model that you expect to be exactly identical (initializing a BertForSequenceClassification model from a BertForSequenceClassification model).\n"
          ]
        },
        {
          "output_type": "execute_result",
          "data": {
            "text/plain": [
              "BERTClass(\n",
              "  (l1): BertModel(\n",
              "    (embeddings): BertEmbeddings(\n",
              "      (word_embeddings): Embedding(30522, 768, padding_idx=0)\n",
              "      (position_embeddings): Embedding(512, 768)\n",
              "      (token_type_embeddings): Embedding(2, 768)\n",
              "      (LayerNorm): LayerNorm((768,), eps=1e-12, elementwise_affine=True)\n",
              "      (dropout): Dropout(p=0.1, inplace=False)\n",
              "    )\n",
              "    (encoder): BertEncoder(\n",
              "      (layer): ModuleList(\n",
              "        (0-11): 12 x BertLayer(\n",
              "          (attention): BertAttention(\n",
              "            (self): BertSelfAttention(\n",
              "              (query): Linear(in_features=768, out_features=768, bias=True)\n",
              "              (key): Linear(in_features=768, out_features=768, bias=True)\n",
              "              (value): Linear(in_features=768, out_features=768, bias=True)\n",
              "              (dropout): Dropout(p=0.1, inplace=False)\n",
              "            )\n",
              "            (output): BertSelfOutput(\n",
              "              (dense): Linear(in_features=768, out_features=768, bias=True)\n",
              "              (LayerNorm): LayerNorm((768,), eps=1e-12, elementwise_affine=True)\n",
              "              (dropout): Dropout(p=0.1, inplace=False)\n",
              "            )\n",
              "          )\n",
              "          (intermediate): BertIntermediate(\n",
              "            (dense): Linear(in_features=768, out_features=3072, bias=True)\n",
              "            (intermediate_act_fn): GELUActivation()\n",
              "          )\n",
              "          (output): BertOutput(\n",
              "            (dense): Linear(in_features=3072, out_features=768, bias=True)\n",
              "            (LayerNorm): LayerNorm((768,), eps=1e-12, elementwise_affine=True)\n",
              "            (dropout): Dropout(p=0.1, inplace=False)\n",
              "          )\n",
              "        )\n",
              "      )\n",
              "    )\n",
              "    (pooler): BertPooler(\n",
              "      (dense): Linear(in_features=768, out_features=768, bias=True)\n",
              "      (activation): Tanh()\n",
              "    )\n",
              "  )\n",
              "  (l2): Dropout(p=0.3, inplace=False)\n",
              "  (l3): Linear(in_features=768, out_features=4, bias=True)\n",
              ")"
            ]
          },
          "metadata": {},
          "execution_count": 101
        }
      ]
    },
    {
      "cell_type": "code",
      "source": [
        "def loss_fn(outputs, targets):\n",
        "    return torch.nn.BCEWithLogitsLoss()(outputs, targets)\n",
        "\n",
        "optimizer = torch.optim.Adam(params =  model.parameters(), lr=5e-5)"
      ],
      "metadata": {
        "id": "sNRBKsPo07z9"
      },
      "execution_count": null,
      "outputs": []
    },
    {
      "cell_type": "markdown",
      "source": [
        "## Training Model"
      ],
      "metadata": {
        "id": "lp7WLmvn1DRl"
      }
    },
    {
      "cell_type": "code",
      "source": [
        "def train(epoch):\n",
        "    model.train()\n",
        "    for _,data in enumerate(train_dataloader, 0):\n",
        "        ids = data['ids'].to(device, dtype = torch.long)\n",
        "        mask = data['mask'].to(device, dtype = torch.long)\n",
        "        token_type_ids = data['token_type_ids'].to(device, dtype = torch.long)\n",
        "        targets = data['targets'].to(device, dtype = torch.float)\n",
        "\n",
        "        outputs = model(ids, mask, token_type_ids)\n",
        "\n",
        "        optimizer.zero_grad()\n",
        "        loss = loss_fn(outputs, targets)\n",
        "        if _%5000==0:\n",
        "            print(f'Epoch: {epoch}, Loss:  {loss.item()}')\n",
        "        \n",
        "        optimizer.zero_grad()\n",
        "        loss.backward()\n",
        "        optimizer.step()"
      ],
      "metadata": {
        "id": "ok_JtLfW1Cvn"
      },
      "execution_count": null,
      "outputs": []
    },
    {
      "cell_type": "code",
      "source": [
        "for epoch in range(10):\n",
        "    train(epoch)"
      ],
      "metadata": {
        "colab": {
          "base_uri": "https://localhost:8080/"
        },
        "id": "EY4qntuU1GgQ",
        "outputId": "979de59a-386e-4316-fd53-3ca85e408782"
      },
      "execution_count": null,
      "outputs": [
        {
          "output_type": "stream",
          "name": "stdout",
          "text": [
            "Epoch: 0, Loss:  0.7480684518814087\n",
            "Epoch: 1, Loss:  0.7149767875671387\n",
            "Epoch: 2, Loss:  0.7430464029312134\n",
            "Epoch: 3, Loss:  0.6640794277191162\n",
            "Epoch: 4, Loss:  0.6972668170928955\n",
            "Epoch: 5, Loss:  0.7610983848571777\n",
            "Epoch: 6, Loss:  0.7281136512756348\n",
            "Epoch: 7, Loss:  0.7171017527580261\n",
            "Epoch: 8, Loss:  0.6757694482803345\n",
            "Epoch: 9, Loss:  0.7125507593154907\n"
          ]
        }
      ]
    },
    {
      "cell_type": "markdown",
      "source": [
        "## Evaluating Model"
      ],
      "metadata": {
        "id": "UKp3jdiiC0cO"
      }
    },
    {
      "cell_type": "code",
      "source": [
        "def validation(epoch):\n",
        "    model.eval()\n",
        "    fin_targets=[]\n",
        "    fin_outputs=[]\n",
        "    with torch.no_grad():\n",
        "        for _, data in enumerate(test_dataloader, 0):\n",
        "            ids = data['ids'].to(device, dtype = torch.long)\n",
        "            mask = data['mask'].to(device, dtype = torch.long)\n",
        "            token_type_ids = data['token_type_ids'].to(device, dtype = torch.long)\n",
        "            targets = data['targets'].to(device, dtype = torch.float)\n",
        "            outputs = model(ids, mask, token_type_ids)\n",
        "            fin_targets.extend(targets.cpu().detach().numpy().tolist())\n",
        "            fin_outputs.extend(torch.sigmoid(outputs).cpu().detach().numpy().tolist())\n",
        "    return fin_outputs, fin_targets"
      ],
      "metadata": {
        "id": "7r5l8p7mC2OA"
      },
      "execution_count": null,
      "outputs": []
    },
    {
      "cell_type": "code",
      "source": [
        "from sklearn import metrics\n",
        "\n",
        "for epoch in range(1):\n",
        "    outputs, targets = validation(epoch)\n",
        "    outputs = np.array(outputs) >= 0.5\n",
        "    accuracy = metrics.accuracy_score(targets, outputs)\n",
        "    f1_score_micro = metrics.f1_score(targets, outputs, average='micro')\n",
        "    f1_score_macro = metrics.f1_score(targets, outputs, average='macro')\n",
        "    print(f\"Accuracy Score = {accuracy}\")\n",
        "    print(f\"F1 Score (Micro) = {f1_score_micro}\")\n",
        "    print(f\"F1 Score (Macro) = {f1_score_macro}\")"
      ],
      "metadata": {
        "colab": {
          "base_uri": "https://localhost:8080/",
          "height": 380
        },
        "id": "xB594EffDC6A",
        "outputId": "64b2dc6f-18f0-4c1f-f91f-7413279aea67"
      },
      "execution_count": null,
      "outputs": [
        {
          "output_type": "error",
          "ename": "ValueError",
          "evalue": "ignored",
          "traceback": [
            "\u001b[0;31m---------------------------------------------------------------------------\u001b[0m",
            "\u001b[0;31mValueError\u001b[0m                                Traceback (most recent call last)",
            "\u001b[0;32m<ipython-input-110-feb09d80c646>\u001b[0m in \u001b[0;36m<cell line: 3>\u001b[0;34m()\u001b[0m\n\u001b[1;32m      3\u001b[0m \u001b[0;32mfor\u001b[0m \u001b[0mepoch\u001b[0m \u001b[0;32min\u001b[0m \u001b[0mrange\u001b[0m\u001b[0;34m(\u001b[0m\u001b[0;36m1\u001b[0m\u001b[0;34m)\u001b[0m\u001b[0;34m:\u001b[0m\u001b[0;34m\u001b[0m\u001b[0;34m\u001b[0m\u001b[0m\n\u001b[1;32m      4\u001b[0m     \u001b[0moutputs\u001b[0m\u001b[0;34m,\u001b[0m \u001b[0mtargets\u001b[0m \u001b[0;34m=\u001b[0m \u001b[0mvalidation\u001b[0m\u001b[0;34m(\u001b[0m\u001b[0mepoch\u001b[0m\u001b[0;34m)\u001b[0m\u001b[0;34m\u001b[0m\u001b[0;34m\u001b[0m\u001b[0m\n\u001b[0;32m----> 5\u001b[0;31m     \u001b[0maccuracy\u001b[0m \u001b[0;34m=\u001b[0m \u001b[0mmetrics\u001b[0m\u001b[0;34m.\u001b[0m\u001b[0maccuracy_score\u001b[0m\u001b[0;34m(\u001b[0m\u001b[0mtargets\u001b[0m\u001b[0;34m,\u001b[0m \u001b[0moutputs\u001b[0m\u001b[0;34m)\u001b[0m\u001b[0;34m\u001b[0m\u001b[0;34m\u001b[0m\u001b[0m\n\u001b[0m\u001b[1;32m      6\u001b[0m     \u001b[0mf1_score_micro\u001b[0m \u001b[0;34m=\u001b[0m \u001b[0mmetrics\u001b[0m\u001b[0;34m.\u001b[0m\u001b[0mf1_score\u001b[0m\u001b[0;34m(\u001b[0m\u001b[0mtargets\u001b[0m\u001b[0;34m,\u001b[0m \u001b[0moutputs\u001b[0m\u001b[0;34m,\u001b[0m \u001b[0maverage\u001b[0m\u001b[0;34m=\u001b[0m\u001b[0;34m'micro'\u001b[0m\u001b[0;34m)\u001b[0m\u001b[0;34m\u001b[0m\u001b[0;34m\u001b[0m\u001b[0m\n\u001b[1;32m      7\u001b[0m     \u001b[0mf1_score_macro\u001b[0m \u001b[0;34m=\u001b[0m \u001b[0mmetrics\u001b[0m\u001b[0;34m.\u001b[0m\u001b[0mf1_score\u001b[0m\u001b[0;34m(\u001b[0m\u001b[0mtargets\u001b[0m\u001b[0;34m,\u001b[0m \u001b[0moutputs\u001b[0m\u001b[0;34m,\u001b[0m \u001b[0maverage\u001b[0m\u001b[0;34m=\u001b[0m\u001b[0;34m'macro'\u001b[0m\u001b[0;34m)\u001b[0m\u001b[0;34m\u001b[0m\u001b[0;34m\u001b[0m\u001b[0m\n",
            "\u001b[0;32m/usr/local/lib/python3.9/dist-packages/sklearn/utils/_param_validation.py\u001b[0m in \u001b[0;36mwrapper\u001b[0;34m(*args, **kwargs)\u001b[0m\n\u001b[1;32m    190\u001b[0m \u001b[0;34m\u001b[0m\u001b[0m\n\u001b[1;32m    191\u001b[0m             \u001b[0;32mtry\u001b[0m\u001b[0;34m:\u001b[0m\u001b[0;34m\u001b[0m\u001b[0;34m\u001b[0m\u001b[0m\n\u001b[0;32m--> 192\u001b[0;31m                 \u001b[0;32mreturn\u001b[0m \u001b[0mfunc\u001b[0m\u001b[0;34m(\u001b[0m\u001b[0;34m*\u001b[0m\u001b[0margs\u001b[0m\u001b[0;34m,\u001b[0m \u001b[0;34m**\u001b[0m\u001b[0mkwargs\u001b[0m\u001b[0;34m)\u001b[0m\u001b[0;34m\u001b[0m\u001b[0;34m\u001b[0m\u001b[0m\n\u001b[0m\u001b[1;32m    193\u001b[0m             \u001b[0;32mexcept\u001b[0m \u001b[0mInvalidParameterError\u001b[0m \u001b[0;32mas\u001b[0m \u001b[0me\u001b[0m\u001b[0;34m:\u001b[0m\u001b[0;34m\u001b[0m\u001b[0;34m\u001b[0m\u001b[0m\n\u001b[1;32m    194\u001b[0m                 \u001b[0;31m# When the function is just a wrapper around an estimator, we allow\u001b[0m\u001b[0;34m\u001b[0m\u001b[0;34m\u001b[0m\u001b[0m\n",
            "\u001b[0;32m/usr/local/lib/python3.9/dist-packages/sklearn/metrics/_classification.py\u001b[0m in \u001b[0;36maccuracy_score\u001b[0;34m(y_true, y_pred, normalize, sample_weight)\u001b[0m\n\u001b[1;32m    219\u001b[0m \u001b[0;34m\u001b[0m\u001b[0m\n\u001b[1;32m    220\u001b[0m     \u001b[0;31m# Compute accuracy for each possible representation\u001b[0m\u001b[0;34m\u001b[0m\u001b[0;34m\u001b[0m\u001b[0m\n\u001b[0;32m--> 221\u001b[0;31m     \u001b[0my_type\u001b[0m\u001b[0;34m,\u001b[0m \u001b[0my_true\u001b[0m\u001b[0;34m,\u001b[0m \u001b[0my_pred\u001b[0m \u001b[0;34m=\u001b[0m \u001b[0m_check_targets\u001b[0m\u001b[0;34m(\u001b[0m\u001b[0my_true\u001b[0m\u001b[0;34m,\u001b[0m \u001b[0my_pred\u001b[0m\u001b[0;34m)\u001b[0m\u001b[0;34m\u001b[0m\u001b[0;34m\u001b[0m\u001b[0m\n\u001b[0m\u001b[1;32m    222\u001b[0m     \u001b[0mcheck_consistent_length\u001b[0m\u001b[0;34m(\u001b[0m\u001b[0my_true\u001b[0m\u001b[0;34m,\u001b[0m \u001b[0my_pred\u001b[0m\u001b[0;34m,\u001b[0m \u001b[0msample_weight\u001b[0m\u001b[0;34m)\u001b[0m\u001b[0;34m\u001b[0m\u001b[0;34m\u001b[0m\u001b[0m\n\u001b[1;32m    223\u001b[0m     \u001b[0;32mif\u001b[0m \u001b[0my_type\u001b[0m\u001b[0;34m.\u001b[0m\u001b[0mstartswith\u001b[0m\u001b[0;34m(\u001b[0m\u001b[0;34m\"multilabel\"\u001b[0m\u001b[0;34m)\u001b[0m\u001b[0;34m:\u001b[0m\u001b[0;34m\u001b[0m\u001b[0;34m\u001b[0m\u001b[0m\n",
            "\u001b[0;32m/usr/local/lib/python3.9/dist-packages/sklearn/metrics/_classification.py\u001b[0m in \u001b[0;36m_check_targets\u001b[0;34m(y_true, y_pred)\u001b[0m\n\u001b[1;32m     93\u001b[0m \u001b[0;34m\u001b[0m\u001b[0m\n\u001b[1;32m     94\u001b[0m     \u001b[0;32mif\u001b[0m \u001b[0mlen\u001b[0m\u001b[0;34m(\u001b[0m\u001b[0my_type\u001b[0m\u001b[0;34m)\u001b[0m \u001b[0;34m>\u001b[0m \u001b[0;36m1\u001b[0m\u001b[0;34m:\u001b[0m\u001b[0;34m\u001b[0m\u001b[0;34m\u001b[0m\u001b[0m\n\u001b[0;32m---> 95\u001b[0;31m         raise ValueError(\n\u001b[0m\u001b[1;32m     96\u001b[0m             \"Classification metrics can't handle a mix of {0} and {1} targets\".format(\n\u001b[1;32m     97\u001b[0m                 \u001b[0mtype_true\u001b[0m\u001b[0;34m,\u001b[0m \u001b[0mtype_pred\u001b[0m\u001b[0;34m\u001b[0m\u001b[0;34m\u001b[0m\u001b[0m\n",
            "\u001b[0;31mValueError\u001b[0m: Classification metrics can't handle a mix of multilabel-indicator and continuous-multioutput targets"
          ]
        }
      ]
    },
    {
      "cell_type": "code",
      "source": [
        "targets.view(-1, 1)"
      ],
      "metadata": {
        "colab": {
          "base_uri": "https://localhost:8080/"
        },
        "id": "O3h-H9yAE8ob",
        "outputId": "c2276da8-daa4-4974-f246-ae15c0f828c4"
      },
      "execution_count": null,
      "outputs": [
        {
          "output_type": "execute_result",
          "data": {
            "text/plain": [
              "tensor([[1.],\n",
              "        [2.],\n",
              "        [0.],\n",
              "        [0.],\n",
              "        [2.],\n",
              "        [3.],\n",
              "        [3.],\n",
              "        [1.]], device='cuda:0')"
            ]
          },
          "metadata": {},
          "execution_count": 140
        }
      ]
    },
    {
      "cell_type": "code",
      "source": [
        "l1 = transformers.AutoModel.from_pretrained('bert-base-uncased')\n",
        "l1.to(device)\n",
        "\n",
        "for _,data in enumerate(train_dataloader, 0):\n",
        "  ids = data['ids'].to(device, dtype = torch.long)\n",
        "  mask = data['mask'].to(device, dtype = torch.long)\n",
        "  token_type_ids = data['token_type_ids'].to(device, dtype = torch.long)\n",
        "  targets = data['targets'].to(device, dtype = torch.float)\n",
        "  output = l1(ids, attention_mask = mask, token_type_ids = token_type_ids)\n",
        "  break\n",
        "\n",
        "output"
      ],
      "metadata": {
        "colab": {
          "base_uri": "https://localhost:8080/"
        },
        "id": "2LV9ej6l2STc",
        "outputId": "108b132e-ec16-470d-bb09-de636d592a5e"
      },
      "execution_count": null,
      "outputs": [
        {
          "output_type": "stream",
          "name": "stderr",
          "text": [
            "Some weights of the model checkpoint at bert-base-uncased were not used when initializing BertModel: ['cls.predictions.transform.dense.weight', 'cls.predictions.decoder.weight', 'cls.seq_relationship.weight', 'cls.predictions.transform.LayerNorm.bias', 'cls.predictions.bias', 'cls.predictions.transform.dense.bias', 'cls.seq_relationship.bias', 'cls.predictions.transform.LayerNorm.weight']\n",
            "- This IS expected if you are initializing BertModel from the checkpoint of a model trained on another task or with another architecture (e.g. initializing a BertForSequenceClassification model from a BertForPreTraining model).\n",
            "- This IS NOT expected if you are initializing BertModel from the checkpoint of a model that you expect to be exactly identical (initializing a BertForSequenceClassification model from a BertForSequenceClassification model).\n"
          ]
        },
        {
          "output_type": "execute_result",
          "data": {
            "text/plain": [
              "BaseModelOutputWithPoolingAndCrossAttentions(last_hidden_state=tensor([[[ 2.6459e-01, -1.9286e-01,  7.1726e-02,  ..., -5.2766e-01,\n",
              "           2.7746e-01,  5.6715e-01],\n",
              "         [ 1.0101e+00,  2.5182e-01,  1.8874e-01,  ..., -2.5099e-01,\n",
              "           7.0506e-01, -1.9245e-01],\n",
              "         [-1.2797e-01, -8.6344e-01,  3.9861e-01,  ...,  1.2911e-01,\n",
              "           4.0444e-01, -2.0692e-01],\n",
              "         ...,\n",
              "         [ 1.2174e-01, -2.1731e-01,  3.7862e-01,  ..., -1.8380e-01,\n",
              "           1.2450e-01, -1.8706e-01],\n",
              "         [ 1.6440e-01, -1.8974e-02,  4.0044e-01,  ..., -2.4619e-01,\n",
              "           1.4500e-02,  8.4880e-02],\n",
              "         [ 1.4552e-01, -6.0465e-04,  4.0684e-01,  ..., -2.9226e-01,\n",
              "           1.4789e-02,  1.1906e-01]],\n",
              "\n",
              "        [[-6.9482e-02,  1.6218e-01, -2.0291e-01,  ..., -5.6628e-02,\n",
              "           3.2102e-01,  2.3729e-01],\n",
              "         [ 2.8158e-01, -7.7528e-01,  9.1576e-01,  ...,  2.6946e-01,\n",
              "           5.2713e-01, -3.6308e-01],\n",
              "         [ 5.6524e-01, -3.3583e-01,  8.6868e-01,  ...,  1.0463e-01,\n",
              "           7.6443e-02, -4.0382e-01],\n",
              "         ...,\n",
              "         [-1.6838e-02,  6.0083e-02,  2.4819e-01,  ...,  3.2501e-01,\n",
              "           1.9099e-01, -8.2098e-02],\n",
              "         [-3.9520e-02,  3.5029e-02,  2.2097e-01,  ...,  3.4823e-01,\n",
              "           1.8653e-01, -3.1795e-02],\n",
              "         [ 1.6632e-01,  9.5194e-02,  2.9606e-01,  ...,  3.0843e-01,\n",
              "           2.4391e-01, -1.0656e-01]],\n",
              "\n",
              "        [[ 9.5242e-02,  2.8013e-02,  2.6746e-01,  ..., -3.2224e-01,\n",
              "          -4.0977e-02,  6.2204e-01],\n",
              "         [ 1.3019e+00, -2.6515e-02,  6.1020e-01,  ...,  1.0290e-01,\n",
              "           1.5338e-01,  8.8464e-01],\n",
              "         [ 8.8542e-01,  4.4483e-01,  1.3494e+00,  ..., -1.6316e-01,\n",
              "          -8.2271e-02,  7.6394e-01],\n",
              "         ...,\n",
              "         [-1.1833e-01, -2.8135e-01,  5.7595e-01,  ...,  4.1668e-01,\n",
              "          -2.3271e-01,  1.0956e-02],\n",
              "         [ 1.9766e-01,  1.6908e-01,  6.9203e-01,  ...,  1.1874e-01,\n",
              "          -2.3413e-01,  2.9899e-01],\n",
              "         [ 4.0781e-01,  3.2301e-01,  6.2780e-01,  ..., -1.1123e-01,\n",
              "          -5.2871e-01,  2.6306e-01]],\n",
              "\n",
              "        ...,\n",
              "\n",
              "        [[ 2.3362e-01,  1.7204e-01, -1.9440e-01,  ..., -1.9276e-01,\n",
              "           2.5039e-01,  5.1535e-01],\n",
              "         [ 4.0049e-01,  9.0639e-02,  7.0935e-02,  ...,  2.1658e-01,\n",
              "           7.1416e-01,  5.3418e-01],\n",
              "         [ 8.1714e-01,  2.5471e-01, -2.0031e-01,  ..., -1.5761e-01,\n",
              "          -4.1429e-01, -3.4441e-01],\n",
              "         ...,\n",
              "         [ 1.6749e-01, -1.9672e-02,  6.3851e-01,  ...,  1.3860e-01,\n",
              "          -2.9871e-01, -4.5232e-02],\n",
              "         [ 3.4498e-01,  1.6137e-02,  5.9979e-01,  ...,  2.6892e-01,\n",
              "          -2.3934e-01, -1.2097e-01],\n",
              "         [ 3.9054e-01,  8.5713e-02,  5.3292e-01,  ...,  2.6545e-01,\n",
              "          -1.9893e-01, -1.4794e-01]],\n",
              "\n",
              "        [[ 2.0886e-01,  6.7362e-02,  1.1973e-01,  ..., -1.8620e-01,\n",
              "           2.0899e-01,  4.8395e-01],\n",
              "         [ 2.3444e-01,  6.8861e-02, -3.3995e-01,  ...,  1.3625e-01,\n",
              "           8.6918e-01,  2.4860e-01],\n",
              "         [ 2.9552e-01, -5.2394e-01,  2.8158e-01,  ..., -7.5964e-02,\n",
              "           2.4173e-01,  1.6195e-01],\n",
              "         ...,\n",
              "         [ 7.3822e-02, -2.0734e-01, -2.7391e-01,  ...,  2.2517e-01,\n",
              "           1.8564e-01, -9.0587e-02],\n",
              "         [ 2.3656e-01,  1.8323e-01,  1.4397e-01,  ...,  3.2589e-01,\n",
              "           9.8426e-02, -8.5036e-02],\n",
              "         [ 3.7755e-01,  2.8344e-01,  3.1131e-01,  ...,  2.7265e-01,\n",
              "           6.9423e-02,  7.2813e-02]],\n",
              "\n",
              "        [[-3.8298e-01,  5.3583e-02,  3.2685e-01,  ..., -4.5403e-01,\n",
              "          -1.4900e-01,  6.3621e-01],\n",
              "         [ 2.6328e-01, -5.3439e-01,  1.0932e+00,  ..., -1.7829e-01,\n",
              "           1.7482e-01,  3.0163e-01],\n",
              "         [-8.6385e-01, -8.1340e-01,  6.1688e-01,  ...,  2.7764e-01,\n",
              "           4.6645e-02,  4.6962e-01],\n",
              "         ...,\n",
              "         [-1.2280e-01, -2.7780e-01,  8.7058e-01,  ..., -7.3745e-02,\n",
              "          -3.3825e-01,  9.9636e-02],\n",
              "         [-1.7893e-01, -3.0305e-01,  8.8805e-01,  ..., -6.4792e-02,\n",
              "          -3.3439e-01,  8.5084e-02],\n",
              "         [-1.4379e-01, -2.8591e-01,  8.9793e-01,  ..., -2.6774e-02,\n",
              "          -3.7345e-01,  9.6278e-02]]], device='cuda:0',\n",
              "       grad_fn=<NativeLayerNormBackward0>), pooler_output=tensor([[-0.8004, -0.2426, -0.5923,  ..., -0.5766, -0.5916,  0.8726],\n",
              "        [-0.8634, -0.2295, -0.1737,  ..., -0.1811, -0.5893,  0.9003],\n",
              "        [-0.8926, -0.3808, -0.9262,  ..., -0.8041, -0.7390,  0.8903],\n",
              "        ...,\n",
              "        [-0.9502, -0.5622, -0.9730,  ..., -0.8854, -0.8172,  0.9561],\n",
              "        [-0.8457, -0.1794, -0.5814,  ..., -0.5611, -0.6099,  0.9085],\n",
              "        [-0.9238, -0.2630, -0.7577,  ..., -0.4325, -0.6529,  0.9337]],\n",
              "       device='cuda:0', grad_fn=<TanhBackward0>), hidden_states=None, past_key_values=None, attentions=None, cross_attentions=None)"
            ]
          },
          "metadata": {},
          "execution_count": 45
        }
      ]
    },
    {
      "cell_type": "code",
      "source": [
        "from transformers import AutoModelForSequenceClassification\n",
        "\n",
        "model = AutoModelForSequenceClassification.from_pretrained('bert-base-uncased', num_labels=4)"
      ],
      "metadata": {
        "colab": {
          "base_uri": "https://localhost:8080/",
          "height": 156,
          "referenced_widgets": [
            "cc219c26e2a74b089d3e48f1f437b565",
            "4594ea6554ea4bb2ae3df91dd4473694",
            "e9a91c27b3864c38be46aa39c4b47742",
            "7c91c1bb7526424aa839af16e522aab3",
            "092d6aa745cf4d16be8ff8e19c0e3c8c",
            "8a0eea112f0846268846af899bda5c91",
            "6a74c8e8397d4e3cae01b5c00604c9b5",
            "36260bc0476d438a98ca110b9921175b",
            "9a059a01ea7b4b268c8f13f3b41fe3d3",
            "7d5bc2e25cbe4e739e244db21247e5a1",
            "ca4268b41e424abd965b3e96ecf299e5"
          ]
        },
        "id": "mMhb6FkatVa5",
        "outputId": "988f5df4-96fe-45d6-cded-39e63ead8baf"
      },
      "execution_count": null,
      "outputs": [
        {
          "output_type": "display_data",
          "data": {
            "text/plain": [
              "Downloading pytorch_model.bin:   0%|          | 0.00/440M [00:00<?, ?B/s]"
            ],
            "application/vnd.jupyter.widget-view+json": {
              "version_major": 2,
              "version_minor": 0,
              "model_id": "cc219c26e2a74b089d3e48f1f437b565"
            }
          },
          "metadata": {}
        },
        {
          "output_type": "stream",
          "name": "stderr",
          "text": [
            "Some weights of the model checkpoint at bert-base-uncased were not used when initializing BertForSequenceClassification: ['cls.predictions.transform.LayerNorm.weight', 'cls.predictions.bias', 'cls.predictions.transform.dense.weight', 'cls.predictions.decoder.weight', 'cls.predictions.transform.LayerNorm.bias', 'cls.predictions.transform.dense.bias', 'cls.seq_relationship.bias', 'cls.seq_relationship.weight']\n",
            "- This IS expected if you are initializing BertForSequenceClassification from the checkpoint of a model trained on another task or with another architecture (e.g. initializing a BertForSequenceClassification model from a BertForPreTraining model).\n",
            "- This IS NOT expected if you are initializing BertForSequenceClassification from the checkpoint of a model that you expect to be exactly identical (initializing a BertForSequenceClassification model from a BertForSequenceClassification model).\n",
            "Some weights of BertForSequenceClassification were not initialized from the model checkpoint at bert-base-uncased and are newly initialized: ['classifier.weight', 'classifier.bias']\n",
            "You should probably TRAIN this model on a down-stream task to be able to use it for predictions and inference.\n"
          ]
        }
      ]
    },
    {
      "cell_type": "code",
      "source": [
        "from torch.optim import AdamW\n",
        "\n",
        "optimizer = AdamW(model.parameters(), lr=5e-5)"
      ],
      "metadata": {
        "id": "XPBNm-_hthku"
      },
      "execution_count": null,
      "outputs": []
    },
    {
      "cell_type": "markdown",
      "source": [
        "# Saving the train and test data"
      ],
      "metadata": {
        "id": "WHoth4y__JLf"
      }
    },
    {
      "cell_type": "code",
      "source": [
        "import pandas as pd\n",
        "from sklearn.model_selection import train_test_split\n",
        "# df = pd.read_csv(r'/content/drive/MyDrive/IEMOCAP_DataFrame.csv')\n",
        "df = pd.read_csv(r'/content/drive/MyDrive/IEMOCAP_Full.csv')\n",
        "\n",
        "# Removing values where emotion is \"xxx\"\n",
        "df_emotion = df[df['Emotion'].isin(['neu', 'ang', 'sad', 'hap'])]\n",
        "\n",
        "convention = { \"neu\":0, \"ang\":1, \"sad\":2, \"hap\":3}\n",
        "df_emotion.loc[df[\"Emotion\"] == \"neu\", \"Emotion\"] = 0\n",
        "df_emotion.loc[df[\"Emotion\"] == \"ang\", \"Emotion\"] = 1\n",
        "df_emotion.loc[df[\"Emotion\"] == \"sad\", \"Emotion\"] = 2\n",
        "df_emotion.loc[df[\"Emotion\"] == \"hap\", \"Emotion\"] = 3"
      ],
      "metadata": {
        "id": "vC7NGw6v_SEP"
      },
      "execution_count": null,
      "outputs": []
    },
    {
      "cell_type": "code",
      "source": [
        "# Split the data into train and test sets\n",
        "train_df, test_df = train_test_split(df_emotion, stratify=df_emotion[\"Emotion\"], test_size=0.2)\n",
        "\n",
        "# Save the resulting dataframes as CSV files\n",
        "train_df.to_csv(r'/content/drive/MyDrive/train.csv', index=False)\n",
        "test_df.to_csv(r'/content/drive/MyDrive/test.csv', index=False)"
      ],
      "metadata": {
        "id": "hxRfDkZnboqw"
      },
      "execution_count": null,
      "outputs": []
    },
    {
      "cell_type": "code",
      "source": [
        "train_df.head()"
      ],
      "metadata": {
        "colab": {
          "base_uri": "https://localhost:8080/",
          "height": 354
        },
        "id": "eMsJb7Svb9BT",
        "outputId": "3a123e5a-ca73-4b52-8934-4c199a92ba80"
      },
      "execution_count": null,
      "outputs": [
        {
          "output_type": "execute_result",
          "data": {
            "text/plain": [
              "      Unnamed: 0                      ID              Timestamp  \\\n",
              "1200          51     Ses01M_impro06_M022  [181.8077 - 184.8600]   \n",
              "92            24     Ses01F_impro03_F024  [103.7800 - 108.1825]   \n",
              "1771          38  Ses01M_script03_2_F038  [293.3600 - 298.5300]   \n",
              "1762          29  Ses01M_script03_2_F029  [243.2700 - 245.2725]   \n",
              "578           39  Ses01F_script02_1_M013    [73.1527 - 77.1400]   \n",
              "\n",
              "                                                   Text Emotion  Valence  \\\n",
              "1200                  He was a really, really good guy.       2   2.5000   \n",
              "92     Well so now we're married. We have cat children.       3   4.3333   \n",
              "1771  listen Oh I'm sick and tired of listening to y...       1   1.5000   \n",
              "1762                                           Shut up.       1   2.0000   \n",
              "578   Do they always run during a full moon?  I don'...       0   3.0000   \n",
              "\n",
              "      Activation  Dominance  \n",
              "1200         2.0     3.0000  \n",
              "92           3.0     2.6667  \n",
              "1771         4.5     4.5000  \n",
              "1762         3.5     4.5000  \n",
              "578          3.0     2.0000  "
            ],
            "text/html": [
              "\n",
              "  <div id=\"df-c37c5b60-bd0a-4d26-8a10-5e23fac4f3ca\">\n",
              "    <div class=\"colab-df-container\">\n",
              "      <div>\n",
              "<style scoped>\n",
              "    .dataframe tbody tr th:only-of-type {\n",
              "        vertical-align: middle;\n",
              "    }\n",
              "\n",
              "    .dataframe tbody tr th {\n",
              "        vertical-align: top;\n",
              "    }\n",
              "\n",
              "    .dataframe thead th {\n",
              "        text-align: right;\n",
              "    }\n",
              "</style>\n",
              "<table border=\"1\" class=\"dataframe\">\n",
              "  <thead>\n",
              "    <tr style=\"text-align: right;\">\n",
              "      <th></th>\n",
              "      <th>Unnamed: 0</th>\n",
              "      <th>ID</th>\n",
              "      <th>Timestamp</th>\n",
              "      <th>Text</th>\n",
              "      <th>Emotion</th>\n",
              "      <th>Valence</th>\n",
              "      <th>Activation</th>\n",
              "      <th>Dominance</th>\n",
              "    </tr>\n",
              "  </thead>\n",
              "  <tbody>\n",
              "    <tr>\n",
              "      <th>1200</th>\n",
              "      <td>51</td>\n",
              "      <td>Ses01M_impro06_M022</td>\n",
              "      <td>[181.8077 - 184.8600]</td>\n",
              "      <td>He was a really, really good guy.</td>\n",
              "      <td>2</td>\n",
              "      <td>2.5000</td>\n",
              "      <td>2.0</td>\n",
              "      <td>3.0000</td>\n",
              "    </tr>\n",
              "    <tr>\n",
              "      <th>92</th>\n",
              "      <td>24</td>\n",
              "      <td>Ses01F_impro03_F024</td>\n",
              "      <td>[103.7800 - 108.1825]</td>\n",
              "      <td>Well so now we're married. We have cat children.</td>\n",
              "      <td>3</td>\n",
              "      <td>4.3333</td>\n",
              "      <td>3.0</td>\n",
              "      <td>2.6667</td>\n",
              "    </tr>\n",
              "    <tr>\n",
              "      <th>1771</th>\n",
              "      <td>38</td>\n",
              "      <td>Ses01M_script03_2_F038</td>\n",
              "      <td>[293.3600 - 298.5300]</td>\n",
              "      <td>listen Oh I'm sick and tired of listening to y...</td>\n",
              "      <td>1</td>\n",
              "      <td>1.5000</td>\n",
              "      <td>4.5</td>\n",
              "      <td>4.5000</td>\n",
              "    </tr>\n",
              "    <tr>\n",
              "      <th>1762</th>\n",
              "      <td>29</td>\n",
              "      <td>Ses01M_script03_2_F029</td>\n",
              "      <td>[243.2700 - 245.2725]</td>\n",
              "      <td>Shut up.</td>\n",
              "      <td>1</td>\n",
              "      <td>2.0000</td>\n",
              "      <td>3.5</td>\n",
              "      <td>4.5000</td>\n",
              "    </tr>\n",
              "    <tr>\n",
              "      <th>578</th>\n",
              "      <td>39</td>\n",
              "      <td>Ses01F_script02_1_M013</td>\n",
              "      <td>[73.1527 - 77.1400]</td>\n",
              "      <td>Do they always run during a full moon?  I don'...</td>\n",
              "      <td>0</td>\n",
              "      <td>3.0000</td>\n",
              "      <td>3.0</td>\n",
              "      <td>2.0000</td>\n",
              "    </tr>\n",
              "  </tbody>\n",
              "</table>\n",
              "</div>\n",
              "      <button class=\"colab-df-convert\" onclick=\"convertToInteractive('df-c37c5b60-bd0a-4d26-8a10-5e23fac4f3ca')\"\n",
              "              title=\"Convert this dataframe to an interactive table.\"\n",
              "              style=\"display:none;\">\n",
              "        \n",
              "  <svg xmlns=\"http://www.w3.org/2000/svg\" height=\"24px\"viewBox=\"0 0 24 24\"\n",
              "       width=\"24px\">\n",
              "    <path d=\"M0 0h24v24H0V0z\" fill=\"none\"/>\n",
              "    <path d=\"M18.56 5.44l.94 2.06.94-2.06 2.06-.94-2.06-.94-.94-2.06-.94 2.06-2.06.94zm-11 1L8.5 8.5l.94-2.06 2.06-.94-2.06-.94L8.5 2.5l-.94 2.06-2.06.94zm10 10l.94 2.06.94-2.06 2.06-.94-2.06-.94-.94-2.06-.94 2.06-2.06.94z\"/><path d=\"M17.41 7.96l-1.37-1.37c-.4-.4-.92-.59-1.43-.59-.52 0-1.04.2-1.43.59L10.3 9.45l-7.72 7.72c-.78.78-.78 2.05 0 2.83L4 21.41c.39.39.9.59 1.41.59.51 0 1.02-.2 1.41-.59l7.78-7.78 2.81-2.81c.8-.78.8-2.07 0-2.86zM5.41 20L4 18.59l7.72-7.72 1.47 1.35L5.41 20z\"/>\n",
              "  </svg>\n",
              "      </button>\n",
              "      \n",
              "  <style>\n",
              "    .colab-df-container {\n",
              "      display:flex;\n",
              "      flex-wrap:wrap;\n",
              "      gap: 12px;\n",
              "    }\n",
              "\n",
              "    .colab-df-convert {\n",
              "      background-color: #E8F0FE;\n",
              "      border: none;\n",
              "      border-radius: 50%;\n",
              "      cursor: pointer;\n",
              "      display: none;\n",
              "      fill: #1967D2;\n",
              "      height: 32px;\n",
              "      padding: 0 0 0 0;\n",
              "      width: 32px;\n",
              "    }\n",
              "\n",
              "    .colab-df-convert:hover {\n",
              "      background-color: #E2EBFA;\n",
              "      box-shadow: 0px 1px 2px rgba(60, 64, 67, 0.3), 0px 1px 3px 1px rgba(60, 64, 67, 0.15);\n",
              "      fill: #174EA6;\n",
              "    }\n",
              "\n",
              "    [theme=dark] .colab-df-convert {\n",
              "      background-color: #3B4455;\n",
              "      fill: #D2E3FC;\n",
              "    }\n",
              "\n",
              "    [theme=dark] .colab-df-convert:hover {\n",
              "      background-color: #434B5C;\n",
              "      box-shadow: 0px 1px 3px 1px rgba(0, 0, 0, 0.15);\n",
              "      filter: drop-shadow(0px 1px 2px rgba(0, 0, 0, 0.3));\n",
              "      fill: #FFFFFF;\n",
              "    }\n",
              "  </style>\n",
              "\n",
              "      <script>\n",
              "        const buttonEl =\n",
              "          document.querySelector('#df-c37c5b60-bd0a-4d26-8a10-5e23fac4f3ca button.colab-df-convert');\n",
              "        buttonEl.style.display =\n",
              "          google.colab.kernel.accessAllowed ? 'block' : 'none';\n",
              "\n",
              "        async function convertToInteractive(key) {\n",
              "          const element = document.querySelector('#df-c37c5b60-bd0a-4d26-8a10-5e23fac4f3ca');\n",
              "          const dataTable =\n",
              "            await google.colab.kernel.invokeFunction('convertToInteractive',\n",
              "                                                     [key], {});\n",
              "          if (!dataTable) return;\n",
              "\n",
              "          const docLinkHtml = 'Like what you see? Visit the ' +\n",
              "            '<a target=\"_blank\" href=https://colab.research.google.com/notebooks/data_table.ipynb>data table notebook</a>'\n",
              "            + ' to learn more about interactive tables.';\n",
              "          element.innerHTML = '';\n",
              "          dataTable['output_type'] = 'display_data';\n",
              "          await google.colab.output.renderOutput(dataTable, element);\n",
              "          const docLink = document.createElement('div');\n",
              "          docLink.innerHTML = docLinkHtml;\n",
              "          element.appendChild(docLink);\n",
              "        }\n",
              "      </script>\n",
              "    </div>\n",
              "  </div>\n",
              "  "
            ]
          },
          "metadata": {},
          "execution_count": 6
        }
      ]
    },
    {
      "cell_type": "code",
      "source": [],
      "metadata": {
        "id": "vAlM8jq9A7Rr"
      },
      "execution_count": null,
      "outputs": []
    }
  ]
}